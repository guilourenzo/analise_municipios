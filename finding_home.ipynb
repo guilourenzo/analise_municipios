{
 "cells": [
  {
   "cell_type": "markdown",
   "metadata": {},
   "source": [
    "# TODO\n",
    "\n",
    "- [x] IDENTIFICAÇÃO DAS CIDADES LITORÂNEAS  \n",
    "- [x] LEVANTAMENTO DA QUANTIDADE DE HOSPITAIS  \n",
    "- [ ] LEVANTAMENTO DA SEGURANÇA  \n",
    "- [ ] LEVANTAMENTO DA MÉDIA DE ALUGUÉIS  \n",
    "- [x] LEVANTAMENTO DOS PREÇOS DE ALIMENTO"
   ]
  },
  {
   "cell_type": "markdown",
   "metadata": {},
   "source": [
    "# IMPORTAÇÃO DE BIBLIOTECAS"
   ]
  },
  {
   "cell_type": "code",
   "execution_count": 1,
   "metadata": {},
   "outputs": [],
   "source": [
    "import polars as pl\n",
    "import os\n",
    "import duckdb"
   ]
  },
  {
   "cell_type": "code",
   "execution_count": 2,
   "metadata": {},
   "outputs": [],
   "source": [
    "AUXILIAR_PATH = r'finding-home/finding_home/auxiliar/'"
   ]
  },
  {
   "cell_type": "markdown",
   "metadata": {},
   "source": [
    "# IMPORTAÇÃO DE DADOS"
   ]
  },
  {
   "cell_type": "markdown",
   "metadata": {},
   "source": [
    "## CIDADES"
   ]
  },
  {
   "cell_type": "code",
   "execution_count": 3,
   "metadata": {},
   "outputs": [],
   "source": [
    "from unicodedata import normalize \n",
    "def custnorm(In_series):\n",
    "    for i, x in enumerate(In_series):\n",
    "        newvalue = normalize('NFKD',x).encode('ascii', errors='ignore').decode('utf-8')\n",
    "        if newvalue != x:\n",
    "            In_series[i]=newvalue\n",
    "    return In_series"
   ]
  },
  {
   "cell_type": "code",
   "execution_count": 4,
   "metadata": {},
   "outputs": [
    {
     "name": "stderr",
     "output_type": "stream",
     "text": [
      "/tmp/ipykernel_890/3017128636.py:4: DeprecationWarning: `map` is deprecated. It has been renamed to `map_batches`.\n",
      "  .with_columns(pl.col('MUNICIPIO').map(custnorm).alias('MUNICIPIO'))\n"
     ]
    }
   ],
   "source": [
    "cities = pl.read_csv(os.path.join(AUXILIAR_PATH, 'CIDADES_LITORANEAS_IBGE.csv'), separator=';') \\\n",
    "           .filter(pl.col('NM_REGIAO').is_in(['Sul', 'Sudeste', 'Nordeste'])) \\\n",
    "           .with_columns(pl.col('NM_MUN').str.to_uppercase().alias('MUNICIPIO')) \\\n",
    "           .with_columns(pl.col('MUNICIPIO').map(custnorm).alias('MUNICIPIO'))"
   ]
  },
  {
   "cell_type": "markdown",
   "metadata": {},
   "source": [
    "## HOSPITAIS"
   ]
  },
  {
   "cell_type": "code",
   "execution_count": 5,
   "metadata": {},
   "outputs": [],
   "source": [
    "hospitals = pl.read_csv(os.path.join(AUXILIAR_PATH, 'hospitais.csv'), separator='|', encoding='cp1252', truncate_ragged_lines=True)"
   ]
  },
  {
   "cell_type": "code",
   "execution_count": 6,
   "metadata": {},
   "outputs": [],
   "source": [
    "hospitals_stat = duckdb.sql(\"\"\"\n",
    "                            SELECT \n",
    "                                    REGIAO\n",
    "                                ,   UF\n",
    "                                ,   MUNICIPIO\n",
    "                                ,   DESC_NATUREZA_JURIDICA\n",
    "                                ,   SUM(CASE WHEN DS_TIPO_UNIDADE == 'HOSPITAL GERAL' THEN 1 ELSE 0 END) AS HOSPITAL_GERAL\n",
    "                                ,   SUM(CASE WHEN DS_TIPO_UNIDADE == 'PRONTO SOCORRO GERAL' THEN 1 ELSE 0 END) AS PRONTO_SOCORRO_GERAL \n",
    "                                ,   SUM(CASE WHEN DS_TIPO_UNIDADE == 'UNIDADE MISTA' THEN 1 ELSE 0 END) AS UNIDADE_MISTA\n",
    "                            \n",
    "                            FROM hospitals\n",
    "                            GROUP BY REGIAO\n",
    "                                ,   UF\n",
    "                                ,   MUNICIPIO\n",
    "                                ,   DESC_NATUREZA_JURIDICA\n",
    "\n",
    "                            ORDER BY REGIAO\n",
    "                                ,   UF\n",
    "                                ,   MUNICIPIO\n",
    "                                ,   DESC_NATUREZA_JURIDICA\n",
    "                            \n",
    "                            \"\"\").to_df()"
   ]
  },
  {
   "cell_type": "code",
   "execution_count": 7,
   "metadata": {},
   "outputs": [
    {
     "data": {
      "text/html": [
       "<div>\n",
       "<style scoped>\n",
       "    .dataframe tbody tr th:only-of-type {\n",
       "        vertical-align: middle;\n",
       "    }\n",
       "\n",
       "    .dataframe tbody tr th {\n",
       "        vertical-align: top;\n",
       "    }\n",
       "\n",
       "    .dataframe thead th {\n",
       "        text-align: right;\n",
       "    }\n",
       "</style>\n",
       "<table border=\"1\" class=\"dataframe\">\n",
       "  <thead>\n",
       "    <tr style=\"text-align: right;\">\n",
       "      <th></th>\n",
       "      <th>REGIAO</th>\n",
       "      <th>UF</th>\n",
       "      <th>MUNICIPIO</th>\n",
       "      <th>DESC_NATUREZA_JURIDICA</th>\n",
       "      <th>HOSPITAL_GERAL</th>\n",
       "      <th>PRONTO_SOCORRO_GERAL</th>\n",
       "      <th>UNIDADE_MISTA</th>\n",
       "    </tr>\n",
       "  </thead>\n",
       "  <tbody>\n",
       "    <tr>\n",
       "      <th>0</th>\n",
       "      <td>CENTRO-OESTE</td>\n",
       "      <td>DF</td>\n",
       "      <td>BRASILIA</td>\n",
       "      <td>HOSPITAL_FILANTRÓPICO</td>\n",
       "      <td>4.0</td>\n",
       "      <td>0.0</td>\n",
       "      <td>0.0</td>\n",
       "    </tr>\n",
       "    <tr>\n",
       "      <th>1</th>\n",
       "      <td>CENTRO-OESTE</td>\n",
       "      <td>DF</td>\n",
       "      <td>BRASILIA</td>\n",
       "      <td>HOSPITAL_PRIVADO</td>\n",
       "      <td>26.0</td>\n",
       "      <td>0.0</td>\n",
       "      <td>0.0</td>\n",
       "    </tr>\n",
       "    <tr>\n",
       "      <th>2</th>\n",
       "      <td>CENTRO-OESTE</td>\n",
       "      <td>DF</td>\n",
       "      <td>BRASILIA</td>\n",
       "      <td>HOSPITAL_PÚBLICO</td>\n",
       "      <td>16.0</td>\n",
       "      <td>0.0</td>\n",
       "      <td>0.0</td>\n",
       "    </tr>\n",
       "    <tr>\n",
       "      <th>3</th>\n",
       "      <td>CENTRO-OESTE</td>\n",
       "      <td>GO</td>\n",
       "      <td>ABADIANIA</td>\n",
       "      <td>HOSPITAL_PÚBLICO</td>\n",
       "      <td>0.0</td>\n",
       "      <td>0.0</td>\n",
       "      <td>1.0</td>\n",
       "    </tr>\n",
       "    <tr>\n",
       "      <th>4</th>\n",
       "      <td>CENTRO-OESTE</td>\n",
       "      <td>GO</td>\n",
       "      <td>ACREUNA</td>\n",
       "      <td>HOSPITAL_PRIVADO</td>\n",
       "      <td>2.0</td>\n",
       "      <td>0.0</td>\n",
       "      <td>0.0</td>\n",
       "    </tr>\n",
       "  </tbody>\n",
       "</table>\n",
       "</div>"
      ],
      "text/plain": [
       "         REGIAO  UF  MUNICIPIO DESC_NATUREZA_JURIDICA  HOSPITAL_GERAL  \\\n",
       "0  CENTRO-OESTE  DF   BRASILIA  HOSPITAL_FILANTRÓPICO             4.0   \n",
       "1  CENTRO-OESTE  DF   BRASILIA       HOSPITAL_PRIVADO            26.0   \n",
       "2  CENTRO-OESTE  DF   BRASILIA       HOSPITAL_PÚBLICO            16.0   \n",
       "3  CENTRO-OESTE  GO  ABADIANIA       HOSPITAL_PÚBLICO             0.0   \n",
       "4  CENTRO-OESTE  GO    ACREUNA       HOSPITAL_PRIVADO             2.0   \n",
       "\n",
       "   PRONTO_SOCORRO_GERAL  UNIDADE_MISTA  \n",
       "0                   0.0            0.0  \n",
       "1                   0.0            0.0  \n",
       "2                   0.0            0.0  \n",
       "3                   0.0            1.0  \n",
       "4                   0.0            0.0  "
      ]
     },
     "execution_count": 7,
     "metadata": {},
     "output_type": "execute_result"
    }
   ],
   "source": [
    "hospitals_stat.head()"
   ]
  },
  {
   "cell_type": "markdown",
   "metadata": {},
   "source": [
    "# ALIMENTOS"
   ]
  },
  {
   "cell_type": "code",
   "execution_count": 8,
   "metadata": {},
   "outputs": [],
   "source": [
    "food_filter = [\n",
    "                'ARROZ LONGO FINO BENEFICIADO TIPO 1 (5 kg)'\n",
    "                , 'FEIJÃO COMUM CORES TIPO 1 (kg)'\n",
    "                , 'FEIJÃO COMUM PRETO TIPO 1 (kg)'\n",
    "                , 'CARNE BOVINA ACÉM (kg)'\n",
    "                , 'CARNE BOVINA COSTELA (kg)'\n",
    "                , 'CARNE BOVINA PONTA DE AGULHA (kg)'\n",
    "                , 'CARNE DE FRANGO CONGELADO (kg)'\n",
    "                , 'CARNE DE FRANGO RESFRIADO (kg)'\n",
    "                , 'CARNE SUÍNA CONGELADO PERNIL COM OSSO (kg)'\n",
    "                , 'CARNE SUÍNA RESFRIADO PERNIL COM OSSO (kg)'\n",
    "                , 'OLEO DE SOJA REFINADO (900 ml)'\n",
    "                , 'LEITE DE VACA LONGA VIDA INTEGRAL (l)'\n",
    "                , 'MACARRÃO ESPAGUETE SÊMOLA COM OVOS (500 g)'\n",
    "                , 'MACARRÃO ESPAGUETE SÊMOLA COM OVOS (kg)'\n",
    "                , 'SAL (kg)'\n",
    "                ]"
   ]
  },
  {
   "cell_type": "code",
   "execution_count": 9,
   "metadata": {},
   "outputs": [],
   "source": [
    "food = pl.read_csv(os.path.join(AUXILIAR_PATH, 'ALIMENTOS_CONAB.csv'), separator=';') \\\n",
    "         .melt(id_vars=['UF', 'PRODUTO'], value_vars=pl.selectors.numeric(), variable_name='MES_REF', value_name='PRECO') \\\n",
    "         .filter(pl.col('PRODUTO').is_in(food_filter)) \\\n",
    "         .pivot(values='PRECO', columns='PRODUTO', index='UF', aggregate_function='mean') \\\n",
    "         .fill_null(0.0)\n",
    "         "
   ]
  },
  {
   "cell_type": "code",
   "execution_count": 10,
   "metadata": {},
   "outputs": [
    {
     "data": {
      "text/html": [
       "<div><style>\n",
       ".dataframe > thead > tr,\n",
       ".dataframe > tbody > tr {\n",
       "  text-align: right;\n",
       "  white-space: pre-wrap;\n",
       "}\n",
       "</style>\n",
       "<small>shape: (5, 16)</small><table border=\"1\" class=\"dataframe\"><thead><tr><th>UF</th><th>ARROZ LONGO FINO BENEFICIADO TIPO 1 (5 kg)</th><th>CARNE BOVINA ACÉM (kg)</th><th>CARNE BOVINA COSTELA (kg)</th><th>CARNE BOVINA PONTA DE AGULHA (kg)</th><th>CARNE DE FRANGO CONGELADO (kg)</th><th>CARNE DE FRANGO RESFRIADO (kg)</th><th>CARNE SUÍNA CONGELADO PERNIL COM OSSO (kg)</th><th>CARNE SUÍNA RESFRIADO PERNIL COM OSSO (kg)</th><th>FEIJÃO COMUM CORES TIPO 1 (kg)</th><th>FEIJÃO COMUM PRETO TIPO 1 (kg)</th><th>LEITE DE VACA LONGA VIDA INTEGRAL (l)</th><th>MACARRÃO ESPAGUETE SÊMOLA COM OVOS (500 g)</th><th>MACARRÃO ESPAGUETE SÊMOLA COM OVOS (kg)</th><th>OLEO DE SOJA REFINADO (900 ml)</th><th>SAL (kg)</th></tr><tr><td>str</td><td>f64</td><td>f64</td><td>f64</td><td>f64</td><td>f64</td><td>f64</td><td>f64</td><td>f64</td><td>f64</td><td>f64</td><td>f64</td><td>f64</td><td>f64</td><td>f64</td><td>f64</td></tr></thead><tbody><tr><td>&quot;ES&quot;</td><td>20.27</td><td>0.0</td><td>22.499091</td><td>0.0</td><td>10.084545</td><td>13.049091</td><td>16.122727</td><td>0.0</td><td>8.373636</td><td>6.773636</td><td>4.796364</td><td>4.995455</td><td>0.0</td><td>6.657273</td><td>2.388182</td></tr><tr><td>&quot;GO&quot;</td><td>23.567273</td><td>0.0</td><td>0.0</td><td>17.223636</td><td>7.423636</td><td>7.917273</td><td>0.0</td><td>13.353636</td><td>8.934545</td><td>9.976364</td><td>5.564545</td><td>0.0</td><td>9.150909</td><td>6.314545</td><td>3.187273</td></tr><tr><td>&quot;MA&quot;</td><td>23.606364</td><td>0.0</td><td>0.0</td><td>0.0</td><td>0.0</td><td>0.0</td><td>0.0</td><td>14.990909</td><td>7.834545</td><td>7.345455</td><td>5.643636</td><td>4.421818</td><td>0.0</td><td>7.06</td><td>1.378182</td></tr><tr><td>&quot;MG&quot;</td><td>23.878182</td><td>0.0</td><td>0.0</td><td>22.383636</td><td>12.462727</td><td>12.236364</td><td>0.0</td><td>19.38</td><td>8.533636</td><td>8.107273</td><td>4.870909</td><td>4.923636</td><td>0.0</td><td>6.452727</td><td>0.0</td></tr><tr><td>&quot;MS&quot;</td><td>24.448182</td><td>0.0</td><td>0.0</td><td>16.530909</td><td>9.504545</td><td>11.877273</td><td>0.0</td><td>12.293636</td><td>9.032727</td><td>8.541818</td><td>5.535455</td><td>0.0</td><td>10.160909</td><td>6.482727</td><td>0.0</td></tr></tbody></table></div>"
      ],
      "text/plain": [
       "shape: (5, 16)\n",
       "┌─────┬────────────┬────────────┬────────────┬───┬────────────┬────────────┬────────────┬──────────┐\n",
       "│ UF  ┆ ARROZ      ┆ CARNE      ┆ CARNE      ┆ … ┆ MACARRÃO   ┆ MACARRÃO   ┆ OLEO DE    ┆ SAL (kg) │\n",
       "│ --- ┆ LONGO FINO ┆ BOVINA     ┆ BOVINA     ┆   ┆ ESPAGUETE  ┆ ESPAGUETE  ┆ SOJA       ┆ ---      │\n",
       "│ str ┆ BENEFICIAD ┆ ACÉM (kg)  ┆ COSTELA    ┆   ┆ SÊMOLA COM ┆ SÊMOLA COM ┆ REFINADO   ┆ f64      │\n",
       "│     ┆ O TIP…     ┆ ---        ┆ (kg)       ┆   ┆ OV…        ┆ OV…        ┆ (900 ml)   ┆          │\n",
       "│     ┆ ---        ┆ f64        ┆ ---        ┆   ┆ ---        ┆ ---        ┆ ---        ┆          │\n",
       "│     ┆ f64        ┆            ┆ f64        ┆   ┆ f64        ┆ f64        ┆ f64        ┆          │\n",
       "╞═════╪════════════╪════════════╪════════════╪═══╪════════════╪════════════╪════════════╪══════════╡\n",
       "│ ES  ┆ 20.27      ┆ 0.0        ┆ 22.499091  ┆ … ┆ 4.995455   ┆ 0.0        ┆ 6.657273   ┆ 2.388182 │\n",
       "│ GO  ┆ 23.567273  ┆ 0.0        ┆ 0.0        ┆ … ┆ 0.0        ┆ 9.150909   ┆ 6.314545   ┆ 3.187273 │\n",
       "│ MA  ┆ 23.606364  ┆ 0.0        ┆ 0.0        ┆ … ┆ 4.421818   ┆ 0.0        ┆ 7.06       ┆ 1.378182 │\n",
       "│ MG  ┆ 23.878182  ┆ 0.0        ┆ 0.0        ┆ … ┆ 4.923636   ┆ 0.0        ┆ 6.452727   ┆ 0.0      │\n",
       "│ MS  ┆ 24.448182  ┆ 0.0        ┆ 0.0        ┆ … ┆ 0.0        ┆ 10.160909  ┆ 6.482727   ┆ 0.0      │\n",
       "└─────┴────────────┴────────────┴────────────┴───┴────────────┴────────────┴────────────┴──────────┘"
      ]
     },
     "execution_count": 10,
     "metadata": {},
     "output_type": "execute_result"
    }
   ],
   "source": [
    "food.head()"
   ]
  },
  {
   "cell_type": "markdown",
   "metadata": {},
   "source": [
    "# SEGURANÇA"
   ]
  },
  {
   "cell_type": "markdown",
   "metadata": {},
   "source": [
    "## TRANSPORTE"
   ]
  },
  {
   "cell_type": "code",
   "execution_count": 11,
   "metadata": {},
   "outputs": [],
   "source": [
    "ob_transporte = pl.read_csv(os.path.join(AUXILIAR_PATH, 'bitos-em-acidentes-de-transporte.csv'), separator=';') \\\n",
    "                  .filter(pl.col('período') > 2018) \\\n",
    "                  .unique() \\\n",
    "                  .group_by(['cod', 'nome']).agg( \\\n",
    "                                pl.col('valor').min().alias('MIN_OBITOS_CARRO') \\\n",
    "                              , pl.col('valor').mean().alias('MEDIA_OBITOS_CARRO') \\\n",
    "                              , pl.col('valor').max().alias('MAX_OBITOS_CARRO') \\\n",
    "                              , pl.col('período').n_unique().alias('QTD_HISTORICO_CARRO') \\\n",
    "                              , pl.when(pl.col('valor') == pl.col('valor').max()) \\\n",
    "                                                .then(pl.col('período')) \\\n",
    "                                                .otherwise(pl.lit(0)).alias('ANO_MAIOR_CARRO')) \\\n",
    "                            .with_columns(pl.col('ANO_MAIOR_CARRO').cast(pl.Array(inner=pl.Int64, width=3)).arr.max().alias('ANO_MAIOR_CARRO'))"
   ]
  },
  {
   "cell_type": "code",
   "execution_count": 12,
   "metadata": {},
   "outputs": [
    {
     "data": {
      "text/html": [
       "<div><style>\n",
       ".dataframe > thead > tr,\n",
       ".dataframe > tbody > tr {\n",
       "  text-align: right;\n",
       "  white-space: pre-wrap;\n",
       "}\n",
       "</style>\n",
       "<small>shape: (5, 7)</small><table border=\"1\" class=\"dataframe\"><thead><tr><th>cod</th><th>nome</th><th>MIN_OBITOS_CARRO</th><th>MEDIA_OBITOS_CARRO</th><th>MAX_OBITOS_CARRO</th><th>QTD_HISTORICO_CARRO</th><th>ANO_MAIOR_CARRO</th></tr><tr><td>i64</td><td>str</td><td>i64</td><td>f64</td><td>i64</td><td>u32</td><td>i64</td></tr></thead><tbody><tr><td>4307054</td><td>&quot;Ernestina&quot;</td><td>0</td><td>1.0</td><td>3</td><td>3</td><td>2019</td></tr><tr><td>4305116</td><td>&quot;Centenário&quot;</td><td>0</td><td>0.333333</td><td>1</td><td>3</td><td>2020</td></tr><tr><td>4300307</td><td>&quot;Alecrim&quot;</td><td>1</td><td>1.333333</td><td>2</td><td>3</td><td>2019</td></tr><tr><td>3519303</td><td>&quot;Ibaté&quot;</td><td>5</td><td>7.0</td><td>8</td><td>3</td><td>2021</td></tr><tr><td>3515608</td><td>&quot;Fernando Prest…</td><td>0</td><td>0.666667</td><td>2</td><td>3</td><td>2020</td></tr></tbody></table></div>"
      ],
      "text/plain": [
       "shape: (5, 7)\n",
       "┌─────────┬──────────────┬──────────────┬──────────────┬──────────────┬──────────────┬─────────────┐\n",
       "│ cod     ┆ nome         ┆ MIN_OBITOS_C ┆ MEDIA_OBITOS ┆ MAX_OBITOS_C ┆ QTD_HISTORIC ┆ ANO_MAIOR_C │\n",
       "│ ---     ┆ ---          ┆ ARRO         ┆ _CARRO       ┆ ARRO         ┆ O_CARRO      ┆ ARRO        │\n",
       "│ i64     ┆ str          ┆ ---          ┆ ---          ┆ ---          ┆ ---          ┆ ---         │\n",
       "│         ┆              ┆ i64          ┆ f64          ┆ i64          ┆ u32          ┆ i64         │\n",
       "╞═════════╪══════════════╪══════════════╪══════════════╪══════════════╪══════════════╪═════════════╡\n",
       "│ 4307054 ┆ Ernestina    ┆ 0            ┆ 1.0          ┆ 3            ┆ 3            ┆ 2019        │\n",
       "│ 4305116 ┆ Centenário   ┆ 0            ┆ 0.333333     ┆ 1            ┆ 3            ┆ 2020        │\n",
       "│ 4300307 ┆ Alecrim      ┆ 1            ┆ 1.333333     ┆ 2            ┆ 3            ┆ 2019        │\n",
       "│ 3519303 ┆ Ibaté        ┆ 5            ┆ 7.0          ┆ 8            ┆ 3            ┆ 2021        │\n",
       "│ 3515608 ┆ Fernando     ┆ 0            ┆ 0.666667     ┆ 2            ┆ 3            ┆ 2020        │\n",
       "│         ┆ Prestes      ┆              ┆              ┆              ┆              ┆             │\n",
       "└─────────┴──────────────┴──────────────┴──────────────┴──────────────┴──────────────┴─────────────┘"
      ]
     },
     "execution_count": 12,
     "metadata": {},
     "output_type": "execute_result"
    }
   ],
   "source": [
    "ob_transporte.head()"
   ]
  },
  {
   "cell_type": "markdown",
   "metadata": {},
   "source": [
    "## MORTES"
   ]
  },
  {
   "cell_type": "code",
   "execution_count": 13,
   "metadata": {},
   "outputs": [],
   "source": [
    "homicidios = pl.read_csv(os.path.join(AUXILIAR_PATH, 'homicidios.csv'), separator=';') \\\n",
    "                  .filter(pl.col('período') > 2018) \\\n",
    "                  .unique() \\\n",
    "                  .group_by(['cod', 'nome']).agg( \\\n",
    "                                pl.col('valor').min().alias('MIN_OBITOS_HOMICIDIOS') \\\n",
    "                              , pl.col('valor').mean().alias('MEDIA_OBITOS_HOMICIDIOS') \\\n",
    "                              , pl.col('valor').max().alias('MAX_OBITOS_HOMICIDIOS') \\\n",
    "                              , pl.col('período').n_unique().alias('QTD_HISTORICO_HOMICIDIOS') \\\n",
    "                              , pl.when(pl.col('valor') == pl.col('valor').max()) \\\n",
    "                                                .then(pl.col('período')) \\\n",
    "                                                .otherwise(pl.lit(0)).alias('ANO_MAIOR_HOMICIDIOS')) \\\n",
    "                             .with_columns(pl.col('ANO_MAIOR_HOMICIDIOS').cast(pl.Array(inner=pl.Int64, width=3)).arr.max().alias('ANO_MAIOR_HOMICIDIOS'))\n",
    "\n"
   ]
  },
  {
   "cell_type": "code",
   "execution_count": 14,
   "metadata": {},
   "outputs": [
    {
     "data": {
      "text/html": [
       "<div><style>\n",
       ".dataframe > thead > tr,\n",
       ".dataframe > tbody > tr {\n",
       "  text-align: right;\n",
       "  white-space: pre-wrap;\n",
       "}\n",
       "</style>\n",
       "<small>shape: (5, 7)</small><table border=\"1\" class=\"dataframe\"><thead><tr><th>cod</th><th>nome</th><th>MIN_OBITOS_HOMICIDIOS</th><th>MEDIA_OBITOS_HOMICIDIOS</th><th>MAX_OBITOS_HOMICIDIOS</th><th>QTD_HISTORICO_HOMICIDIOS</th><th>ANO_MAIOR_HOMICIDIOS</th></tr><tr><td>i64</td><td>str</td><td>i64</td><td>f64</td><td>i64</td><td>u32</td><td>i64</td></tr></thead><tbody><tr><td>1100924</td><td>&quot;Chupinguaia&quot;</td><td>2</td><td>3.333333</td><td>6</td><td>3</td><td>2021</td></tr><tr><td>1200708</td><td>&quot;Xapuri&quot;</td><td>2</td><td>6.333333</td><td>14</td><td>3</td><td>2020</td></tr><tr><td>2100055</td><td>&quot;Açailândia&quot;</td><td>45</td><td>55.0</td><td>66</td><td>3</td><td>2020</td></tr><tr><td>2100477</td><td>&quot;Alto Alegre do…</td><td>3</td><td>4.666667</td><td>6</td><td>3</td><td>2019</td></tr><tr><td>2107001</td><td>&quot;Montes Altos&quot;</td><td>1</td><td>2.666667</td><td>4</td><td>3</td><td>2021</td></tr></tbody></table></div>"
      ],
      "text/plain": [
       "shape: (5, 7)\n",
       "┌─────────┬──────────────┬──────────────┬──────────────┬──────────────┬──────────────┬─────────────┐\n",
       "│ cod     ┆ nome         ┆ MIN_OBITOS_H ┆ MEDIA_OBITOS ┆ MAX_OBITOS_H ┆ QTD_HISTORIC ┆ ANO_MAIOR_H │\n",
       "│ ---     ┆ ---          ┆ OMICIDIOS    ┆ _HOMICIDIOS  ┆ OMICIDIOS    ┆ O_HOMICIDIOS ┆ OMICIDIOS   │\n",
       "│ i64     ┆ str          ┆ ---          ┆ ---          ┆ ---          ┆ ---          ┆ ---         │\n",
       "│         ┆              ┆ i64          ┆ f64          ┆ i64          ┆ u32          ┆ i64         │\n",
       "╞═════════╪══════════════╪══════════════╪══════════════╪══════════════╪══════════════╪═════════════╡\n",
       "│ 1100924 ┆ Chupinguaia  ┆ 2            ┆ 3.333333     ┆ 6            ┆ 3            ┆ 2021        │\n",
       "│ 1200708 ┆ Xapuri       ┆ 2            ┆ 6.333333     ┆ 14           ┆ 3            ┆ 2020        │\n",
       "│ 2100055 ┆ Açailândia   ┆ 45           ┆ 55.0         ┆ 66           ┆ 3            ┆ 2020        │\n",
       "│ 2100477 ┆ Alto Alegre  ┆ 3            ┆ 4.666667     ┆ 6            ┆ 3            ┆ 2019        │\n",
       "│         ┆ do Pindaré   ┆              ┆              ┆              ┆              ┆             │\n",
       "│ 2107001 ┆ Montes Altos ┆ 1            ┆ 2.666667     ┆ 4            ┆ 3            ┆ 2021        │\n",
       "└─────────┴──────────────┴──────────────┴──────────────┴──────────────┴──────────────┴─────────────┘"
      ]
     },
     "execution_count": 14,
     "metadata": {},
     "output_type": "execute_result"
    }
   ],
   "source": [
    "homicidios.head()"
   ]
  },
  {
   "cell_type": "code",
   "execution_count": null,
   "metadata": {},
   "outputs": [],
   "source": []
  },
  {
   "cell_type": "markdown",
   "metadata": {},
   "source": [
    "## MORTES ARMA"
   ]
  },
  {
   "cell_type": "code",
   "execution_count": 33,
   "metadata": {},
   "outputs": [],
   "source": [
    "hom_arma = pl.read_csv(os.path.join(AUXILIAR_PATH, 'homicidios-por-armas-de-fogo.csv'), separator=';') \\\n",
    "                  .filter(pl.col('período') > 2018) \\\n",
    "                  .unique() \\\n",
    "                  .group_by(['cod', 'nome']).agg( \\\n",
    "                                pl.col('valor').min().alias('MIN_OBITOS_HOM_ARMA') \\\n",
    "                              , pl.col('valor').mean().alias('MEDIA_OBITOS_HOM_ARMA') \\\n",
    "                              , pl.col('valor').max().alias('MAX_OBITOS_HOM_ARMA') \\\n",
    "                              , pl.col('período').n_unique().alias('QTD_HISTORICO_HOM_ARMA') \\\n",
    "                              , pl.when(pl.col('valor') == pl.col('valor').max()) \\\n",
    "                                                .then(pl.col('período')) \\\n",
    "                                                .otherwise(pl.lit(0)).alias('ANO_MAIOR_HOM_ARMA')) \\\n",
    "                            .filter(pl.col('QTD_HISTORICO_HOM_ARMA') > 2) \\\n",
    "                            .with_columns(pl.col('ANO_MAIOR_HOM_ARMA').cast(pl.Array(inner=pl.Int64, width=3)).arr.max().alias('ANO_MAIOR_HOM_ARMA'))"
   ]
  },
  {
   "cell_type": "code",
   "execution_count": 36,
   "metadata": {},
   "outputs": [
    {
     "data": {
      "text/html": [
       "<div><style>\n",
       ".dataframe > thead > tr,\n",
       ".dataframe > tbody > tr {\n",
       "  text-align: right;\n",
       "  white-space: pre-wrap;\n",
       "}\n",
       "</style>\n",
       "<small>shape: (5, 7)</small><table border=\"1\" class=\"dataframe\"><thead><tr><th>cod</th><th>nome</th><th>MIN_OBITOS_HOM_ARMA</th><th>MEDIA_OBITOS_HOM_ARMA</th><th>MAX_OBITOS_HOM_ARMA</th><th>QTD_HISTORICO_HOM_ARMA</th><th>ANO_MAIOR_HOM_ARMA</th></tr><tr><td>i64</td><td>str</td><td>i64</td><td>f64</td><td>i64</td><td>u32</td><td>i64</td></tr></thead><tbody><tr><td>5218789</td><td>&quot;Rio Quente&quot;</td><td>0</td><td>1.333333</td><td>3</td><td>3</td><td>2019</td></tr><tr><td>2607950</td><td>&quot;Jaqueira&quot;</td><td>2</td><td>4.333333</td><td>8</td><td>3</td><td>2019</td></tr><tr><td>2601300</td><td>&quot;Barra de Guabi…</td><td>4</td><td>5.666667</td><td>8</td><td>3</td><td>2020</td></tr><tr><td>2407252</td><td>&quot;Major Sales&quot;</td><td>0</td><td>0.333333</td><td>1</td><td>3</td><td>2019</td></tr><tr><td>2206407</td><td>&quot;Monsenhor Gil&quot;</td><td>0</td><td>0.333333</td><td>1</td><td>3</td><td>2019</td></tr></tbody></table></div>"
      ],
      "text/plain": [
       "shape: (5, 7)\n",
       "┌─────────┬──────────────┬──────────────┬──────────────┬──────────────┬──────────────┬─────────────┐\n",
       "│ cod     ┆ nome         ┆ MIN_OBITOS_H ┆ MEDIA_OBITOS ┆ MAX_OBITOS_H ┆ QTD_HISTORIC ┆ ANO_MAIOR_H │\n",
       "│ ---     ┆ ---          ┆ OM_ARMA      ┆ _HOM_ARMA    ┆ OM_ARMA      ┆ O_HOM_ARMA   ┆ OM_ARMA     │\n",
       "│ i64     ┆ str          ┆ ---          ┆ ---          ┆ ---          ┆ ---          ┆ ---         │\n",
       "│         ┆              ┆ i64          ┆ f64          ┆ i64          ┆ u32          ┆ i64         │\n",
       "╞═════════╪══════════════╪══════════════╪══════════════╪══════════════╪══════════════╪═════════════╡\n",
       "│ 5218789 ┆ Rio Quente   ┆ 0            ┆ 1.333333     ┆ 3            ┆ 3            ┆ 2019        │\n",
       "│ 2607950 ┆ Jaqueira     ┆ 2            ┆ 4.333333     ┆ 8            ┆ 3            ┆ 2019        │\n",
       "│ 2601300 ┆ Barra de     ┆ 4            ┆ 5.666667     ┆ 8            ┆ 3            ┆ 2020        │\n",
       "│         ┆ Guabiraba    ┆              ┆              ┆              ┆              ┆             │\n",
       "│ 2407252 ┆ Major Sales  ┆ 0            ┆ 0.333333     ┆ 1            ┆ 3            ┆ 2019        │\n",
       "│ 2206407 ┆ Monsenhor    ┆ 0            ┆ 0.333333     ┆ 1            ┆ 3            ┆ 2019        │\n",
       "│         ┆ Gil          ┆              ┆              ┆              ┆              ┆             │\n",
       "└─────────┴──────────────┴──────────────┴──────────────┴──────────────┴──────────────┴─────────────┘"
      ]
     },
     "execution_count": 36,
     "metadata": {},
     "output_type": "execute_result"
    }
   ],
   "source": [
    "hom_arma.head()"
   ]
  },
  {
   "cell_type": "markdown",
   "metadata": {},
   "source": [
    "# UNIÃO CIDADES & HOSPITAIS"
   ]
  },
  {
   "cell_type": "code",
   "execution_count": 40,
   "metadata": {},
   "outputs": [],
   "source": [
    "city_hosp = duckdb.sql(\"\"\"\n",
    "           SELECT \n",
    "              CT.CD_MUN\n",
    "            , CT.NM_MUN\n",
    "            , CT.AREA_KM2\n",
    "            , CT.CD_UF\n",
    "            , CT.NM_UF\n",
    "            , HS.*\n",
    "            , FD.*\n",
    "            , HARMA.MIN_OBITOS_HOM_ARMA\n",
    "            , HARMA.MEDIA_OBITOS_HOM_ARMA\n",
    "            , HARMA.MAX_OBITOS_HOM_ARMA\n",
    "            , HARMA.QTD_HISTORICO_HOM_ARMA\n",
    "            , HARMA.ANO_MAIOR_HOM_ARMA\n",
    "                       \n",
    "            , HOM.MIN_OBITOS_HOMICIDIOS\n",
    "            , HOM.MEDIA_OBITOS_HOMICIDIOS\n",
    "            , HOM.MAX_OBITOS_HOMICIDIOS\n",
    "            , HOM.QTD_HISTORICO_HOMICIDIOS\n",
    "            , HOM.ANO_MAIOR_HOMICIDIOS\n",
    "\n",
    "            , OBTRANS.MIN_OBITOS_CARRO\n",
    "            , OBTRANS.MEDIA_OBITOS_CARRO\n",
    "            , OBTRANS.MAX_OBITOS_CARRO\n",
    "            , OBTRANS.QTD_HISTORICO_CARRO\n",
    "            , OBTRANS.ANO_MAIOR_CARRO\n",
    "\n",
    "           FROM hospitals_stat AS HS\n",
    "\n",
    "           JOIN cities AS CT\n",
    "           ON CT.SIGLA_UF = HS.UF\n",
    "           AND CT.MUNICIPIO = HS.MUNICIPIO\n",
    "           \n",
    "           JOIN food FD\n",
    "           ON FD.UF = HS.UF\n",
    "                       \n",
    "           JOIN hom_arma HARMA\n",
    "           ON HARMA.cod = CT.CD_MUN\n",
    "                       \n",
    "           JOIN homicidios HOM\n",
    "           ON HOM.cod = CT.CD_MUN\n",
    "\n",
    "           JOIN ob_transporte OBTRANS\n",
    "           ON OBTRANS.cod = CT.CD_MUN\n",
    "    \n",
    "                      \n",
    "           \"\"\").to_df()"
   ]
  },
  {
   "cell_type": "code",
   "execution_count": 41,
   "metadata": {},
   "outputs": [
    {
     "data": {
      "text/html": [
       "<div>\n",
       "<style scoped>\n",
       "    .dataframe tbody tr th:only-of-type {\n",
       "        vertical-align: middle;\n",
       "    }\n",
       "\n",
       "    .dataframe tbody tr th {\n",
       "        vertical-align: top;\n",
       "    }\n",
       "\n",
       "    .dataframe thead th {\n",
       "        text-align: right;\n",
       "    }\n",
       "</style>\n",
       "<table border=\"1\" class=\"dataframe\">\n",
       "  <thead>\n",
       "    <tr style=\"text-align: right;\">\n",
       "      <th></th>\n",
       "      <th>CD_MUN</th>\n",
       "      <th>NM_MUN</th>\n",
       "      <th>AREA_KM2</th>\n",
       "      <th>CD_UF</th>\n",
       "      <th>NM_UF</th>\n",
       "      <th>REGIAO</th>\n",
       "      <th>UF</th>\n",
       "      <th>MUNICIPIO</th>\n",
       "      <th>DESC_NATUREZA_JURIDICA</th>\n",
       "      <th>HOSPITAL_GERAL</th>\n",
       "      <th>...</th>\n",
       "      <th>MIN_OBITOS_HOMICIDIOS</th>\n",
       "      <th>MEDIA_OBITOS_HOMICIDIOS</th>\n",
       "      <th>MAX_OBITOS_HOMICIDIOS</th>\n",
       "      <th>QTD_HISTORICO_HOMICIDIOS</th>\n",
       "      <th>ANO_MAIOR_HOMICIDIOS</th>\n",
       "      <th>MIN_OBITOS_CARRO</th>\n",
       "      <th>MEDIA_OBITOS_CARRO</th>\n",
       "      <th>MAX_OBITOS_CARRO</th>\n",
       "      <th>QTD_HISTORICO_CARRO</th>\n",
       "      <th>ANO_MAIOR_CARRO</th>\n",
       "    </tr>\n",
       "  </thead>\n",
       "  <tbody>\n",
       "    <tr>\n",
       "      <th>0</th>\n",
       "      <td>2702306</td>\n",
       "      <td>Coruripe</td>\n",
       "      <td>897.800</td>\n",
       "      <td>27</td>\n",
       "      <td>Alagoas</td>\n",
       "      <td>NORDESTE</td>\n",
       "      <td>AL</td>\n",
       "      <td>CORURIPE</td>\n",
       "      <td>HOSPITAL_PRIVADO</td>\n",
       "      <td>1.0</td>\n",
       "      <td>...</td>\n",
       "      <td>11</td>\n",
       "      <td>16.333333</td>\n",
       "      <td>20</td>\n",
       "      <td>3</td>\n",
       "      <td>2019</td>\n",
       "      <td>9</td>\n",
       "      <td>14.333333</td>\n",
       "      <td>19</td>\n",
       "      <td>3</td>\n",
       "      <td>2020</td>\n",
       "    </tr>\n",
       "    <tr>\n",
       "      <th>1</th>\n",
       "      <td>2704302</td>\n",
       "      <td>Maceió</td>\n",
       "      <td>509.320</td>\n",
       "      <td>27</td>\n",
       "      <td>Alagoas</td>\n",
       "      <td>NORDESTE</td>\n",
       "      <td>AL</td>\n",
       "      <td>MACEIO</td>\n",
       "      <td>HOSPITAL_FILANTRÓPICO</td>\n",
       "      <td>4.0</td>\n",
       "      <td>...</td>\n",
       "      <td>329</td>\n",
       "      <td>363.666667</td>\n",
       "      <td>400</td>\n",
       "      <td>3</td>\n",
       "      <td>2020</td>\n",
       "      <td>105</td>\n",
       "      <td>111.666667</td>\n",
       "      <td>124</td>\n",
       "      <td>3</td>\n",
       "      <td>2020</td>\n",
       "    </tr>\n",
       "    <tr>\n",
       "      <th>2</th>\n",
       "      <td>2704302</td>\n",
       "      <td>Maceió</td>\n",
       "      <td>509.320</td>\n",
       "      <td>27</td>\n",
       "      <td>Alagoas</td>\n",
       "      <td>NORDESTE</td>\n",
       "      <td>AL</td>\n",
       "      <td>MACEIO</td>\n",
       "      <td>HOSPITAL_PRIVADO</td>\n",
       "      <td>12.0</td>\n",
       "      <td>...</td>\n",
       "      <td>329</td>\n",
       "      <td>363.666667</td>\n",
       "      <td>400</td>\n",
       "      <td>3</td>\n",
       "      <td>2020</td>\n",
       "      <td>105</td>\n",
       "      <td>111.666667</td>\n",
       "      <td>124</td>\n",
       "      <td>3</td>\n",
       "      <td>2020</td>\n",
       "    </tr>\n",
       "    <tr>\n",
       "      <th>3</th>\n",
       "      <td>2704302</td>\n",
       "      <td>Maceió</td>\n",
       "      <td>509.320</td>\n",
       "      <td>27</td>\n",
       "      <td>Alagoas</td>\n",
       "      <td>NORDESTE</td>\n",
       "      <td>AL</td>\n",
       "      <td>MACEIO</td>\n",
       "      <td>HOSPITAL_PÚBLICO</td>\n",
       "      <td>4.0</td>\n",
       "      <td>...</td>\n",
       "      <td>329</td>\n",
       "      <td>363.666667</td>\n",
       "      <td>400</td>\n",
       "      <td>3</td>\n",
       "      <td>2020</td>\n",
       "      <td>105</td>\n",
       "      <td>111.666667</td>\n",
       "      <td>124</td>\n",
       "      <td>3</td>\n",
       "      <td>2020</td>\n",
       "    </tr>\n",
       "    <tr>\n",
       "      <th>4</th>\n",
       "      <td>2900801</td>\n",
       "      <td>Alcobaça</td>\n",
       "      <td>1477.929</td>\n",
       "      <td>29</td>\n",
       "      <td>Bahia</td>\n",
       "      <td>NORDESTE</td>\n",
       "      <td>BA</td>\n",
       "      <td>ALCOBACA</td>\n",
       "      <td>HOSPITAL_PÚBLICO</td>\n",
       "      <td>1.0</td>\n",
       "      <td>...</td>\n",
       "      <td>7</td>\n",
       "      <td>15.666667</td>\n",
       "      <td>29</td>\n",
       "      <td>3</td>\n",
       "      <td>2021</td>\n",
       "      <td>1</td>\n",
       "      <td>5.666667</td>\n",
       "      <td>9</td>\n",
       "      <td>3</td>\n",
       "      <td>2021</td>\n",
       "    </tr>\n",
       "  </tbody>\n",
       "</table>\n",
       "<p>5 rows × 43 columns</p>\n",
       "</div>"
      ],
      "text/plain": [
       "    CD_MUN    NM_MUN  AREA_KM2  CD_UF    NM_UF    REGIAO  UF MUNICIPIO  \\\n",
       "0  2702306  Coruripe   897.800     27  Alagoas  NORDESTE  AL  CORURIPE   \n",
       "1  2704302    Maceió   509.320     27  Alagoas  NORDESTE  AL    MACEIO   \n",
       "2  2704302    Maceió   509.320     27  Alagoas  NORDESTE  AL    MACEIO   \n",
       "3  2704302    Maceió   509.320     27  Alagoas  NORDESTE  AL    MACEIO   \n",
       "4  2900801  Alcobaça  1477.929     29    Bahia  NORDESTE  BA  ALCOBACA   \n",
       "\n",
       "  DESC_NATUREZA_JURIDICA  HOSPITAL_GERAL  ...  MIN_OBITOS_HOMICIDIOS  \\\n",
       "0       HOSPITAL_PRIVADO             1.0  ...                     11   \n",
       "1  HOSPITAL_FILANTRÓPICO             4.0  ...                    329   \n",
       "2       HOSPITAL_PRIVADO            12.0  ...                    329   \n",
       "3       HOSPITAL_PÚBLICO             4.0  ...                    329   \n",
       "4       HOSPITAL_PÚBLICO             1.0  ...                      7   \n",
       "\n",
       "   MEDIA_OBITOS_HOMICIDIOS MAX_OBITOS_HOMICIDIOS  QTD_HISTORICO_HOMICIDIOS  \\\n",
       "0                16.333333                    20                         3   \n",
       "1               363.666667                   400                         3   \n",
       "2               363.666667                   400                         3   \n",
       "3               363.666667                   400                         3   \n",
       "4                15.666667                    29                         3   \n",
       "\n",
       "   ANO_MAIOR_HOMICIDIOS  MIN_OBITOS_CARRO  MEDIA_OBITOS_CARRO  \\\n",
       "0                  2019                 9           14.333333   \n",
       "1                  2020               105          111.666667   \n",
       "2                  2020               105          111.666667   \n",
       "3                  2020               105          111.666667   \n",
       "4                  2021                 1            5.666667   \n",
       "\n",
       "   MAX_OBITOS_CARRO  QTD_HISTORICO_CARRO  ANO_MAIOR_CARRO  \n",
       "0                19                    3             2020  \n",
       "1               124                    3             2020  \n",
       "2               124                    3             2020  \n",
       "3               124                    3             2020  \n",
       "4                 9                    3             2021  \n",
       "\n",
       "[5 rows x 43 columns]"
      ]
     },
     "execution_count": 41,
     "metadata": {},
     "output_type": "execute_result"
    }
   ],
   "source": [
    "city_hosp.head()"
   ]
  },
  {
   "cell_type": "code",
   "execution_count": 38,
   "metadata": {},
   "outputs": [
    {
     "data": {
      "text/plain": [
       "┌─────────┬──────────┬──────────┬───────┬───┬──────────────────────┬──────────────────────┬────────────────────┐\n",
       "│ CD_MUN  │  NM_MUN  │ AREA_KM2 │ CD_UF │ … │ MACARRÃO ESPAGUETE…  │ OLEO DE SOJA REFIN…  │      SAL (kg)      │\n",
       "│  int64  │ varchar  │  double  │ int64 │   │        double        │        double        │       double       │\n",
       "├─────────┼──────────┼──────────┼───────┼───┼──────────────────────┼──────────────────────┼────────────────────┤\n",
       "│ 2702306 │ Coruripe │    897.8 │    27 │ … │                  0.0 │                 7.61 │ 1.8645454545454543 │\n",
       "├─────────┴──────────┴──────────┴───────┴───┴──────────────────────┴──────────────────────┴────────────────────┤\n",
       "│ 1 rows                                                                                  28 columns (7 shown) │\n",
       "└──────────────────────────────────────────────────────────────────────────────────────────────────────────────┘"
      ]
     },
     "execution_count": 38,
     "metadata": {},
     "output_type": "execute_result"
    }
   ],
   "source": [
    "duckdb.sql(\"SELECT * FROM city_hosp WHERE CD_MUN = 2702306\")"
   ]
  },
  {
   "cell_type": "code",
   "execution_count": 39,
   "metadata": {},
   "outputs": [
    {
     "data": {
      "text/plain": [
       "┌─────────┬──────────┬─────────────────────┬───┬─────────────────────┬──────────────────────┬────────────────────┐\n",
       "│   cod   │   nome   │ MIN_OBITOS_HOM_ARMA │ … │ MAX_OBITOS_HOM_ARMA │ QTD_HISTORICO_HOM_…  │ ANO_MAIOR_HOM_ARMA │\n",
       "│  int64  │ varchar  │        int64        │   │        int64        │        uint32        │       int64        │\n",
       "├─────────┼──────────┼─────────────────────┼───┼─────────────────────┼──────────────────────┼────────────────────┤\n",
       "│ 2702306 │ Coruripe │                   4 │ … │                  20 │                    3 │               2019 │\n",
       "├─────────┴──────────┴─────────────────────┴───┴─────────────────────┴──────────────────────┴────────────────────┤\n",
       "│ 1 rows                                                                                     7 columns (6 shown) │\n",
       "└────────────────────────────────────────────────────────────────────────────────────────────────────────────────┘"
      ]
     },
     "execution_count": 39,
     "metadata": {},
     "output_type": "execute_result"
    }
   ],
   "source": [
    "duckdb.sql(\"SELECT * FROM hom_arma WHERE cod = 2702306\")"
   ]
  },
  {
   "cell_type": "markdown",
   "metadata": {},
   "source": [
    "# LINKS AUXILIARES"
   ]
  },
  {
   "cell_type": "markdown",
   "metadata": {},
   "source": [
    "- [API IBGE CIDADES](https://servicodados.ibge.gov.br/api/v3/agregados/6579/periodos/2021/variaveis/9324?localidades=N6[1100015])\n",
    "- [API IBGE AGREGADA](https://servicodados.ibge.gov.br/api/docs/agregados?versao=3)\n",
    "- [ALIMENTOS CONAB](https://sisdep.conab.gov.br/precosiagroweb/)\n",
    "- [ATLAS DA VIOLENCIA](https://www.ipea.gov.br/atlasviolencia/filtros-series)\n"
   ]
  }
 ],
 "metadata": {
  "kernelspec": {
   "display_name": "finding-home-9tpckwVZ-py3.10",
   "language": "python",
   "name": "python3"
  },
  "language_info": {
   "codemirror_mode": {
    "name": "ipython",
    "version": 3
   },
   "file_extension": ".py",
   "mimetype": "text/x-python",
   "name": "python",
   "nbconvert_exporter": "python",
   "pygments_lexer": "ipython3",
   "version": "3.10.12"
  }
 },
 "nbformat": 4,
 "nbformat_minor": 2
}
