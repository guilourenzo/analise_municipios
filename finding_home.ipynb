{
 "cells": [
  {
   "cell_type": "markdown",
   "metadata": {},
   "source": [
    "# TODO\n",
    "\n",
    "- [x] IDENTIFICAÇÃO DAS CIDADES LITORÂNEAS\n",
    "    - [ ] CONSIDERAR CIDADES ESPECÍFICAS\n",
    "- [x] LEVANTAMENTO DA QUANTIDADE DE HOSPITAIS\n",
    "    - [x] FILTRAR HOSPITAIS QUE POSSUEM UTI NEONATAL\n",
    "- [x] LEVANTAMENTO DA SEGURANÇA\n",
    "    - [x] TAXAS DE HOMICIDIO\n",
    "    - [x] TAXAS DE ASSALTOS\n",
    "    - [x] TAXAS DE CRIMES VIOLENTOS\n",
    "- [x] LEVANTAMENTO DE EDUCAÇÃO\n",
    "    - [x] INDICE DAS ESCOLAS NO PAÍS\n",
    "    - [x] QUANTIDADE DE ESCOLAS NA CIDADE\n",
    "- [ ] LEVANTAMENTO SOBRE LAZER\n",
    "    - [ ] QTD DE PARQUES\n",
    "    - [x] QTD DE SHOPPINGS\n",
    "    - [ ] TOTAL DE ÁREAS VERDES\n",
    "    - [x] QTD DE PRAIAS\n",
    "- [ ] LEVANTAMENTO DA MÉDIA DE ALUGUÉIS  \n",
    "- [x] LEVANTAMENTO DOS PREÇOS DE ALIMENTO\n",
    "- [ ] DEFINIÇÃO DE CUSTO BENEFÍCIO"
   ]
  },
  {
   "cell_type": "markdown",
   "metadata": {},
   "source": [
    "## CIDADES A CONSIDERAR"
   ]
  },
  {
   "cell_type": "markdown",
   "metadata": {},
   "source": [
    "- SP\n",
    "    - BERTIOGA\n",
    "    - CANANEIA\n",
    "    - CARAGUATATUBA\n",
    "    - GUARUJA\n",
    "    - IGUAPE\n",
    "    - ILHABELA\n",
    "    - ILHA COMPRIDA\n",
    "    - ITANHAEM\n",
    "    - MONGAGUA\n",
    "    - PERUIBE\n",
    "    - PRAIA GRANDE\n",
    "    - SANTOS\n",
    "    - SAO SEBASTIAO\n",
    "    - SAO VICENTE\n",
    "    - UBATUBA\n",
    "\n",
    "- ES\n",
    "    - VITORIA\n",
    "    - VILA VELHA\n",
    "\n",
    "- PB\n",
    "    - JOAO PESSOA\n",
    "\n",
    "- SC\n",
    "    - BALNEARIO CAMBORIU\n",
    "    - FLORIANOPOLIS\n",
    "\n",
    "- PR\n",
    "    - CURITIBA"
   ]
  },
  {
   "cell_type": "markdown",
   "metadata": {},
   "source": []
  },
  {
   "cell_type": "markdown",
   "metadata": {},
   "source": [
    "# IMPORTAÇÃO DE BIBLIOTECAS"
   ]
  },
  {
   "cell_type": "code",
   "execution_count": 1,
   "metadata": {},
   "outputs": [],
   "source": [
    "import polars as pl\n",
    "import os\n",
    "import duckdb"
   ]
  },
  {
   "cell_type": "code",
   "execution_count": 2,
   "metadata": {},
   "outputs": [],
   "source": [
    "AUXILIAR_PATH = r'finding-home/finding_home/auxiliar/'\n",
    "DATA_PATH = r'finding-home/finding_home/data/'"
   ]
  },
  {
   "cell_type": "markdown",
   "metadata": {},
   "source": [
    "# IMPORTAÇÃO DE DADOS"
   ]
  },
  {
   "cell_type": "markdown",
   "metadata": {},
   "source": [
    "## CIDADES"
   ]
  },
  {
   "cell_type": "code",
   "execution_count": 3,
   "metadata": {},
   "outputs": [],
   "source": [
    "from unicodedata import normalize \n",
    "def custnorm(In_series):\n",
    "    for i, x in enumerate(In_series):\n",
    "        newvalue = normalize('NFKD',x).encode('ascii', errors='ignore').decode('utf-8')\n",
    "        if newvalue != x:\n",
    "            In_series[i]=newvalue\n",
    "    return In_series"
   ]
  },
  {
   "cell_type": "code",
   "execution_count": 54,
   "metadata": {},
   "outputs": [],
   "source": [
    "# cities = pl.read_csv(os.path.join(DATA_PATH, 'CIDADES_LITORANEAS_IBGE.csv'), separator=';') \\\n",
    "#            .filter(pl.col('NM_REGIAO').is_in(['Sul', 'Sudeste', 'Nordeste'])) \\\n",
    "#            .with_columns(pl.col('NM_MUN').str.to_uppercase().alias('MUNICIPIO')) \\\n",
    "#            .with_columns(pl.col('MUNICIPIO').map_batches(custnorm).alias('MUNICIPIO'))"
   ]
  },
  {
   "cell_type": "code",
   "execution_count": 146,
   "metadata": {},
   "outputs": [],
   "source": [
    "cities = pl.read_csv(os.path.join(DATA_PATH, 'cidades_ibge_full.csv'), separator='|') \\\n",
    "            .select(pl.col('COD_IBGE'), pl.col('UF'), pl.col('MUNICIPIO'), pl.col('POPULACAO')) \\\n",
    "            .with_columns(pl.col('MUNICIPIO').str.to_uppercase().alias('MUNICIPIO')) \\\n",
    "           .with_columns(pl.col('MUNICIPIO').map_batches(custnorm).alias('MUNICIPIO'))"
   ]
  },
  {
   "cell_type": "code",
   "execution_count": 147,
   "metadata": {},
   "outputs": [
    {
     "data": {
      "text/html": [
       "<div><style>\n",
       ".dataframe > thead > tr,\n",
       ".dataframe > tbody > tr {\n",
       "  text-align: right;\n",
       "  white-space: pre-wrap;\n",
       "}\n",
       "</style>\n",
       "<small>shape: (5, 4)</small><table border=\"1\" class=\"dataframe\"><thead><tr><th>COD_IBGE</th><th>UF</th><th>MUNICIPIO</th><th>POPULACAO</th></tr><tr><td>i64</td><td>str</td><td>str</td><td>i64</td></tr></thead><tbody><tr><td>1100015</td><td>&quot;RO&quot;</td><td>&quot;ALTA FLORESTA …</td><td>22516</td></tr><tr><td>1100023</td><td>&quot;RO&quot;</td><td>&quot;ARIQUEMES&quot;</td><td>111148</td></tr><tr><td>1100031</td><td>&quot;RO&quot;</td><td>&quot;CABIXI&quot;</td><td>5067</td></tr><tr><td>1100049</td><td>&quot;RO&quot;</td><td>&quot;CACOAL&quot;</td><td>86416</td></tr><tr><td>1100056</td><td>&quot;RO&quot;</td><td>&quot;CEREJEIRAS&quot;</td><td>16088</td></tr></tbody></table></div>"
      ],
      "text/plain": [
       "shape: (5, 4)\n",
       "┌──────────┬─────┬───────────────────────┬───────────┐\n",
       "│ COD_IBGE ┆ UF  ┆ MUNICIPIO             ┆ POPULACAO │\n",
       "│ ---      ┆ --- ┆ ---                   ┆ ---       │\n",
       "│ i64      ┆ str ┆ str                   ┆ i64       │\n",
       "╞══════════╪═════╪═══════════════════════╪═══════════╡\n",
       "│ 1100015  ┆ RO  ┆ ALTA FLORESTA D'OESTE ┆ 22516     │\n",
       "│ 1100023  ┆ RO  ┆ ARIQUEMES             ┆ 111148    │\n",
       "│ 1100031  ┆ RO  ┆ CABIXI                ┆ 5067      │\n",
       "│ 1100049  ┆ RO  ┆ CACOAL                ┆ 86416     │\n",
       "│ 1100056  ┆ RO  ┆ CEREJEIRAS            ┆ 16088     │\n",
       "└──────────┴─────┴───────────────────────┴───────────┘"
      ]
     },
     "execution_count": 147,
     "metadata": {},
     "output_type": "execute_result"
    }
   ],
   "source": [
    "cities.head()"
   ]
  },
  {
   "cell_type": "code",
   "execution_count": 148,
   "metadata": {},
   "outputs": [
    {
     "data": {
      "text/html": [
       "<div><style>\n",
       ".dataframe > thead > tr,\n",
       ".dataframe > tbody > tr {\n",
       "  text-align: right;\n",
       "  white-space: pre-wrap;\n",
       "}\n",
       "</style>\n",
       "<small>shape: (1, 4)</small><table border=\"1\" class=\"dataframe\"><thead><tr><th>COD_IBGE</th><th>UF</th><th>MUNICIPIO</th><th>POPULACAO</th></tr><tr><td>i64</td><td>str</td><td>str</td><td>i64</td></tr></thead><tbody><tr><td>3534401</td><td>&quot;SP&quot;</td><td>&quot;OSASCO&quot;</td><td>701428</td></tr></tbody></table></div>"
      ],
      "text/plain": [
       "shape: (1, 4)\n",
       "┌──────────┬─────┬───────────┬───────────┐\n",
       "│ COD_IBGE ┆ UF  ┆ MUNICIPIO ┆ POPULACAO │\n",
       "│ ---      ┆ --- ┆ ---       ┆ ---       │\n",
       "│ i64      ┆ str ┆ str       ┆ i64       │\n",
       "╞══════════╪═════╪═══════════╪═══════════╡\n",
       "│ 3534401  ┆ SP  ┆ OSASCO    ┆ 701428    │\n",
       "└──────────┴─────┴───────────┴───────────┘"
      ]
     },
     "execution_count": 148,
     "metadata": {},
     "output_type": "execute_result"
    }
   ],
   "source": [
    "cities.filter(pl.col('MUNICIPIO') == 'OSASCO')"
   ]
  },
  {
   "cell_type": "markdown",
   "metadata": {},
   "source": [
    "## HOSPITAIS"
   ]
  },
  {
   "cell_type": "code",
   "execution_count": 56,
   "metadata": {},
   "outputs": [],
   "source": [
    "hospitals = pl.read_csv(os.path.join(DATA_PATH, 'hospitais.csv'), separator='|', encoding='cp1252', truncate_ragged_lines=True).filter(pl.col('UTI_NEONATAL_EXIST') > 0)"
   ]
  },
  {
   "cell_type": "code",
   "execution_count": 57,
   "metadata": {},
   "outputs": [],
   "source": [
    "hospitals_stat = duckdb.sql(\"\"\"\n",
    "                            SELECT \n",
    "                                    REGIAO\n",
    "                                ,   UF\n",
    "                                ,   MUNICIPIO\n",
    "                                ,   DESC_NATUREZA_JURIDICA\n",
    "                                ,   SUM(CASE WHEN DS_TIPO_UNIDADE == 'HOSPITAL GERAL' THEN 1 ELSE 0 END) AS HOSPITAL_GERAL\n",
    "                                ,   SUM(CASE WHEN DS_TIPO_UNIDADE == 'PRONTO SOCORRO GERAL' THEN 1 ELSE 0 END) AS PRONTO_SOCORRO_GERAL \n",
    "                                ,   SUM(CASE WHEN DS_TIPO_UNIDADE == 'UNIDADE MISTA' THEN 1 ELSE 0 END) AS UNIDADE_MISTA\n",
    "                                ,   SUM(CASE WHEN DS_TIPO_UNIDADE == 'PRONTO SOCORRO ESPECIALIZADO' THEN 1 ELSE 0 END) AS PRONTO_SOCORRO_ESPECIALIZADO\n",
    "                                ,   SUM(CASE WHEN DS_TIPO_UNIDADE == 'HOSPITAL ESPECIALIZADO' THEN 1 ELSE 0 END) AS HOSPITAL_ESPECIALIZADO\n",
    "                            \n",
    "                                ,  COUNT(DESC_NATUREZA_JURIDICA) AS QTD_HOSPITAIS\n",
    "                            \n",
    "                            FROM hospitals\n",
    "\n",
    "                            GROUP BY REGIAO\n",
    "                                ,   UF\n",
    "                                ,   MUNICIPIO\n",
    "                                ,   DESC_NATUREZA_JURIDICA\n",
    "\n",
    "                            ORDER BY REGIAO\n",
    "                                ,   UF\n",
    "                                ,   MUNICIPIO\n",
    "                                ,   DESC_NATUREZA_JURIDICA\n",
    "                            \n",
    "                            \"\"\").to_df()"
   ]
  },
  {
   "cell_type": "code",
   "execution_count": 58,
   "metadata": {},
   "outputs": [
    {
     "data": {
      "text/html": [
       "<div>\n",
       "<style scoped>\n",
       "    .dataframe tbody tr th:only-of-type {\n",
       "        vertical-align: middle;\n",
       "    }\n",
       "\n",
       "    .dataframe tbody tr th {\n",
       "        vertical-align: top;\n",
       "    }\n",
       "\n",
       "    .dataframe thead th {\n",
       "        text-align: right;\n",
       "    }\n",
       "</style>\n",
       "<table border=\"1\" class=\"dataframe\">\n",
       "  <thead>\n",
       "    <tr style=\"text-align: right;\">\n",
       "      <th></th>\n",
       "      <th>REGIAO</th>\n",
       "      <th>UF</th>\n",
       "      <th>MUNICIPIO</th>\n",
       "      <th>DESC_NATUREZA_JURIDICA</th>\n",
       "      <th>HOSPITAL_GERAL</th>\n",
       "      <th>PRONTO_SOCORRO_GERAL</th>\n",
       "      <th>UNIDADE_MISTA</th>\n",
       "      <th>PRONTO_SOCORRO_ESPECIALIZADO</th>\n",
       "      <th>HOSPITAL_ESPECIALIZADO</th>\n",
       "      <th>QTD_HOSPITAIS</th>\n",
       "    </tr>\n",
       "  </thead>\n",
       "  <tbody>\n",
       "    <tr>\n",
       "      <th>0</th>\n",
       "      <td>SUDESTE</td>\n",
       "      <td>SP</td>\n",
       "      <td>OSASCO</td>\n",
       "      <td>HOSPITAL_PRIVADO</td>\n",
       "      <td>2.0</td>\n",
       "      <td>0.0</td>\n",
       "      <td>0.0</td>\n",
       "      <td>0.0</td>\n",
       "      <td>0.0</td>\n",
       "      <td>2</td>\n",
       "    </tr>\n",
       "    <tr>\n",
       "      <th>1</th>\n",
       "      <td>SUDESTE</td>\n",
       "      <td>SP</td>\n",
       "      <td>OSASCO</td>\n",
       "      <td>HOSPITAL_PÚBLICO</td>\n",
       "      <td>0.0</td>\n",
       "      <td>0.0</td>\n",
       "      <td>0.0</td>\n",
       "      <td>0.0</td>\n",
       "      <td>1.0</td>\n",
       "      <td>1</td>\n",
       "    </tr>\n",
       "  </tbody>\n",
       "</table>\n",
       "</div>"
      ],
      "text/plain": [
       "    REGIAO  UF MUNICIPIO DESC_NATUREZA_JURIDICA  HOSPITAL_GERAL  \\\n",
       "0  SUDESTE  SP    OSASCO       HOSPITAL_PRIVADO             2.0   \n",
       "1  SUDESTE  SP    OSASCO       HOSPITAL_PÚBLICO             0.0   \n",
       "\n",
       "   PRONTO_SOCORRO_GERAL  UNIDADE_MISTA  PRONTO_SOCORRO_ESPECIALIZADO  \\\n",
       "0                   0.0            0.0                           0.0   \n",
       "1                   0.0            0.0                           0.0   \n",
       "\n",
       "   HOSPITAL_ESPECIALIZADO  QTD_HOSPITAIS  \n",
       "0                     0.0              2  \n",
       "1                     1.0              1  "
      ]
     },
     "execution_count": 58,
     "metadata": {},
     "output_type": "execute_result"
    }
   ],
   "source": [
    "duckdb.sql(\"\"\"SELECT * FROM hospitals_stat WHERE MUNICIPIO = 'OSASCO'\"\"\").to_df()"
   ]
  },
  {
   "cell_type": "markdown",
   "metadata": {},
   "source": [
    "# ALIMENTOS"
   ]
  },
  {
   "cell_type": "code",
   "execution_count": 60,
   "metadata": {},
   "outputs": [],
   "source": [
    "food_filter = [\n",
    "                'ARROZ LONGO FINO BENEFICIADO TIPO 1 (5 kg)'\n",
    "                , 'FEIJÃO COMUM CORES TIPO 1 (kg)'\n",
    "                , 'FEIJÃO COMUM PRETO TIPO 1 (kg)'\n",
    "                , 'CARNE BOVINA ACÉM (kg)'\n",
    "                , 'CARNE BOVINA COSTELA (kg)'\n",
    "                , 'CARNE BOVINA PONTA DE AGULHA (kg)'\n",
    "                , 'CARNE DE FRANGO CONGELADO (kg)'\n",
    "                , 'CARNE DE FRANGO RESFRIADO (kg)'\n",
    "                , 'CARNE SUÍNA CONGELADO PERNIL COM OSSO (kg)'\n",
    "                , 'CARNE SUÍNA RESFRIADO PERNIL COM OSSO (kg)'\n",
    "                , 'OLEO DE SOJA REFINADO (900 ml)'\n",
    "                , 'LEITE DE VACA LONGA VIDA INTEGRAL (l)'\n",
    "                , 'MACARRÃO ESPAGUETE SÊMOLA COM OVOS (500 g)'\n",
    "                , 'MACARRÃO ESPAGUETE SÊMOLA COM OVOS (kg)'\n",
    "                , 'SAL (kg)'\n",
    "                ]"
   ]
  },
  {
   "cell_type": "code",
   "execution_count": 61,
   "metadata": {},
   "outputs": [],
   "source": [
    "food = pl.read_csv(os.path.join(DATA_PATH, 'ALIMENTOS_CONAB.csv'), separator=';') \\\n",
    "         .melt(id_vars=['UF', 'PRODUTO'], value_vars=pl.selectors.numeric(), variable_name='MES_REF', value_name='PRECO') \\\n",
    "         .filter(pl.col('PRODUTO').is_in(food_filter)) \\\n",
    "         .pivot(values='PRECO', columns='PRODUTO', index='UF', aggregate_function='mean') \\\n",
    "         .fill_null(0.0)\n",
    "         "
   ]
  },
  {
   "cell_type": "code",
   "execution_count": 62,
   "metadata": {},
   "outputs": [
    {
     "data": {
      "text/html": [
       "<div><style>\n",
       ".dataframe > thead > tr,\n",
       ".dataframe > tbody > tr {\n",
       "  text-align: right;\n",
       "  white-space: pre-wrap;\n",
       "}\n",
       "</style>\n",
       "<small>shape: (5, 16)</small><table border=\"1\" class=\"dataframe\"><thead><tr><th>UF</th><th>ARROZ LONGO FINO BENEFICIADO TIPO 1 (5 kg)</th><th>CARNE BOVINA ACÉM (kg)</th><th>CARNE BOVINA COSTELA (kg)</th><th>CARNE BOVINA PONTA DE AGULHA (kg)</th><th>CARNE DE FRANGO CONGELADO (kg)</th><th>CARNE DE FRANGO RESFRIADO (kg)</th><th>CARNE SUÍNA CONGELADO PERNIL COM OSSO (kg)</th><th>CARNE SUÍNA RESFRIADO PERNIL COM OSSO (kg)</th><th>FEIJÃO COMUM CORES TIPO 1 (kg)</th><th>FEIJÃO COMUM PRETO TIPO 1 (kg)</th><th>LEITE DE VACA LONGA VIDA INTEGRAL (l)</th><th>MACARRÃO ESPAGUETE SÊMOLA COM OVOS (500 g)</th><th>MACARRÃO ESPAGUETE SÊMOLA COM OVOS (kg)</th><th>OLEO DE SOJA REFINADO (900 ml)</th><th>SAL (kg)</th></tr><tr><td>str</td><td>f64</td><td>f64</td><td>f64</td><td>f64</td><td>f64</td><td>f64</td><td>f64</td><td>f64</td><td>f64</td><td>f64</td><td>f64</td><td>f64</td><td>f64</td><td>f64</td><td>f64</td></tr></thead><tbody><tr><td>&quot;ES&quot;</td><td>20.27</td><td>0.0</td><td>22.499091</td><td>0.0</td><td>10.084545</td><td>13.049091</td><td>16.122727</td><td>0.0</td><td>8.373636</td><td>6.773636</td><td>4.796364</td><td>4.995455</td><td>0.0</td><td>6.657273</td><td>2.388182</td></tr><tr><td>&quot;GO&quot;</td><td>23.567273</td><td>0.0</td><td>0.0</td><td>17.223636</td><td>7.423636</td><td>7.917273</td><td>0.0</td><td>13.353636</td><td>8.934545</td><td>9.976364</td><td>5.564545</td><td>0.0</td><td>9.150909</td><td>6.314545</td><td>3.187273</td></tr><tr><td>&quot;MA&quot;</td><td>23.606364</td><td>0.0</td><td>0.0</td><td>0.0</td><td>0.0</td><td>0.0</td><td>0.0</td><td>14.990909</td><td>7.834545</td><td>7.345455</td><td>5.643636</td><td>4.421818</td><td>0.0</td><td>7.06</td><td>1.378182</td></tr><tr><td>&quot;MG&quot;</td><td>23.878182</td><td>0.0</td><td>0.0</td><td>22.383636</td><td>12.462727</td><td>12.236364</td><td>0.0</td><td>19.38</td><td>8.533636</td><td>8.107273</td><td>4.870909</td><td>4.923636</td><td>0.0</td><td>6.452727</td><td>0.0</td></tr><tr><td>&quot;MS&quot;</td><td>24.448182</td><td>0.0</td><td>0.0</td><td>16.530909</td><td>9.504545</td><td>11.877273</td><td>0.0</td><td>12.293636</td><td>9.032727</td><td>8.541818</td><td>5.535455</td><td>0.0</td><td>10.160909</td><td>6.482727</td><td>0.0</td></tr></tbody></table></div>"
      ],
      "text/plain": [
       "shape: (5, 16)\n",
       "┌─────┬────────────┬────────────┬────────────┬───┬────────────┬────────────┬────────────┬──────────┐\n",
       "│ UF  ┆ ARROZ      ┆ CARNE      ┆ CARNE      ┆ … ┆ MACARRÃO   ┆ MACARRÃO   ┆ OLEO DE    ┆ SAL (kg) │\n",
       "│ --- ┆ LONGO FINO ┆ BOVINA     ┆ BOVINA     ┆   ┆ ESPAGUETE  ┆ ESPAGUETE  ┆ SOJA       ┆ ---      │\n",
       "│ str ┆ BENEFICIAD ┆ ACÉM (kg)  ┆ COSTELA    ┆   ┆ SÊMOLA COM ┆ SÊMOLA COM ┆ REFINADO   ┆ f64      │\n",
       "│     ┆ O TIP…     ┆ ---        ┆ (kg)       ┆   ┆ OV…        ┆ OV…        ┆ (900 ml)   ┆          │\n",
       "│     ┆ ---        ┆ f64        ┆ ---        ┆   ┆ ---        ┆ ---        ┆ ---        ┆          │\n",
       "│     ┆ f64        ┆            ┆ f64        ┆   ┆ f64        ┆ f64        ┆ f64        ┆          │\n",
       "╞═════╪════════════╪════════════╪════════════╪═══╪════════════╪════════════╪════════════╪══════════╡\n",
       "│ ES  ┆ 20.27      ┆ 0.0        ┆ 22.499091  ┆ … ┆ 4.995455   ┆ 0.0        ┆ 6.657273   ┆ 2.388182 │\n",
       "│ GO  ┆ 23.567273  ┆ 0.0        ┆ 0.0        ┆ … ┆ 0.0        ┆ 9.150909   ┆ 6.314545   ┆ 3.187273 │\n",
       "│ MA  ┆ 23.606364  ┆ 0.0        ┆ 0.0        ┆ … ┆ 4.421818   ┆ 0.0        ┆ 7.06       ┆ 1.378182 │\n",
       "│ MG  ┆ 23.878182  ┆ 0.0        ┆ 0.0        ┆ … ┆ 4.923636   ┆ 0.0        ┆ 6.452727   ┆ 0.0      │\n",
       "│ MS  ┆ 24.448182  ┆ 0.0        ┆ 0.0        ┆ … ┆ 0.0        ┆ 10.160909  ┆ 6.482727   ┆ 0.0      │\n",
       "└─────┴────────────┴────────────┴────────────┴───┴────────────┴────────────┴────────────┴──────────┘"
      ]
     },
     "execution_count": 62,
     "metadata": {},
     "output_type": "execute_result"
    }
   ],
   "source": [
    "food.head()"
   ]
  },
  {
   "cell_type": "markdown",
   "metadata": {},
   "source": [
    "# SEGURANÇA"
   ]
  },
  {
   "cell_type": "markdown",
   "metadata": {},
   "source": [
    "## MORTES"
   ]
  },
  {
   "cell_type": "code",
   "execution_count": 68,
   "metadata": {},
   "outputs": [],
   "source": [
    "homicidios = pl.read_csv(os.path.join(DATA_PATH, 'taxa-homicidios.csv'), separator=';') \\\n",
    "                  .filter(pl.col('período') > 2013) \\\n",
    "                  .with_columns(pl.col('nome').str.to_uppercase().alias('MUNICIPIO')) \\\n",
    "                  .with_columns(pl.col('MUNICIPIO').map_batches(custnorm).alias('MUNICIPIO')) \\\n",
    "                  .unique() "
   ]
  },
  {
   "cell_type": "code",
   "execution_count": 69,
   "metadata": {},
   "outputs": [
    {
     "data": {
      "text/html": [
       "<div><style>\n",
       ".dataframe > thead > tr,\n",
       ".dataframe > tbody > tr {\n",
       "  text-align: right;\n",
       "  white-space: pre-wrap;\n",
       "}\n",
       "</style>\n",
       "<small>shape: (5, 5)</small><table border=\"1\" class=\"dataframe\"><thead><tr><th>cod</th><th>nome</th><th>período</th><th>valor</th><th>MUNICIPIO</th></tr><tr><td>i64</td><td>str</td><td>i64</td><td>f64</td><td>str</td></tr></thead><tbody><tr><td>5300108</td><td>&quot;Brasília&quot;</td><td>2014</td><td>30.05</td><td>&quot;BRASILIA&quot;</td></tr><tr><td>5221858</td><td>&quot;Valparaíso de …</td><td>2014</td><td>55.5</td><td>&quot;VALPARAISO DE …</td></tr><tr><td>5219506</td><td>&quot;Santa Rosa de …</td><td>2014</td><td>37.43</td><td>&quot;SANTA ROSA DE …</td></tr><tr><td>5218607</td><td>&quot;Rialma&quot;</td><td>2014</td><td>18.51</td><td>&quot;RIALMA&quot;</td></tr><tr><td>5209903</td><td>&quot;Iaciara&quot;</td><td>2014</td><td>22.67</td><td>&quot;IACIARA&quot;</td></tr></tbody></table></div>"
      ],
      "text/plain": [
       "shape: (5, 5)\n",
       "┌─────────┬─────────────────────┬─────────┬───────┬─────────────────────┐\n",
       "│ cod     ┆ nome                ┆ período ┆ valor ┆ MUNICIPIO           │\n",
       "│ ---     ┆ ---                 ┆ ---     ┆ ---   ┆ ---                 │\n",
       "│ i64     ┆ str                 ┆ i64     ┆ f64   ┆ str                 │\n",
       "╞═════════╪═════════════════════╪═════════╪═══════╪═════════════════════╡\n",
       "│ 5300108 ┆ Brasília            ┆ 2014    ┆ 30.05 ┆ BRASILIA            │\n",
       "│ 5221858 ┆ Valparaíso de Goiás ┆ 2014    ┆ 55.5  ┆ VALPARAISO DE GOIAS │\n",
       "│ 5219506 ┆ Santa Rosa de Goiás ┆ 2014    ┆ 37.43 ┆ SANTA ROSA DE GOIAS │\n",
       "│ 5218607 ┆ Rialma              ┆ 2014    ┆ 18.51 ┆ RIALMA              │\n",
       "│ 5209903 ┆ Iaciara             ┆ 2014    ┆ 22.67 ┆ IACIARA             │\n",
       "└─────────┴─────────────────────┴─────────┴───────┴─────────────────────┘"
      ]
     },
     "execution_count": 69,
     "metadata": {},
     "output_type": "execute_result"
    }
   ],
   "source": [
    "homicidios.head()"
   ]
  },
  {
   "cell_type": "code",
   "execution_count": 45,
   "metadata": {},
   "outputs": [
    {
     "data": {
      "text/html": [
       "<div><style>\n",
       ".dataframe > thead > tr,\n",
       ".dataframe > tbody > tr {\n",
       "  text-align: right;\n",
       "  white-space: pre-wrap;\n",
       "}\n",
       "</style>\n",
       "<small>shape: (6, 4)</small><table border=\"1\" class=\"dataframe\"><thead><tr><th>cod</th><th>nome</th><th>período</th><th>valor</th></tr><tr><td>i64</td><td>str</td><td>i64</td><td>f64</td></tr></thead><tbody><tr><td>3534401</td><td>&quot;Osasco&quot;</td><td>2014</td><td>17.67</td></tr><tr><td>3534401</td><td>&quot;Osasco&quot;</td><td>2015</td><td>18.06</td></tr><tr><td>3534401</td><td>&quot;Osasco&quot;</td><td>2016</td><td>14.85</td></tr><tr><td>3534401</td><td>&quot;Osasco&quot;</td><td>2017</td><td>14.53</td></tr><tr><td>3534401</td><td>&quot;Osasco&quot;</td><td>2018</td><td>13.78</td></tr><tr><td>3534401</td><td>&quot;Osasco&quot;</td><td>2019</td><td>8.59</td></tr></tbody></table></div>"
      ],
      "text/plain": [
       "shape: (6, 4)\n",
       "┌─────────┬────────┬─────────┬───────┐\n",
       "│ cod     ┆ nome   ┆ período ┆ valor │\n",
       "│ ---     ┆ ---    ┆ ---     ┆ ---   │\n",
       "│ i64     ┆ str    ┆ i64     ┆ f64   │\n",
       "╞═════════╪════════╪═════════╪═══════╡\n",
       "│ 3534401 ┆ Osasco ┆ 2014    ┆ 17.67 │\n",
       "│ 3534401 ┆ Osasco ┆ 2015    ┆ 18.06 │\n",
       "│ 3534401 ┆ Osasco ┆ 2016    ┆ 14.85 │\n",
       "│ 3534401 ┆ Osasco ┆ 2017    ┆ 14.53 │\n",
       "│ 3534401 ┆ Osasco ┆ 2018    ┆ 13.78 │\n",
       "│ 3534401 ┆ Osasco ┆ 2019    ┆ 8.59  │\n",
       "└─────────┴────────┴─────────┴───────┘"
      ]
     },
     "execution_count": 45,
     "metadata": {},
     "output_type": "execute_result"
    }
   ],
   "source": [
    "homicidios.filter(pl.col('nome') == 'Osasco').sort('período')"
   ]
  },
  {
   "cell_type": "code",
   "execution_count": 47,
   "metadata": {},
   "outputs": [
    {
     "data": {
      "text/html": [
       "<div><style>\n",
       ".dataframe > thead > tr,\n",
       ".dataframe > tbody > tr {\n",
       "  text-align: right;\n",
       "  white-space: pre-wrap;\n",
       "}\n",
       "</style>\n",
       "<small>shape: (6, 4)</small><table border=\"1\" class=\"dataframe\"><thead><tr><th>cod</th><th>nome</th><th>período</th><th>valor</th></tr><tr><td>i64</td><td>str</td><td>i64</td><td>f64</td></tr></thead><tbody><tr><td>4106902</td><td>&quot;Curitiba&quot;</td><td>2014</td><td>32.62</td></tr><tr><td>4106902</td><td>&quot;Curitiba&quot;</td><td>2015</td><td>27.72</td></tr><tr><td>4106902</td><td>&quot;Curitiba&quot;</td><td>2016</td><td>29.55</td></tr><tr><td>4106902</td><td>&quot;Curitiba&quot;</td><td>2017</td><td>23.57</td></tr><tr><td>4106902</td><td>&quot;Curitiba&quot;</td><td>2018</td><td>21.18</td></tr><tr><td>4106902</td><td>&quot;Curitiba&quot;</td><td>2019</td><td>16.5</td></tr></tbody></table></div>"
      ],
      "text/plain": [
       "shape: (6, 4)\n",
       "┌─────────┬──────────┬─────────┬───────┐\n",
       "│ cod     ┆ nome     ┆ período ┆ valor │\n",
       "│ ---     ┆ ---      ┆ ---     ┆ ---   │\n",
       "│ i64     ┆ str      ┆ i64     ┆ f64   │\n",
       "╞═════════╪══════════╪═════════╪═══════╡\n",
       "│ 4106902 ┆ Curitiba ┆ 2014    ┆ 32.62 │\n",
       "│ 4106902 ┆ Curitiba ┆ 2015    ┆ 27.72 │\n",
       "│ 4106902 ┆ Curitiba ┆ 2016    ┆ 29.55 │\n",
       "│ 4106902 ┆ Curitiba ┆ 2017    ┆ 23.57 │\n",
       "│ 4106902 ┆ Curitiba ┆ 2018    ┆ 21.18 │\n",
       "│ 4106902 ┆ Curitiba ┆ 2019    ┆ 16.5  │\n",
       "└─────────┴──────────┴─────────┴───────┘"
      ]
     },
     "execution_count": 47,
     "metadata": {},
     "output_type": "execute_result"
    }
   ],
   "source": [
    "homicidios.filter(pl.col('nome') == 'Curitiba').sort('período')"
   ]
  },
  {
   "cell_type": "markdown",
   "metadata": {},
   "source": [
    "## MORTES ARMA"
   ]
  },
  {
   "cell_type": "code",
   "execution_count": 72,
   "metadata": {},
   "outputs": [],
   "source": [
    "hom_arma = pl.read_csv(os.path.join(DATA_PATH, 'taxa-de-homicidios-por-armas-de-fogo.csv'), separator=';') \\\n",
    "                  .filter(pl.col('período') > 2013) \\\n",
    "                  .with_columns(pl.col('nome').str.to_uppercase().alias('MUNICIPIO')) \\\n",
    "                  .with_columns(pl.col('MUNICIPIO').map_batches(custnorm).alias('MUNICIPIO')) \\\n",
    "                  .unique() "
   ]
  },
  {
   "cell_type": "code",
   "execution_count": 73,
   "metadata": {},
   "outputs": [
    {
     "data": {
      "text/html": [
       "<div><style>\n",
       ".dataframe > thead > tr,\n",
       ".dataframe > tbody > tr {\n",
       "  text-align: right;\n",
       "  white-space: pre-wrap;\n",
       "}\n",
       "</style>\n",
       "<small>shape: (5, 5)</small><table border=\"1\" class=\"dataframe\"><thead><tr><th>cod</th><th>nome</th><th>período</th><th>valor</th><th>MUNICIPIO</th></tr><tr><td>i64</td><td>str</td><td>i64</td><td>f64</td><td>str</td></tr></thead><tbody><tr><td>1100023</td><td>&quot;Ariquemes&quot;</td><td>2014</td><td>46.33</td><td>&quot;ARIQUEMES&quot;</td></tr><tr><td>1100122</td><td>&quot;Ji-Paraná&quot;</td><td>2014</td><td>12.95</td><td>&quot;JI-PARANA&quot;</td></tr><tr><td>1101476</td><td>&quot;Primavera de R…</td><td>2014</td><td>0.0</td><td>&quot;PRIMAVERA DE R…</td></tr><tr><td>1101484</td><td>&quot;São Felipe D&#x27;O…</td><td>2014</td><td>0.0</td><td>&quot;SAO FELIPE D&#x27;O…</td></tr><tr><td>1101757</td><td>&quot;Vale do Anari&quot;</td><td>2014</td><td>9.7</td><td>&quot;VALE DO ANARI&quot;</td></tr></tbody></table></div>"
      ],
      "text/plain": [
       "shape: (5, 5)\n",
       "┌─────────┬───────────────────────┬─────────┬───────┬───────────────────────┐\n",
       "│ cod     ┆ nome                  ┆ período ┆ valor ┆ MUNICIPIO             │\n",
       "│ ---     ┆ ---                   ┆ ---     ┆ ---   ┆ ---                   │\n",
       "│ i64     ┆ str                   ┆ i64     ┆ f64   ┆ str                   │\n",
       "╞═════════╪═══════════════════════╪═════════╪═══════╪═══════════════════════╡\n",
       "│ 1100023 ┆ Ariquemes             ┆ 2014    ┆ 46.33 ┆ ARIQUEMES             │\n",
       "│ 1100122 ┆ Ji-Paraná             ┆ 2014    ┆ 12.95 ┆ JI-PARANA             │\n",
       "│ 1101476 ┆ Primavera de Rondônia ┆ 2014    ┆ 0.0   ┆ PRIMAVERA DE RONDONIA │\n",
       "│ 1101484 ┆ São Felipe D'Oeste    ┆ 2014    ┆ 0.0   ┆ SAO FELIPE D'OESTE    │\n",
       "│ 1101757 ┆ Vale do Anari         ┆ 2014    ┆ 9.7   ┆ VALE DO ANARI         │\n",
       "└─────────┴───────────────────────┴─────────┴───────┴───────────────────────┘"
      ]
     },
     "execution_count": 73,
     "metadata": {},
     "output_type": "execute_result"
    }
   ],
   "source": [
    "hom_arma.head()"
   ]
  },
  {
   "cell_type": "code",
   "execution_count": 74,
   "metadata": {},
   "outputs": [
    {
     "data": {
      "text/html": [
       "<div><style>\n",
       ".dataframe > thead > tr,\n",
       ".dataframe > tbody > tr {\n",
       "  text-align: right;\n",
       "  white-space: pre-wrap;\n",
       "}\n",
       "</style>\n",
       "<small>shape: (8, 5)</small><table border=\"1\" class=\"dataframe\"><thead><tr><th>cod</th><th>nome</th><th>período</th><th>valor</th><th>MUNICIPIO</th></tr><tr><td>i64</td><td>str</td><td>i64</td><td>f64</td><td>str</td></tr></thead><tbody><tr><td>3205200</td><td>&quot;Vila Velha&quot;</td><td>2014</td><td>47.45</td><td>&quot;VILA VELHA&quot;</td></tr><tr><td>3205200</td><td>&quot;Vila Velha&quot;</td><td>2015</td><td>34.11</td><td>&quot;VILA VELHA&quot;</td></tr><tr><td>3205200</td><td>&quot;Vila Velha&quot;</td><td>2016</td><td>28.88</td><td>&quot;VILA VELHA&quot;</td></tr><tr><td>3205200</td><td>&quot;Vila Velha&quot;</td><td>2017</td><td>31.98</td><td>&quot;VILA VELHA&quot;</td></tr><tr><td>3205200</td><td>&quot;Vila Velha&quot;</td><td>2018</td><td>27.15</td><td>&quot;VILA VELHA&quot;</td></tr><tr><td>3205200</td><td>&quot;Vila Velha&quot;</td><td>2019</td><td>20.25</td><td>&quot;VILA VELHA&quot;</td></tr><tr><td>3205200</td><td>&quot;Vila Velha&quot;</td><td>2020</td><td>24.73</td><td>&quot;VILA VELHA&quot;</td></tr><tr><td>3205200</td><td>&quot;Vila Velha&quot;</td><td>2021</td><td>22.81</td><td>&quot;VILA VELHA&quot;</td></tr></tbody></table></div>"
      ],
      "text/plain": [
       "shape: (8, 5)\n",
       "┌─────────┬────────────┬─────────┬───────┬────────────┐\n",
       "│ cod     ┆ nome       ┆ período ┆ valor ┆ MUNICIPIO  │\n",
       "│ ---     ┆ ---        ┆ ---     ┆ ---   ┆ ---        │\n",
       "│ i64     ┆ str        ┆ i64     ┆ f64   ┆ str        │\n",
       "╞═════════╪════════════╪═════════╪═══════╪════════════╡\n",
       "│ 3205200 ┆ Vila Velha ┆ 2014    ┆ 47.45 ┆ VILA VELHA │\n",
       "│ 3205200 ┆ Vila Velha ┆ 2015    ┆ 34.11 ┆ VILA VELHA │\n",
       "│ 3205200 ┆ Vila Velha ┆ 2016    ┆ 28.88 ┆ VILA VELHA │\n",
       "│ 3205200 ┆ Vila Velha ┆ 2017    ┆ 31.98 ┆ VILA VELHA │\n",
       "│ 3205200 ┆ Vila Velha ┆ 2018    ┆ 27.15 ┆ VILA VELHA │\n",
       "│ 3205200 ┆ Vila Velha ┆ 2019    ┆ 20.25 ┆ VILA VELHA │\n",
       "│ 3205200 ┆ Vila Velha ┆ 2020    ┆ 24.73 ┆ VILA VELHA │\n",
       "│ 3205200 ┆ Vila Velha ┆ 2021    ┆ 22.81 ┆ VILA VELHA │\n",
       "└─────────┴────────────┴─────────┴───────┴────────────┘"
      ]
     },
     "execution_count": 74,
     "metadata": {},
     "output_type": "execute_result"
    }
   ],
   "source": [
    "hom_arma.filter(pl.col('cod') == 3205200 ).sort('período')"
   ]
  },
  {
   "cell_type": "code",
   "execution_count": 75,
   "metadata": {},
   "outputs": [
    {
     "data": {
      "text/html": [
       "<div><style>\n",
       ".dataframe > thead > tr,\n",
       ".dataframe > tbody > tr {\n",
       "  text-align: right;\n",
       "  white-space: pre-wrap;\n",
       "}\n",
       "</style>\n",
       "<small>shape: (8, 5)</small><table border=\"1\" class=\"dataframe\"><thead><tr><th>cod</th><th>nome</th><th>período</th><th>valor</th><th>MUNICIPIO</th></tr><tr><td>i64</td><td>str</td><td>i64</td><td>f64</td><td>str</td></tr></thead><tbody><tr><td>3534401</td><td>&quot;Osasco&quot;</td><td>2014</td><td>11.16</td><td>&quot;OSASCO&quot;</td></tr><tr><td>3534401</td><td>&quot;Osasco&quot;</td><td>2015</td><td>13.58</td><td>&quot;OSASCO&quot;</td></tr><tr><td>3534401</td><td>&quot;Osasco&quot;</td><td>2016</td><td>10.81</td><td>&quot;OSASCO&quot;</td></tr><tr><td>3534401</td><td>&quot;Osasco&quot;</td><td>2017</td><td>11.08</td><td>&quot;OSASCO&quot;</td></tr><tr><td>3534401</td><td>&quot;Osasco&quot;</td><td>2018</td><td>9.33</td><td>&quot;OSASCO&quot;</td></tr><tr><td>3534401</td><td>&quot;Osasco&quot;</td><td>2019</td><td>6.3</td><td>&quot;OSASCO&quot;</td></tr><tr><td>3534401</td><td>&quot;Osasco&quot;</td><td>2020</td><td>7.57</td><td>&quot;OSASCO&quot;</td></tr><tr><td>3534401</td><td>&quot;Osasco&quot;</td><td>2021</td><td>3.99</td><td>&quot;OSASCO&quot;</td></tr></tbody></table></div>"
      ],
      "text/plain": [
       "shape: (8, 5)\n",
       "┌─────────┬────────┬─────────┬───────┬───────────┐\n",
       "│ cod     ┆ nome   ┆ período ┆ valor ┆ MUNICIPIO │\n",
       "│ ---     ┆ ---    ┆ ---     ┆ ---   ┆ ---       │\n",
       "│ i64     ┆ str    ┆ i64     ┆ f64   ┆ str       │\n",
       "╞═════════╪════════╪═════════╪═══════╪═══════════╡\n",
       "│ 3534401 ┆ Osasco ┆ 2014    ┆ 11.16 ┆ OSASCO    │\n",
       "│ 3534401 ┆ Osasco ┆ 2015    ┆ 13.58 ┆ OSASCO    │\n",
       "│ 3534401 ┆ Osasco ┆ 2016    ┆ 10.81 ┆ OSASCO    │\n",
       "│ 3534401 ┆ Osasco ┆ 2017    ┆ 11.08 ┆ OSASCO    │\n",
       "│ 3534401 ┆ Osasco ┆ 2018    ┆ 9.33  ┆ OSASCO    │\n",
       "│ 3534401 ┆ Osasco ┆ 2019    ┆ 6.3   ┆ OSASCO    │\n",
       "│ 3534401 ┆ Osasco ┆ 2020    ┆ 7.57  ┆ OSASCO    │\n",
       "│ 3534401 ┆ Osasco ┆ 2021    ┆ 3.99  ┆ OSASCO    │\n",
       "└─────────┴────────┴─────────┴───────┴───────────┘"
      ]
     },
     "execution_count": 75,
     "metadata": {},
     "output_type": "execute_result"
    }
   ],
   "source": [
    "hom_arma.filter(pl.col('nome') == 'Osasco' ).sort('período')"
   ]
  },
  {
   "cell_type": "markdown",
   "metadata": {},
   "source": [
    "## MORTES VIOLENTAS"
   ]
  },
  {
   "cell_type": "code",
   "execution_count": 80,
   "metadata": {},
   "outputs": [],
   "source": [
    "m_violentas = pl.read_csv(os.path.join(DATA_PATH, 'mortes-violentas.csv'), separator=';') \\\n",
    "                  .filter(pl.col('período') > 2013) \\\n",
    "                  .with_columns(pl.col('nome').str.to_uppercase().alias('MUNICIPIO')) \\\n",
    "                  .with_columns(pl.col('MUNICIPIO').map_batches(custnorm).alias('MUNICIPIO')) \\\n",
    "                  .unique() "
   ]
  },
  {
   "cell_type": "code",
   "execution_count": 77,
   "metadata": {},
   "outputs": [
    {
     "data": {
      "text/html": [
       "<div><style>\n",
       ".dataframe > thead > tr,\n",
       ".dataframe > tbody > tr {\n",
       "  text-align: right;\n",
       "  white-space: pre-wrap;\n",
       "}\n",
       "</style>\n",
       "<small>shape: (5, 5)</small><table border=\"1\" class=\"dataframe\"><thead><tr><th>cod</th><th>nome</th><th>período</th><th>valor</th><th>MUNICIPIO</th></tr><tr><td>i64</td><td>str</td><td>i64</td><td>i64</td><td>str</td></tr></thead><tbody><tr><td>5215652</td><td>&quot;Palestina de G…</td><td>2014</td><td>1</td><td>&quot;PALESTINA DE G…</td></tr><tr><td>5215306</td><td>&quot;Orizona&quot;</td><td>2014</td><td>13</td><td>&quot;ORIZONA&quot;</td></tr><tr><td>5214903</td><td>&quot;Nova Roma&quot;</td><td>2014</td><td>5</td><td>&quot;NOVA ROMA&quot;</td></tr><tr><td>5213509</td><td>&quot;Monte Alegre d…</td><td>2014</td><td>8</td><td>&quot;MONTE ALEGRE D…</td></tr><tr><td>5213103</td><td>&quot;Mineiros&quot;</td><td>2014</td><td>64</td><td>&quot;MINEIROS&quot;</td></tr></tbody></table></div>"
      ],
      "text/plain": [
       "shape: (5, 5)\n",
       "┌─────────┬───────────────────────┬─────────┬───────┬───────────────────────┐\n",
       "│ cod     ┆ nome                  ┆ período ┆ valor ┆ MUNICIPIO             │\n",
       "│ ---     ┆ ---                   ┆ ---     ┆ ---   ┆ ---                   │\n",
       "│ i64     ┆ str                   ┆ i64     ┆ i64   ┆ str                   │\n",
       "╞═════════╪═══════════════════════╪═════════╪═══════╪═══════════════════════╡\n",
       "│ 5215652 ┆ Palestina de Goiás    ┆ 2014    ┆ 1     ┆ PALESTINA DE GOIAS    │\n",
       "│ 5215306 ┆ Orizona               ┆ 2014    ┆ 13    ┆ ORIZONA               │\n",
       "│ 5214903 ┆ Nova Roma             ┆ 2014    ┆ 5     ┆ NOVA ROMA             │\n",
       "│ 5213509 ┆ Monte Alegre de Goiás ┆ 2014    ┆ 8     ┆ MONTE ALEGRE DE GOIAS │\n",
       "│ 5213103 ┆ Mineiros              ┆ 2014    ┆ 64    ┆ MINEIROS              │\n",
       "└─────────┴───────────────────────┴─────────┴───────┴───────────────────────┘"
      ]
     },
     "execution_count": 77,
     "metadata": {},
     "output_type": "execute_result"
    }
   ],
   "source": [
    "m_violentas.head()"
   ]
  },
  {
   "cell_type": "code",
   "execution_count": 78,
   "metadata": {},
   "outputs": [
    {
     "data": {
      "text/html": [
       "<div><style>\n",
       ".dataframe > thead > tr,\n",
       ".dataframe > tbody > tr {\n",
       "  text-align: right;\n",
       "  white-space: pre-wrap;\n",
       "}\n",
       "</style>\n",
       "<small>shape: (6, 5)</small><table border=\"1\" class=\"dataframe\"><thead><tr><th>cod</th><th>nome</th><th>período</th><th>valor</th><th>MUNICIPIO</th></tr><tr><td>i64</td><td>str</td><td>i64</td><td>i64</td><td>str</td></tr></thead><tbody><tr><td>3534401</td><td>&quot;Osasco&quot;</td><td>2014</td><td>419</td><td>&quot;OSASCO&quot;</td></tr><tr><td>3534401</td><td>&quot;Osasco&quot;</td><td>2015</td><td>383</td><td>&quot;OSASCO&quot;</td></tr><tr><td>3534401</td><td>&quot;Osasco&quot;</td><td>2016</td><td>361</td><td>&quot;OSASCO&quot;</td></tr><tr><td>3534401</td><td>&quot;Osasco&quot;</td><td>2017</td><td>408</td><td>&quot;OSASCO&quot;</td></tr><tr><td>3534401</td><td>&quot;Osasco&quot;</td><td>2018</td><td>376</td><td>&quot;OSASCO&quot;</td></tr><tr><td>3534401</td><td>&quot;Osasco&quot;</td><td>2019</td><td>326</td><td>&quot;OSASCO&quot;</td></tr></tbody></table></div>"
      ],
      "text/plain": [
       "shape: (6, 5)\n",
       "┌─────────┬────────┬─────────┬───────┬───────────┐\n",
       "│ cod     ┆ nome   ┆ período ┆ valor ┆ MUNICIPIO │\n",
       "│ ---     ┆ ---    ┆ ---     ┆ ---   ┆ ---       │\n",
       "│ i64     ┆ str    ┆ i64     ┆ i64   ┆ str       │\n",
       "╞═════════╪════════╪═════════╪═══════╪═══════════╡\n",
       "│ 3534401 ┆ Osasco ┆ 2014    ┆ 419   ┆ OSASCO    │\n",
       "│ 3534401 ┆ Osasco ┆ 2015    ┆ 383   ┆ OSASCO    │\n",
       "│ 3534401 ┆ Osasco ┆ 2016    ┆ 361   ┆ OSASCO    │\n",
       "│ 3534401 ┆ Osasco ┆ 2017    ┆ 408   ┆ OSASCO    │\n",
       "│ 3534401 ┆ Osasco ┆ 2018    ┆ 376   ┆ OSASCO    │\n",
       "│ 3534401 ┆ Osasco ┆ 2019    ┆ 326   ┆ OSASCO    │\n",
       "└─────────┴────────┴─────────┴───────┴───────────┘"
      ]
     },
     "execution_count": 78,
     "metadata": {},
     "output_type": "execute_result"
    }
   ],
   "source": [
    "m_violentas.filter(pl.col('nome') == 'Osasco' ).sort('período')"
   ]
  },
  {
   "cell_type": "markdown",
   "metadata": {},
   "source": [
    "## FURTO E ROUBO DE VEÍCULOS"
   ]
  },
  {
   "cell_type": "code",
   "execution_count": 84,
   "metadata": {},
   "outputs": [],
   "source": [
    "furto_veiculos = pl.read_csv(os.path.join(DATA_PATH, 'furto_roubo_veiculos.csv'), separator=';') \\\n",
    "                    .select(pl.col('UF'), pl.col('ano'), pl.col('qtd'), pl.col('taxa_100mil_veic')) \\\n",
    "                    .unique() "
   ]
  },
  {
   "cell_type": "code",
   "execution_count": 85,
   "metadata": {},
   "outputs": [
    {
     "data": {
      "text/html": [
       "<div><style>\n",
       ".dataframe > thead > tr,\n",
       ".dataframe > tbody > tr {\n",
       "  text-align: right;\n",
       "  white-space: pre-wrap;\n",
       "}\n",
       "</style>\n",
       "<small>shape: (5, 4)</small><table border=\"1\" class=\"dataframe\"><thead><tr><th>UF</th><th>ano</th><th>qtd</th><th>taxa_100mil_veic</th></tr><tr><td>str</td><td>i64</td><td>i64</td><td>f64</td></tr></thead><tbody><tr><td>&quot;BA&quot;</td><td>2013</td><td>17812</td><td>568.634017</td></tr><tr><td>&quot;Brasil&quot;</td><td>2013</td><td>456762</td><td>563.280159</td></tr><tr><td>&quot;ES&quot;</td><td>2013</td><td>7111</td><td>451.922179</td></tr><tr><td>&quot;SE&quot;</td><td>2014</td><td>2801</td><td>449.899853</td></tr><tr><td>&quot;PE&quot;</td><td>2015</td><td>14819</td><td>545.694504</td></tr></tbody></table></div>"
      ],
      "text/plain": [
       "shape: (5, 4)\n",
       "┌────────┬──────┬────────┬──────────────────┐\n",
       "│ UF     ┆ ano  ┆ qtd    ┆ taxa_100mil_veic │\n",
       "│ ---    ┆ ---  ┆ ---    ┆ ---              │\n",
       "│ str    ┆ i64  ┆ i64    ┆ f64              │\n",
       "╞════════╪══════╪════════╪══════════════════╡\n",
       "│ BA     ┆ 2013 ┆ 17812  ┆ 568.634017       │\n",
       "│ Brasil ┆ 2013 ┆ 456762 ┆ 563.280159       │\n",
       "│ ES     ┆ 2013 ┆ 7111   ┆ 451.922179       │\n",
       "│ SE     ┆ 2014 ┆ 2801   ┆ 449.899853       │\n",
       "│ PE     ┆ 2015 ┆ 14819  ┆ 545.694504       │\n",
       "└────────┴──────┴────────┴──────────────────┘"
      ]
     },
     "execution_count": 85,
     "metadata": {},
     "output_type": "execute_result"
    }
   ],
   "source": [
    "furto_veiculos.head()"
   ]
  },
  {
   "cell_type": "markdown",
   "metadata": {},
   "source": [
    "## FURTO E ROUBO DE CELULARES"
   ]
  },
  {
   "cell_type": "code",
   "execution_count": 89,
   "metadata": {},
   "outputs": [],
   "source": [
    "furto_celulares = pl.read_csv(os.path.join(DATA_PATH, 'furto_roubo_celular.csv'), separator=';') \\\n",
    "                    .select(pl.col('UF'), pl.col('ano'), pl.col('qtd'), pl.col('taxa_100mil_hab')) \\\n",
    "                    .unique() "
   ]
  },
  {
   "cell_type": "code",
   "execution_count": 90,
   "metadata": {},
   "outputs": [
    {
     "data": {
      "text/html": [
       "<div><style>\n",
       ".dataframe > thead > tr,\n",
       ".dataframe > tbody > tr {\n",
       "  text-align: right;\n",
       "  white-space: pre-wrap;\n",
       "}\n",
       "</style>\n",
       "<small>shape: (5, 4)</small><table border=\"1\" class=\"dataframe\"><thead><tr><th>UF</th><th>ano</th><th>qtd</th><th>taxa_100mil_hab</th></tr><tr><td>str</td><td>i64</td><td>i64</td><td>f64</td></tr></thead><tbody><tr><td>&quot;Brasil&quot;</td><td>2021</td><td>852991</td><td>423.722709</td></tr><tr><td>&quot;AM&quot;</td><td>2022</td><td>40008</td><td>1015.128737</td></tr><tr><td>&quot;CE&quot;</td><td>2022</td><td>41097</td><td>467.452894</td></tr><tr><td>&quot;RJ&quot;</td><td>2022</td><td>46209</td><td>287.825413</td></tr><tr><td>&quot;MS&quot;</td><td>2021</td><td>4350</td><td>159.278795</td></tr></tbody></table></div>"
      ],
      "text/plain": [
       "shape: (5, 4)\n",
       "┌────────┬──────┬────────┬─────────────────┐\n",
       "│ UF     ┆ ano  ┆ qtd    ┆ taxa_100mil_hab │\n",
       "│ ---    ┆ ---  ┆ ---    ┆ ---             │\n",
       "│ str    ┆ i64  ┆ i64    ┆ f64             │\n",
       "╞════════╪══════╪════════╪═════════════════╡\n",
       "│ Brasil ┆ 2021 ┆ 852991 ┆ 423.722709      │\n",
       "│ AM     ┆ 2022 ┆ 40008  ┆ 1015.128737     │\n",
       "│ CE     ┆ 2022 ┆ 41097  ┆ 467.452894      │\n",
       "│ RJ     ┆ 2022 ┆ 46209  ┆ 287.825413      │\n",
       "│ MS     ┆ 2021 ┆ 4350   ┆ 159.278795      │\n",
       "└────────┴──────┴────────┴─────────────────┘"
      ]
     },
     "execution_count": 90,
     "metadata": {},
     "output_type": "execute_result"
    }
   ],
   "source": [
    "furto_celulares.head()"
   ]
  },
  {
   "cell_type": "markdown",
   "metadata": {},
   "source": [
    "## ESTUPRO"
   ]
  },
  {
   "cell_type": "code",
   "execution_count": 87,
   "metadata": {},
   "outputs": [],
   "source": [
    "estupro = pl.read_csv(os.path.join(DATA_PATH, 'estupro.csv'), separator=';') \\\n",
    "                    .select(pl.col('UF'), pl.col('ano'), pl.col('qtd'), pl.col('taxa_100mil_hab')) \\\n",
    "                    .unique() "
   ]
  },
  {
   "cell_type": "code",
   "execution_count": 88,
   "metadata": {},
   "outputs": [
    {
     "data": {
      "text/html": [
       "<div><style>\n",
       ".dataframe > thead > tr,\n",
       ".dataframe > tbody > tr {\n",
       "  text-align: right;\n",
       "  white-space: pre-wrap;\n",
       "}\n",
       "</style>\n",
       "<small>shape: (5, 4)</small><table border=\"1\" class=\"dataframe\"><thead><tr><th>UF</th><th>ano</th><th>qtd</th><th>taxa_100mil_hab</th></tr><tr><td>str</td><td>i64</td><td>i64</td><td>f64</td></tr></thead><tbody><tr><td>&quot;AM&quot;</td><td>2009</td><td>694</td><td>20.451651</td></tr><tr><td>&quot;PE&quot;</td><td>2009</td><td>1528</td><td>17.343423</td></tr><tr><td>&quot;RR&quot;</td><td>2009</td><td>363</td><td>86.121201</td></tr><tr><td>&quot;AC&quot;</td><td>2011</td><td>225</td><td>30.14526</td></tr><tr><td>&quot;PE&quot;</td><td>2011</td><td>1972</td><td>22.245019</td></tr></tbody></table></div>"
      ],
      "text/plain": [
       "shape: (5, 4)\n",
       "┌─────┬──────┬──────┬─────────────────┐\n",
       "│ UF  ┆ ano  ┆ qtd  ┆ taxa_100mil_hab │\n",
       "│ --- ┆ ---  ┆ ---  ┆ ---             │\n",
       "│ str ┆ i64  ┆ i64  ┆ f64             │\n",
       "╞═════╪══════╪══════╪═════════════════╡\n",
       "│ AM  ┆ 2009 ┆ 694  ┆ 20.451651       │\n",
       "│ PE  ┆ 2009 ┆ 1528 ┆ 17.343423       │\n",
       "│ RR  ┆ 2009 ┆ 363  ┆ 86.121201       │\n",
       "│ AC  ┆ 2011 ┆ 225  ┆ 30.14526        │\n",
       "│ PE  ┆ 2011 ┆ 1972 ┆ 22.245019       │\n",
       "└─────┴──────┴──────┴─────────────────┘"
      ]
     },
     "execution_count": 88,
     "metadata": {},
     "output_type": "execute_result"
    }
   ],
   "source": [
    "estupro.head()"
   ]
  },
  {
   "cell_type": "markdown",
   "metadata": {},
   "source": [
    "# PRAIAS"
   ]
  },
  {
   "cell_type": "code",
   "execution_count": 26,
   "metadata": {},
   "outputs": [],
   "source": [
    "praias = pl.read_csv(os.path.join(DATA_PATH, 'praias.csv'), separator='|', truncate_ragged_lines=True) \\\n",
    "                    .unique() "
   ]
  },
  {
   "cell_type": "code",
   "execution_count": 28,
   "metadata": {},
   "outputs": [
    {
     "data": {
      "text/html": [
       "<div><style>\n",
       ".dataframe > thead > tr,\n",
       ".dataframe > tbody > tr {\n",
       "  text-align: right;\n",
       "  white-space: pre-wrap;\n",
       "}\n",
       "</style>\n",
       "<small>shape: (5, 13)</small><table border=\"1\" class=\"dataframe\"><thead><tr><th>uf</th><th>cidade</th><th>praia</th><th>ponto</th><th>latlong</th><th>2016</th><th>2017</th><th>2018</th><th>2019</th><th>2020</th><th>2021</th><th>LAT</th><th>LONG</th></tr><tr><td>str</td><td>str</td><td>str</td><td>str</td><td>str</td><td>f64</td><td>i64</td><td>i64</td><td>i64</td><td>i64</td><td>i64</td><td>f64</td><td>f64</td></tr></thead><tbody><tr><td>&quot;AL&quot;</td><td>&quot;Coruripe&quot;</td><td>&quot;Miai de Cima&quot;</td><td>null</td><td>&quot;-10.202028, -3…</td><td>3.0</td><td>3</td><td>3</td><td>3</td><td>-1</td><td>3</td><td>-10.202028</td><td>-36.189194</td></tr><tr><td>&quot;AL&quot;</td><td>&quot;Coruripe&quot;</td><td>&quot;Pontal do Coru…</td><td>null</td><td>&quot;-10.161306, -3…</td><td>3.0</td><td>3</td><td>3</td><td>3</td><td>-1</td><td>3</td><td>-10.161306</td><td>-36.13525</td></tr><tr><td>&quot;AL&quot;</td><td>&quot;Maceió&quot;</td><td>&quot;Praia de Cruz …</td><td>&quot;R. Padre Luiz …</td><td>&quot;-9.63275, -35.…</td><td>1.0</td><td>0</td><td>0</td><td>2</td><td>-1</td><td>0</td><td>-9.63275</td><td>-35.696583</td></tr><tr><td>&quot;AL&quot;</td><td>&quot;Maceió&quot;</td><td>&quot;Praia de Graça…</td><td>null</td><td>&quot;-9.583389, -35…</td><td>3.0</td><td>3</td><td>2</td><td>3</td><td>-1</td><td>3</td><td>-9.583389</td><td>-35.60975</td></tr><tr><td>&quot;AL&quot;</td><td>&quot;Maceió&quot;</td><td>&quot;Praia de Ipioc…</td><td>null</td><td>&quot;-9.531111, -35…</td><td>3.0</td><td>2</td><td>0</td><td>3</td><td>-1</td><td>3</td><td>-9.531111</td><td>-35.604944</td></tr></tbody></table></div>"
      ],
      "text/plain": [
       "shape: (5, 13)\n",
       "┌─────┬──────────┬──────────────────┬──────────────────┬───┬──────┬──────┬────────────┬────────────┐\n",
       "│ uf  ┆ cidade   ┆ praia            ┆ ponto            ┆ … ┆ 2020 ┆ 2021 ┆ LAT        ┆ LONG       │\n",
       "│ --- ┆ ---      ┆ ---              ┆ ---              ┆   ┆ ---  ┆ ---  ┆ ---        ┆ ---        │\n",
       "│ str ┆ str      ┆ str              ┆ str              ┆   ┆ i64  ┆ i64  ┆ f64        ┆ f64        │\n",
       "╞═════╪══════════╪══════════════════╪══════════════════╪═══╪══════╪══════╪════════════╪════════════╡\n",
       "│ AL  ┆ Coruripe ┆ Miai de Cima     ┆ null             ┆ … ┆ -1   ┆ 3    ┆ -10.202028 ┆ -36.189194 │\n",
       "│ AL  ┆ Coruripe ┆ Pontal do        ┆ null             ┆ … ┆ -1   ┆ 3    ┆ -10.161306 ┆ -36.13525  │\n",
       "│     ┆          ┆ Coruripe         ┆                  ┆   ┆      ┆      ┆            ┆            │\n",
       "│ AL  ┆ Maceió   ┆ Praia de Cruz    ┆ R. Padre Luiz    ┆ … ┆ -1   ┆ 0    ┆ -9.63275   ┆ -35.696583 │\n",
       "│     ┆          ┆ das Almas        ┆ Américo Galvão   ┆   ┆      ┆      ┆            ┆            │\n",
       "│ AL  ┆ Maceió   ┆ Praia de Graça   ┆ null             ┆ … ┆ -1   ┆ 3    ┆ -9.583389  ┆ -35.60975  │\n",
       "│     ┆          ┆ Torta            ┆                  ┆   ┆      ┆      ┆            ┆            │\n",
       "│ AL  ┆ Maceió   ┆ Praia de Ipioca  ┆ null             ┆ … ┆ -1   ┆ 3    ┆ -9.531111  ┆ -35.604944 │\n",
       "└─────┴──────────┴──────────────────┴──────────────────┴───┴──────┴──────┴────────────┴────────────┘"
      ]
     },
     "execution_count": 28,
     "metadata": {},
     "output_type": "execute_result"
    }
   ],
   "source": [
    "praias.head()"
   ]
  },
  {
   "cell_type": "code",
   "execution_count": null,
   "metadata": {},
   "outputs": [],
   "source": []
  },
  {
   "cell_type": "markdown",
   "metadata": {},
   "source": [
    "# ESCOLAS"
   ]
  },
  {
   "cell_type": "code",
   "execution_count": 35,
   "metadata": {},
   "outputs": [],
   "source": [
    "escolas_qtd = pl.read_csv(os.path.join(DATA_PATH, 'qtd_escolas.csv'), separator=';', truncate_ragged_lines=True) \\\n",
    "                    .unique() "
   ]
  },
  {
   "cell_type": "code",
   "execution_count": 36,
   "metadata": {},
   "outputs": [
    {
     "data": {
      "text/html": [
       "<div><style>\n",
       ".dataframe > thead > tr,\n",
       ".dataframe > tbody > tr {\n",
       "  text-align: right;\n",
       "  white-space: pre-wrap;\n",
       "}\n",
       "</style>\n",
       "<small>shape: (5, 8)</small><table border=\"1\" class=\"dataframe\"><thead><tr><th>REGIAO</th><th>UF</th><th>COD_MUN</th><th>NM_MUN</th><th>ESTADUAL</th><th>FEDERAL</th><th>MUNICIPAL</th><th>PRIVADA</th></tr><tr><td>str</td><td>str</td><td>i64</td><td>str</td><td>i64</td><td>i64</td><td>i64</td><td>i64</td></tr></thead><tbody><tr><td>&quot;Centro-Oeste&quot;</td><td>&quot;GO&quot;</td><td>5200050</td><td>&quot;Abadia de Goiá…</td><td>1</td><td>0</td><td>5</td><td>1</td></tr><tr><td>&quot;Centro-Oeste&quot;</td><td>&quot;GO&quot;</td><td>5200134</td><td>&quot;Acreúna&quot;</td><td>3</td><td>0</td><td>4</td><td>3</td></tr><tr><td>&quot;Centro-Oeste&quot;</td><td>&quot;GO&quot;</td><td>5201454</td><td>&quot;Aparecida do R…</td><td>1</td><td>0</td><td>1</td><td>0</td></tr><tr><td>&quot;Centro-Oeste&quot;</td><td>&quot;GO&quot;</td><td>5203962</td><td>&quot;Buritinópolis&quot;</td><td>1</td><td>0</td><td>2</td><td>0</td></tr><tr><td>&quot;Centro-Oeste&quot;</td><td>&quot;GO&quot;</td><td>5204656</td><td>&quot;Campinaçu&quot;</td><td>1</td><td>0</td><td>2</td><td>0</td></tr></tbody></table></div>"
      ],
      "text/plain": [
       "shape: (5, 8)\n",
       "┌──────────────┬─────┬─────────┬───────────────────────┬──────────┬─────────┬───────────┬─────────┐\n",
       "│ REGIAO       ┆ UF  ┆ COD_MUN ┆ NM_MUN                ┆ ESTADUAL ┆ FEDERAL ┆ MUNICIPAL ┆ PRIVADA │\n",
       "│ ---          ┆ --- ┆ ---     ┆ ---                   ┆ ---      ┆ ---     ┆ ---       ┆ ---     │\n",
       "│ str          ┆ str ┆ i64     ┆ str                   ┆ i64      ┆ i64     ┆ i64       ┆ i64     │\n",
       "╞══════════════╪═════╪═════════╪═══════════════════════╪══════════╪═════════╪═══════════╪═════════╡\n",
       "│ Centro-Oeste ┆ GO  ┆ 5200050 ┆ Abadia de Goiás       ┆ 1        ┆ 0       ┆ 5         ┆ 1       │\n",
       "│ Centro-Oeste ┆ GO  ┆ 5200134 ┆ Acreúna               ┆ 3        ┆ 0       ┆ 4         ┆ 3       │\n",
       "│ Centro-Oeste ┆ GO  ┆ 5201454 ┆ Aparecida do Rio Doce ┆ 1        ┆ 0       ┆ 1         ┆ 0       │\n",
       "│ Centro-Oeste ┆ GO  ┆ 5203962 ┆ Buritinópolis         ┆ 1        ┆ 0       ┆ 2         ┆ 0       │\n",
       "│ Centro-Oeste ┆ GO  ┆ 5204656 ┆ Campinaçu             ┆ 1        ┆ 0       ┆ 2         ┆ 0       │\n",
       "└──────────────┴─────┴─────────┴───────────────────────┴──────────┴─────────┴───────────┴─────────┘"
      ]
     },
     "execution_count": 36,
     "metadata": {},
     "output_type": "execute_result"
    }
   ],
   "source": [
    "escolas_qtd.head()"
   ]
  },
  {
   "cell_type": "markdown",
   "metadata": {},
   "source": [
    "## ENSINO FUNDAMENTAL 1 - 4"
   ]
  },
  {
   "cell_type": "code",
   "execution_count": 29,
   "metadata": {},
   "outputs": [],
   "source": [
    "escola_1_4 = pl.read_csv(os.path.join(DATA_PATH, 'escola_1-4.csv'), separator=';', truncate_ragged_lines=True) \\\n",
    "                    .unique() "
   ]
  },
  {
   "cell_type": "code",
   "execution_count": 30,
   "metadata": {},
   "outputs": [
    {
     "data": {
      "text/html": [
       "<div><style>\n",
       ".dataframe > thead > tr,\n",
       ".dataframe > tbody > tr {\n",
       "  text-align: right;\n",
       "  white-space: pre-wrap;\n",
       "}\n",
       "</style>\n",
       "<small>shape: (5, 5)</small><table border=\"1\" class=\"dataframe\"><thead><tr><th>UF</th><th>COD_MUN</th><th>NM_MUN</th><th>REDE</th><th>NOTA</th></tr><tr><td>str</td><td>i64</td><td>str</td><td>str</td><td>f64</td></tr></thead><tbody><tr><td>&quot;RO&quot;</td><td>1100015</td><td>&quot;Alta Floresta …</td><td>&quot;Pública&quot;</td><td>4.8</td></tr><tr><td>&quot;RO&quot;</td><td>1100064</td><td>&quot;Colorado do Oe…</td><td>&quot;Estadual&quot;</td><td>0.0</td></tr><tr><td>&quot;RO&quot;</td><td>1100072</td><td>&quot;Corumbiara&quot;</td><td>&quot;Municipal&quot;</td><td>5.5</td></tr><tr><td>&quot;RO&quot;</td><td>1100080</td><td>&quot;Costa Marques&quot;</td><td>&quot;Pública&quot;</td><td>4.7</td></tr><tr><td>&quot;RO&quot;</td><td>1100155</td><td>&quot;Ouro Preto do …</td><td>&quot;Estadual&quot;</td><td>0.0</td></tr></tbody></table></div>"
      ],
      "text/plain": [
       "shape: (5, 5)\n",
       "┌─────┬─────────┬───────────────────────┬───────────┬──────┐\n",
       "│ UF  ┆ COD_MUN ┆ NM_MUN                ┆ REDE      ┆ NOTA │\n",
       "│ --- ┆ ---     ┆ ---                   ┆ ---       ┆ ---  │\n",
       "│ str ┆ i64     ┆ str                   ┆ str       ┆ f64  │\n",
       "╞═════╪═════════╪═══════════════════════╪═══════════╪══════╡\n",
       "│ RO  ┆ 1100015 ┆ Alta Floresta D'Oeste ┆ Pública   ┆ 4.8  │\n",
       "│ RO  ┆ 1100064 ┆ Colorado do Oeste     ┆ Estadual  ┆ 0.0  │\n",
       "│ RO  ┆ 1100072 ┆ Corumbiara            ┆ Municipal ┆ 5.5  │\n",
       "│ RO  ┆ 1100080 ┆ Costa Marques         ┆ Pública   ┆ 4.7  │\n",
       "│ RO  ┆ 1100155 ┆ Ouro Preto do Oeste   ┆ Estadual  ┆ 0.0  │\n",
       "└─────┴─────────┴───────────────────────┴───────────┴──────┘"
      ]
     },
     "execution_count": 30,
     "metadata": {},
     "output_type": "execute_result"
    }
   ],
   "source": [
    "escola_1_4.head()"
   ]
  },
  {
   "cell_type": "code",
   "execution_count": null,
   "metadata": {},
   "outputs": [],
   "source": []
  },
  {
   "cell_type": "markdown",
   "metadata": {},
   "source": [
    "## ENSINO FUNDAMENTAL 5 - 8"
   ]
  },
  {
   "cell_type": "code",
   "execution_count": 31,
   "metadata": {},
   "outputs": [],
   "source": [
    "escola_5_8 = pl.read_csv(os.path.join(DATA_PATH, 'escola_5-8.csv'), separator=';', truncate_ragged_lines=True) \\\n",
    "                    .unique() "
   ]
  },
  {
   "cell_type": "code",
   "execution_count": 32,
   "metadata": {},
   "outputs": [
    {
     "data": {
      "text/html": [
       "<div><style>\n",
       ".dataframe > thead > tr,\n",
       ".dataframe > tbody > tr {\n",
       "  text-align: right;\n",
       "  white-space: pre-wrap;\n",
       "}\n",
       "</style>\n",
       "<small>shape: (5, 5)</small><table border=\"1\" class=\"dataframe\"><thead><tr><th>UF</th><th>COD_MUN</th><th>NM_MUN</th><th>REDE</th><th>NOTA</th></tr><tr><td>str</td><td>i64</td><td>str</td><td>str</td><td>f64</td></tr></thead><tbody><tr><td>&quot;RO&quot;</td><td>1100023</td><td>&quot;Ariquemes&quot;</td><td>&quot;Estadual&quot;</td><td>5.1</td></tr><tr><td>&quot;RO&quot;</td><td>1100023</td><td>&quot;Ariquemes&quot;</td><td>&quot;Pública&quot;</td><td>5.0</td></tr><tr><td>&quot;RO&quot;</td><td>1100056</td><td>&quot;Cerejeiras&quot;</td><td>&quot;Municipal&quot;</td><td>0.0</td></tr><tr><td>&quot;RO&quot;</td><td>1100130</td><td>&quot;Machadinho D&#x27;O…</td><td>&quot;Estadual&quot;</td><td>0.0</td></tr><tr><td>&quot;RO&quot;</td><td>1100148</td><td>&quot;Nova Brasilând…</td><td>&quot;Pública&quot;</td><td>5.6</td></tr></tbody></table></div>"
      ],
      "text/plain": [
       "shape: (5, 5)\n",
       "┌─────┬─────────┬──────────────────────────┬───────────┬──────┐\n",
       "│ UF  ┆ COD_MUN ┆ NM_MUN                   ┆ REDE      ┆ NOTA │\n",
       "│ --- ┆ ---     ┆ ---                      ┆ ---       ┆ ---  │\n",
       "│ str ┆ i64     ┆ str                      ┆ str       ┆ f64  │\n",
       "╞═════╪═════════╪══════════════════════════╪═══════════╪══════╡\n",
       "│ RO  ┆ 1100023 ┆ Ariquemes                ┆ Estadual  ┆ 5.1  │\n",
       "│ RO  ┆ 1100023 ┆ Ariquemes                ┆ Pública   ┆ 5.0  │\n",
       "│ RO  ┆ 1100056 ┆ Cerejeiras               ┆ Municipal ┆ 0.0  │\n",
       "│ RO  ┆ 1100130 ┆ Machadinho D'Oeste       ┆ Estadual  ┆ 0.0  │\n",
       "│ RO  ┆ 1100148 ┆ Nova Brasilândia D'Oeste ┆ Pública   ┆ 5.6  │\n",
       "└─────┴─────────┴──────────────────────────┴───────────┴──────┘"
      ]
     },
     "execution_count": 32,
     "metadata": {},
     "output_type": "execute_result"
    }
   ],
   "source": [
    "escola_5_8.head()"
   ]
  },
  {
   "cell_type": "code",
   "execution_count": null,
   "metadata": {},
   "outputs": [],
   "source": []
  },
  {
   "cell_type": "markdown",
   "metadata": {},
   "source": [
    "## ENSINO MÉDIO"
   ]
  },
  {
   "cell_type": "code",
   "execution_count": 33,
   "metadata": {},
   "outputs": [],
   "source": [
    "escola_medio = pl.read_csv(os.path.join(DATA_PATH, 'escola-medio.csv'), separator=';', truncate_ragged_lines=True) \\\n",
    "                    .unique() "
   ]
  },
  {
   "cell_type": "code",
   "execution_count": 34,
   "metadata": {},
   "outputs": [
    {
     "data": {
      "text/html": [
       "<div><style>\n",
       ".dataframe > thead > tr,\n",
       ".dataframe > tbody > tr {\n",
       "  text-align: right;\n",
       "  white-space: pre-wrap;\n",
       "}\n",
       "</style>\n",
       "<small>shape: (5, 5)</small><table border=\"1\" class=\"dataframe\"><thead><tr><th>UF</th><th>COD_MUN</th><th>NM_MUN</th><th>REDE</th><th>NOTA</th></tr><tr><td>str</td><td>i64</td><td>str</td><td>str</td><td>f64</td></tr></thead><tbody><tr><td>&quot;RO&quot;</td><td>1100072</td><td>&quot;Corumbiara&quot;</td><td>&quot;Estadual&quot;</td><td>4.4</td></tr><tr><td>&quot;RO&quot;</td><td>1100288</td><td>&quot;Rolim de Moura…</td><td>&quot;Estadual&quot;</td><td>4.6</td></tr><tr><td>&quot;RO&quot;</td><td>1100346</td><td>&quot;Alvorada D&#x27;Oes…</td><td>&quot;Pública&quot;</td><td>0.0</td></tr><tr><td>&quot;RO&quot;</td><td>1100601</td><td>&quot;Cacaulândia&quot;</td><td>&quot;Pública&quot;</td><td>4.4</td></tr><tr><td>&quot;RO&quot;</td><td>1100924</td><td>&quot;Chupinguaia&quot;</td><td>&quot;Estadual&quot;</td><td>3.6</td></tr></tbody></table></div>"
      ],
      "text/plain": [
       "shape: (5, 5)\n",
       "┌─────┬─────────┬──────────────────┬──────────┬──────┐\n",
       "│ UF  ┆ COD_MUN ┆ NM_MUN           ┆ REDE     ┆ NOTA │\n",
       "│ --- ┆ ---     ┆ ---              ┆ ---      ┆ ---  │\n",
       "│ str ┆ i64     ┆ str              ┆ str      ┆ f64  │\n",
       "╞═════╪═════════╪══════════════════╪══════════╪══════╡\n",
       "│ RO  ┆ 1100072 ┆ Corumbiara       ┆ Estadual ┆ 4.4  │\n",
       "│ RO  ┆ 1100288 ┆ Rolim de Moura   ┆ Estadual ┆ 4.6  │\n",
       "│ RO  ┆ 1100346 ┆ Alvorada D'Oeste ┆ Pública  ┆ 0.0  │\n",
       "│ RO  ┆ 1100601 ┆ Cacaulândia      ┆ Pública  ┆ 4.4  │\n",
       "│ RO  ┆ 1100924 ┆ Chupinguaia      ┆ Estadual ┆ 3.6  │\n",
       "└─────┴─────────┴──────────────────┴──────────┴──────┘"
      ]
     },
     "execution_count": 34,
     "metadata": {},
     "output_type": "execute_result"
    }
   ],
   "source": [
    "escola_medio.head()"
   ]
  },
  {
   "cell_type": "code",
   "execution_count": null,
   "metadata": {},
   "outputs": [],
   "source": []
  },
  {
   "cell_type": "markdown",
   "metadata": {},
   "source": [
    "# SHOPPINGS"
   ]
  },
  {
   "cell_type": "code",
   "execution_count": 37,
   "metadata": {},
   "outputs": [],
   "source": [
    "shopping = pl.read_csv(os.path.join(DATA_PATH, 'shoppings_qtd.csv'), separator=';', truncate_ragged_lines=True) \\\n",
    "                    .unique() "
   ]
  },
  {
   "cell_type": "code",
   "execution_count": 38,
   "metadata": {},
   "outputs": [
    {
     "data": {
      "text/html": [
       "<div><style>\n",
       ".dataframe > thead > tr,\n",
       ".dataframe > tbody > tr {\n",
       "  text-align: right;\n",
       "  white-space: pre-wrap;\n",
       "}\n",
       "</style>\n",
       "<small>shape: (5, 2)</small><table border=\"1\" class=\"dataframe\"><thead><tr><th>UF</th><th>QTD</th></tr><tr><td>str</td><td>i64</td></tr></thead><tbody><tr><td>&quot;PI&quot;</td><td>5</td></tr><tr><td>&quot;RO&quot;</td><td>1</td></tr><tr><td>&quot;MT&quot;</td><td>8</td></tr><tr><td>&quot;PA&quot;</td><td>10</td></tr><tr><td>&quot;PR&quot;</td><td>40</td></tr></tbody></table></div>"
      ],
      "text/plain": [
       "shape: (5, 2)\n",
       "┌─────┬─────┐\n",
       "│ UF  ┆ QTD │\n",
       "│ --- ┆ --- │\n",
       "│ str ┆ i64 │\n",
       "╞═════╪═════╡\n",
       "│ PI  ┆ 5   │\n",
       "│ RO  ┆ 1   │\n",
       "│ MT  ┆ 8   │\n",
       "│ PA  ┆ 10  │\n",
       "│ PR  ┆ 40  │\n",
       "└─────┴─────┘"
      ]
     },
     "execution_count": 38,
     "metadata": {},
     "output_type": "execute_result"
    }
   ],
   "source": [
    "shopping.head()"
   ]
  },
  {
   "cell_type": "markdown",
   "metadata": {},
   "source": [
    "# UNIÃO CIDADES & HOSPITAIS"
   ]
  },
  {
   "cell_type": "code",
   "execution_count": 18,
   "metadata": {},
   "outputs": [],
   "source": [
    "city_hosp = duckdb.sql(\"\"\"\n",
    "           SELECT \n",
    "              CT.CD_MUN\n",
    "            , CT.NM_MUN\n",
    "            , CT.AREA_KM2\n",
    "            , CT.CD_UF\n",
    "            , CT.NM_UF\n",
    "            , HS.*\n",
    "            , FD.*\n",
    "\n",
    "            , HOM.MIN_OBITOS_HOMICIDIOS\n",
    "            , HOM.MEDIA_OBITOS_HOMICIDIOS\n",
    "            , HOM.MAX_OBITOS_HOMICIDIOS\n",
    "            , HOM.QTD_HISTORICO_HOMICIDIOS\n",
    "            , HOM.ANO_MAIOR_HOMICIDIOS\n",
    "\n",
    "           FROM hospitals_stat AS HS\n",
    "\n",
    "           JOIN cities AS CT\n",
    "           ON CT.SIGLA_UF = HS.UF\n",
    "           AND CT.MUNICIPIO = HS.MUNICIPIO\n",
    "           \n",
    "           JOIN food FD\n",
    "           ON FD.UF = HS.UF\n",
    "\n",
    "           JOIN homicidios HOM\n",
    "           ON HOM.cod = CT.CD_MUN\n",
    "    \n",
    "                      \n",
    "           \"\"\").to_df()"
   ]
  },
  {
   "cell_type": "code",
   "execution_count": 20,
   "metadata": {},
   "outputs": [
    {
     "data": {
      "text/html": [
       "<div>\n",
       "<style scoped>\n",
       "    .dataframe tbody tr th:only-of-type {\n",
       "        vertical-align: middle;\n",
       "    }\n",
       "\n",
       "    .dataframe tbody tr th {\n",
       "        vertical-align: top;\n",
       "    }\n",
       "\n",
       "    .dataframe thead th {\n",
       "        text-align: right;\n",
       "    }\n",
       "</style>\n",
       "<table border=\"1\" class=\"dataframe\">\n",
       "  <thead>\n",
       "    <tr style=\"text-align: right;\">\n",
       "      <th></th>\n",
       "      <th>CD_MUN</th>\n",
       "      <th>NM_MUN</th>\n",
       "      <th>AREA_KM2</th>\n",
       "      <th>CD_UF</th>\n",
       "      <th>NM_UF</th>\n",
       "      <th>REGIAO</th>\n",
       "      <th>UF</th>\n",
       "      <th>MUNICIPIO</th>\n",
       "      <th>DESC_NATUREZA_JURIDICA</th>\n",
       "      <th>HOSPITAL_GERAL</th>\n",
       "      <th>...</th>\n",
       "      <th>LEITE DE VACA LONGA VIDA INTEGRAL (l)</th>\n",
       "      <th>MACARRÃO ESPAGUETE SÊMOLA COM OVOS (500 g)</th>\n",
       "      <th>MACARRÃO ESPAGUETE SÊMOLA COM OVOS (kg)</th>\n",
       "      <th>OLEO DE SOJA REFINADO (900 ml)</th>\n",
       "      <th>SAL (kg)</th>\n",
       "      <th>MIN_OBITOS_HOMICIDIOS</th>\n",
       "      <th>MEDIA_OBITOS_HOMICIDIOS</th>\n",
       "      <th>MAX_OBITOS_HOMICIDIOS</th>\n",
       "      <th>QTD_HISTORICO_HOMICIDIOS</th>\n",
       "      <th>ANO_MAIOR_HOMICIDIOS</th>\n",
       "    </tr>\n",
       "  </thead>\n",
       "  <tbody>\n",
       "    <tr>\n",
       "      <th>0</th>\n",
       "      <td>2702306</td>\n",
       "      <td>Coruripe</td>\n",
       "      <td>897.800</td>\n",
       "      <td>27</td>\n",
       "      <td>Alagoas</td>\n",
       "      <td>NORDESTE</td>\n",
       "      <td>AL</td>\n",
       "      <td>CORURIPE</td>\n",
       "      <td>HOSPITAL_PRIVADO</td>\n",
       "      <td>1.0</td>\n",
       "      <td>...</td>\n",
       "      <td>0.000000</td>\n",
       "      <td>0.00</td>\n",
       "      <td>0.0</td>\n",
       "      <td>7.610000</td>\n",
       "      <td>1.864545</td>\n",
       "      <td>11</td>\n",
       "      <td>16.333333</td>\n",
       "      <td>20</td>\n",
       "      <td>3</td>\n",
       "      <td>2019</td>\n",
       "    </tr>\n",
       "    <tr>\n",
       "      <th>1</th>\n",
       "      <td>2704302</td>\n",
       "      <td>Maceió</td>\n",
       "      <td>509.320</td>\n",
       "      <td>27</td>\n",
       "      <td>Alagoas</td>\n",
       "      <td>NORDESTE</td>\n",
       "      <td>AL</td>\n",
       "      <td>MACEIO</td>\n",
       "      <td>HOSPITAL_FILANTRÓPICO</td>\n",
       "      <td>4.0</td>\n",
       "      <td>...</td>\n",
       "      <td>0.000000</td>\n",
       "      <td>0.00</td>\n",
       "      <td>0.0</td>\n",
       "      <td>7.610000</td>\n",
       "      <td>1.864545</td>\n",
       "      <td>329</td>\n",
       "      <td>363.666667</td>\n",
       "      <td>400</td>\n",
       "      <td>3</td>\n",
       "      <td>2020</td>\n",
       "    </tr>\n",
       "    <tr>\n",
       "      <th>2</th>\n",
       "      <td>2704302</td>\n",
       "      <td>Maceió</td>\n",
       "      <td>509.320</td>\n",
       "      <td>27</td>\n",
       "      <td>Alagoas</td>\n",
       "      <td>NORDESTE</td>\n",
       "      <td>AL</td>\n",
       "      <td>MACEIO</td>\n",
       "      <td>HOSPITAL_PRIVADO</td>\n",
       "      <td>12.0</td>\n",
       "      <td>...</td>\n",
       "      <td>0.000000</td>\n",
       "      <td>0.00</td>\n",
       "      <td>0.0</td>\n",
       "      <td>7.610000</td>\n",
       "      <td>1.864545</td>\n",
       "      <td>329</td>\n",
       "      <td>363.666667</td>\n",
       "      <td>400</td>\n",
       "      <td>3</td>\n",
       "      <td>2020</td>\n",
       "    </tr>\n",
       "    <tr>\n",
       "      <th>3</th>\n",
       "      <td>2704302</td>\n",
       "      <td>Maceió</td>\n",
       "      <td>509.320</td>\n",
       "      <td>27</td>\n",
       "      <td>Alagoas</td>\n",
       "      <td>NORDESTE</td>\n",
       "      <td>AL</td>\n",
       "      <td>MACEIO</td>\n",
       "      <td>HOSPITAL_PÚBLICO</td>\n",
       "      <td>4.0</td>\n",
       "      <td>...</td>\n",
       "      <td>0.000000</td>\n",
       "      <td>0.00</td>\n",
       "      <td>0.0</td>\n",
       "      <td>7.610000</td>\n",
       "      <td>1.864545</td>\n",
       "      <td>329</td>\n",
       "      <td>363.666667</td>\n",
       "      <td>400</td>\n",
       "      <td>3</td>\n",
       "      <td>2020</td>\n",
       "    </tr>\n",
       "    <tr>\n",
       "      <th>4</th>\n",
       "      <td>2900801</td>\n",
       "      <td>Alcobaça</td>\n",
       "      <td>1477.929</td>\n",
       "      <td>29</td>\n",
       "      <td>Bahia</td>\n",
       "      <td>NORDESTE</td>\n",
       "      <td>BA</td>\n",
       "      <td>ALCOBACA</td>\n",
       "      <td>HOSPITAL_PÚBLICO</td>\n",
       "      <td>1.0</td>\n",
       "      <td>...</td>\n",
       "      <td>4.827273</td>\n",
       "      <td>4.15</td>\n",
       "      <td>0.0</td>\n",
       "      <td>6.723636</td>\n",
       "      <td>0.000000</td>\n",
       "      <td>7</td>\n",
       "      <td>15.666667</td>\n",
       "      <td>29</td>\n",
       "      <td>3</td>\n",
       "      <td>2021</td>\n",
       "    </tr>\n",
       "  </tbody>\n",
       "</table>\n",
       "<p>5 rows × 36 columns</p>\n",
       "</div>"
      ],
      "text/plain": [
       "    CD_MUN    NM_MUN  AREA_KM2  CD_UF    NM_UF    REGIAO  UF MUNICIPIO  \\\n",
       "0  2702306  Coruripe   897.800     27  Alagoas  NORDESTE  AL  CORURIPE   \n",
       "1  2704302    Maceió   509.320     27  Alagoas  NORDESTE  AL    MACEIO   \n",
       "2  2704302    Maceió   509.320     27  Alagoas  NORDESTE  AL    MACEIO   \n",
       "3  2704302    Maceió   509.320     27  Alagoas  NORDESTE  AL    MACEIO   \n",
       "4  2900801  Alcobaça  1477.929     29    Bahia  NORDESTE  BA  ALCOBACA   \n",
       "\n",
       "  DESC_NATUREZA_JURIDICA  HOSPITAL_GERAL  ...  \\\n",
       "0       HOSPITAL_PRIVADO             1.0  ...   \n",
       "1  HOSPITAL_FILANTRÓPICO             4.0  ...   \n",
       "2       HOSPITAL_PRIVADO            12.0  ...   \n",
       "3       HOSPITAL_PÚBLICO             4.0  ...   \n",
       "4       HOSPITAL_PÚBLICO             1.0  ...   \n",
       "\n",
       "   LEITE DE VACA LONGA VIDA INTEGRAL (l)  \\\n",
       "0                               0.000000   \n",
       "1                               0.000000   \n",
       "2                               0.000000   \n",
       "3                               0.000000   \n",
       "4                               4.827273   \n",
       "\n",
       "   MACARRÃO ESPAGUETE SÊMOLA COM OVOS (500 g)  \\\n",
       "0                                        0.00   \n",
       "1                                        0.00   \n",
       "2                                        0.00   \n",
       "3                                        0.00   \n",
       "4                                        4.15   \n",
       "\n",
       "   MACARRÃO ESPAGUETE SÊMOLA COM OVOS (kg)  OLEO DE SOJA REFINADO (900 ml)  \\\n",
       "0                                      0.0                        7.610000   \n",
       "1                                      0.0                        7.610000   \n",
       "2                                      0.0                        7.610000   \n",
       "3                                      0.0                        7.610000   \n",
       "4                                      0.0                        6.723636   \n",
       "\n",
       "   SAL (kg) MIN_OBITOS_HOMICIDIOS  MEDIA_OBITOS_HOMICIDIOS  \\\n",
       "0  1.864545                    11                16.333333   \n",
       "1  1.864545                   329               363.666667   \n",
       "2  1.864545                   329               363.666667   \n",
       "3  1.864545                   329               363.666667   \n",
       "4  0.000000                     7                15.666667   \n",
       "\n",
       "   MAX_OBITOS_HOMICIDIOS  QTD_HISTORICO_HOMICIDIOS  ANO_MAIOR_HOMICIDIOS  \n",
       "0                     20                         3                  2019  \n",
       "1                    400                         3                  2020  \n",
       "2                    400                         3                  2020  \n",
       "3                    400                         3                  2020  \n",
       "4                     29                         3                  2021  \n",
       "\n",
       "[5 rows x 36 columns]"
      ]
     },
     "execution_count": 20,
     "metadata": {},
     "output_type": "execute_result"
    }
   ],
   "source": [
    "city_hosp.head()"
   ]
  },
  {
   "cell_type": "code",
   "execution_count": 42,
   "metadata": {},
   "outputs": [
    {
     "data": {
      "text/plain": [
       "┌─────────┬────────────┬──────────┬───────┬───┬──────────────────────┬──────────────────────┬──────────────────────┐\n",
       "│ CD_MUN  │   NM_MUN   │ AREA_KM2 │ CD_UF │ … │ MAX_OBITOS_HOMICID…  │ QTD_HISTORICO_HOMI…  │ ANO_MAIOR_HOMICIDIOS │\n",
       "│  int64  │  varchar   │  double  │ int64 │   │        int64         │        uint32        │        int64         │\n",
       "├─────────┼────────────┼──────────┼───────┼───┼──────────────────────┼──────────────────────┼──────────────────────┤\n",
       "│ 3205200 │ Vila Velha │  210.225 │    32 │ … │                  156 │                    3 │                 2020 │\n",
       "│ 3205200 │ Vila Velha │  210.225 │    32 │ … │                  156 │                    3 │                 2020 │\n",
       "│ 3205200 │ Vila Velha │  210.225 │    32 │ … │                  156 │                    3 │                 2020 │\n",
       "├─────────┴────────────┴──────────┴───────┴───┴──────────────────────┴──────────────────────┴──────────────────────┤\n",
       "│ 3 rows                                                                                      36 columns (7 shown) │\n",
       "└──────────────────────────────────────────────────────────────────────────────────────────────────────────────────┘"
      ]
     },
     "execution_count": 42,
     "metadata": {},
     "output_type": "execute_result"
    }
   ],
   "source": [
    "duckdb.sql(\"\"\"SELECT * FROM city_hosp WHERE \n",
    "           \n",
    "           CD_mUN LIKE 'M 3205200' \"\"\")"
   ]
  },
  {
   "cell_type": "code",
   "execution_count": 22,
   "metadata": {},
   "outputs": [
    {
     "data": {
      "text/plain": [
       "┌─────────┬──────────┬─────────────────────┬───┬─────────────────────┬──────────────────────┬────────────────────┐\n",
       "│   cod   │   nome   │ MIN_OBITOS_HOM_ARMA │ … │ MAX_OBITOS_HOM_ARMA │ QTD_HISTORICO_HOM_…  │ ANO_MAIOR_HOM_ARMA │\n",
       "│  int64  │ varchar  │        int64        │   │        int64        │        uint32        │       int64        │\n",
       "├─────────┼──────────┼─────────────────────┼───┼─────────────────────┼──────────────────────┼────────────────────┤\n",
       "│ 2702306 │ Coruripe │                   4 │ … │                  20 │                    3 │               2019 │\n",
       "├─────────┴──────────┴─────────────────────┴───┴─────────────────────┴──────────────────────┴────────────────────┤\n",
       "│ 1 rows                                                                                     7 columns (6 shown) │\n",
       "└────────────────────────────────────────────────────────────────────────────────────────────────────────────────┘"
      ]
     },
     "execution_count": 22,
     "metadata": {},
     "output_type": "execute_result"
    }
   ],
   "source": [
    "duckdb.sql(\"SELECT * FROM hom_arma WHERE cod = 2702306\")"
   ]
  },
  {
   "cell_type": "markdown",
   "metadata": {},
   "source": [
    "# LINKS AUXILIARES"
   ]
  },
  {
   "cell_type": "markdown",
   "metadata": {},
   "source": [
    "- [API IBGE CIDADES](https://servicodados.ibge.gov.br/api/v3/agregados/6579/periodos/2021/variaveis/9324?localidades=N6[1100015])\n",
    "- [API IBGE AGREGADA](https://servicodados.ibge.gov.br/api/docs/agregados?versao=3)\n",
    "- [ALIMENTOS CONAB](https://sisdep.conab.gov.br/precosiagroweb/)\n",
    "- [ATLAS DA VIOLENCIA](https://www.ipea.gov.br/atlasviolencia/filtros-series)\n",
    "- [BASE DOS DADOS](https://basedosdados.org/)\n",
    "- [FORUM SEGURANÇA](http://forumseguranca.org.br:3838/)\n"
   ]
  },
  {
   "cell_type": "code",
   "execution_count": 141,
   "metadata": {},
   "outputs": [],
   "source": [
    "# import pandas as pd\n",
    "# import json\n",
    "\n",
    "# with open(os.path.join(AUXILIAR_PATH, 'cidades_ibge_full.json'), 'r') as js:\n",
    "#     ibge = pd.json_normalize(json.load(js), record_path=['resultados', ['series']])\n",
    "#     ibge.columns = ['COD_IBGE', 'NIVEL_IBGE', 'NIVEL_NOME', 'MUNICIPIO', 'POPULACAO']\n",
    "#     ibge[['MUNICIPIO', 'UF']] = ibge.MUNICIPIO.str.split(' - ', expand=True)\n",
    "#     ibge.to_csv(os.path.join(AUXILIAR_PATH, 'cidades_ibge_full.csv'), index=False, sep='|')"
   ]
  }
 ],
 "metadata": {
  "kernelspec": {
   "display_name": "finding-home-9tpckwVZ-py3.10",
   "language": "python",
   "name": "python3"
  },
  "language_info": {
   "codemirror_mode": {
    "name": "ipython",
    "version": 3
   },
   "file_extension": ".py",
   "mimetype": "text/x-python",
   "name": "python",
   "nbconvert_exporter": "python",
   "pygments_lexer": "ipython3",
   "version": "3.10.12"
  }
 },
 "nbformat": 4,
 "nbformat_minor": 2
}
