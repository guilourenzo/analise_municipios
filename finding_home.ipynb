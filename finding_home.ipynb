{
 "cells": [
  {
   "cell_type": "markdown",
   "metadata": {},
   "source": [
    "# TODO\n",
    "\n",
    "- [x] IDENTIFICAÇÃO DAS CIDADES LITORÂNEAS  \n",
    "- [x] LEVANTAMENTO DA QUANTIDADE DE HOSPITAIS  \n",
    "- [ ] LEVANTAMENTO DA SEGURANÇA  \n",
    "- [ ] LEVANTAMENTO DA MÉDIA DE ALUGUÉIS  \n",
    "- [x] LEVANTAMENTO DOS PREÇOS DE ALIMENTO"
   ]
  },
  {
   "cell_type": "markdown",
   "metadata": {},
   "source": [
    "# IMPORTAÇÃO DE BIBLIOTECAS"
   ]
  },
  {
   "cell_type": "code",
   "execution_count": 1,
   "metadata": {},
   "outputs": [],
   "source": [
    "import polars as pl\n",
    "import os\n",
    "import duckdb"
   ]
  },
  {
   "cell_type": "code",
   "execution_count": 2,
   "metadata": {},
   "outputs": [],
   "source": [
    "AUXILIAR_PATH = r'finding-home/finding_home/auxiliar/'"
   ]
  },
  {
   "cell_type": "markdown",
   "metadata": {},
   "source": [
    "# IMPORTAÇÃO DE DADOS"
   ]
  },
  {
   "cell_type": "markdown",
   "metadata": {},
   "source": [
    "## CIDADES"
   ]
  },
  {
   "cell_type": "code",
   "execution_count": 3,
   "metadata": {},
   "outputs": [],
   "source": [
    "from unicodedata import normalize \n",
    "def custnorm(In_series):\n",
    "    for i, x in enumerate(In_series):\n",
    "        newvalue = normalize('NFKD',x).encode('ascii', errors='ignore').decode('utf-8')\n",
    "        if newvalue != x:\n",
    "            In_series[i]=newvalue\n",
    "    return In_series"
   ]
  },
  {
   "cell_type": "code",
   "execution_count": 4,
   "metadata": {},
   "outputs": [
    {
     "name": "stderr",
     "output_type": "stream",
     "text": [
      "/tmp/ipykernel_930/3017128636.py:4: DeprecationWarning: `map` is deprecated. It has been renamed to `map_batches`.\n",
      "  .with_columns(pl.col('MUNICIPIO').map(custnorm).alias('MUNICIPIO'))\n"
     ]
    }
   ],
   "source": [
    "cities = pl.read_csv(os.path.join(AUXILIAR_PATH, 'CIDADES_LITORANEAS_IBGE.csv'), separator=';') \\\n",
    "           .filter(pl.col('NM_REGIAO').is_in(['Sul', 'Sudeste', 'Nordeste'])) \\\n",
    "           .with_columns(pl.col('NM_MUN').str.to_uppercase().alias('MUNICIPIO')) \\\n",
    "           .with_columns(pl.col('MUNICIPIO').map(custnorm).alias('MUNICIPIO'))"
   ]
  },
  {
   "cell_type": "markdown",
   "metadata": {},
   "source": [
    "## HOSPITAIS"
   ]
  },
  {
   "cell_type": "code",
   "execution_count": 5,
   "metadata": {},
   "outputs": [],
   "source": [
    "hospitals = pl.read_csv(os.path.join(AUXILIAR_PATH, 'hospitais.csv'), separator='|', encoding='cp1252', truncate_ragged_lines=True)"
   ]
  },
  {
   "cell_type": "code",
   "execution_count": 40,
   "metadata": {},
   "outputs": [
    {
     "data": {
      "text/html": [
       "<div>\n",
       "<style scoped>\n",
       "    .dataframe tbody tr th:only-of-type {\n",
       "        vertical-align: middle;\n",
       "    }\n",
       "\n",
       "    .dataframe tbody tr th {\n",
       "        vertical-align: top;\n",
       "    }\n",
       "\n",
       "    .dataframe thead th {\n",
       "        text-align: right;\n",
       "    }\n",
       "</style>\n",
       "<table border=\"1\" class=\"dataframe\">\n",
       "  <thead>\n",
       "    <tr style=\"text-align: right;\">\n",
       "      <th></th>\n",
       "      <th>DS_TIPO_UNIDADE</th>\n",
       "    </tr>\n",
       "  </thead>\n",
       "  <tbody>\n",
       "    <tr>\n",
       "      <th>0</th>\n",
       "      <td>PRONTO SOCORRO ESPECIALIZADO</td>\n",
       "    </tr>\n",
       "    <tr>\n",
       "      <th>1</th>\n",
       "      <td>HOSPITAL GERAL</td>\n",
       "    </tr>\n",
       "    <tr>\n",
       "      <th>2</th>\n",
       "      <td>PRONTO SOCORRO GERAL</td>\n",
       "    </tr>\n",
       "    <tr>\n",
       "      <th>3</th>\n",
       "      <td>HOSPITAL ESPECIALIZADO</td>\n",
       "    </tr>\n",
       "    <tr>\n",
       "      <th>4</th>\n",
       "      <td>UNIDADE MISTA</td>\n",
       "    </tr>\n",
       "  </tbody>\n",
       "</table>\n",
       "</div>"
      ],
      "text/plain": [
       "                DS_TIPO_UNIDADE\n",
       "0  PRONTO SOCORRO ESPECIALIZADO\n",
       "1                HOSPITAL GERAL\n",
       "2          PRONTO SOCORRO GERAL\n",
       "3        HOSPITAL ESPECIALIZADO\n",
       "4                 UNIDADE MISTA"
      ]
     },
     "execution_count": 40,
     "metadata": {},
     "output_type": "execute_result"
    }
   ],
   "source": [
    "hospitals.select(pl.col('DS_TIPO_UNIDADE').unique()).to_pandas()"
   ]
  },
  {
   "cell_type": "code",
   "execution_count": 47,
   "metadata": {},
   "outputs": [],
   "source": [
    "hospitals_stat = duckdb.sql(\"\"\"\n",
    "                            SELECT \n",
    "                                    REGIAO\n",
    "                                ,   UF\n",
    "                                ,   MUNICIPIO\n",
    "                                ,   DESC_NATUREZA_JURIDICA\n",
    "                                ,   SUM(CASE WHEN DS_TIPO_UNIDADE == 'HOSPITAL GERAL' THEN 1 ELSE 0 END) AS HOSPITAL_GERAL\n",
    "                                ,   SUM(CASE WHEN DS_TIPO_UNIDADE == 'PRONTO SOCORRO GERAL' THEN 1 ELSE 0 END) AS PRONTO_SOCORRO_GERAL \n",
    "                                ,   SUM(CASE WHEN DS_TIPO_UNIDADE == 'UNIDADE MISTA' THEN 1 ELSE 0 END) AS UNIDADE_MISTA\n",
    "                                ,   SUM(CASE WHEN DS_TIPO_UNIDADE == 'PRONTO SOCORRO ESPECIALIZADO' THEN 1 ELSE 0 END) AS PRONTO_SOCORRO_ESPECIALIZADO\n",
    "                                ,   SUM(CASE WHEN DS_TIPO_UNIDADE == 'HOSPITAL ESPECIALIZADO' THEN 1 ELSE 0 END) AS HOSPITAL_ESPECIALIZADO\n",
    "                            \n",
    "                                ,  COUNT(DESC_NATUREZA_JURIDICA) AS QTD_HOSPITAIS\n",
    "                            \n",
    "                            FROM hospitals\n",
    "\n",
    "                            GROUP BY REGIAO\n",
    "                                ,   UF\n",
    "                                ,   MUNICIPIO\n",
    "                                ,   DESC_NATUREZA_JURIDICA\n",
    "\n",
    "                            ORDER BY REGIAO\n",
    "                                ,   UF\n",
    "                                ,   MUNICIPIO\n",
    "                                ,   DESC_NATUREZA_JURIDICA\n",
    "                            \n",
    "                            \"\"\").to_df()"
   ]
  },
  {
   "cell_type": "code",
   "execution_count": 48,
   "metadata": {},
   "outputs": [
    {
     "data": {
      "text/html": [
       "<div>\n",
       "<style scoped>\n",
       "    .dataframe tbody tr th:only-of-type {\n",
       "        vertical-align: middle;\n",
       "    }\n",
       "\n",
       "    .dataframe tbody tr th {\n",
       "        vertical-align: top;\n",
       "    }\n",
       "\n",
       "    .dataframe thead th {\n",
       "        text-align: right;\n",
       "    }\n",
       "</style>\n",
       "<table border=\"1\" class=\"dataframe\">\n",
       "  <thead>\n",
       "    <tr style=\"text-align: right;\">\n",
       "      <th></th>\n",
       "      <th>REGIAO</th>\n",
       "      <th>UF</th>\n",
       "      <th>MUNICIPIO</th>\n",
       "      <th>DESC_NATUREZA_JURIDICA</th>\n",
       "      <th>HOSPITAL_GERAL</th>\n",
       "      <th>PRONTO_SOCORRO_GERAL</th>\n",
       "      <th>UNIDADE_MISTA</th>\n",
       "      <th>PRONTO_SOCORRO_ESPECIALIZADO</th>\n",
       "      <th>HOSPITAL_ESPECIALIZADO</th>\n",
       "      <th>QTD_HOSPITAIS</th>\n",
       "    </tr>\n",
       "  </thead>\n",
       "  <tbody>\n",
       "    <tr>\n",
       "      <th>0</th>\n",
       "      <td>CENTRO-OESTE</td>\n",
       "      <td>DF</td>\n",
       "      <td>BRASILIA</td>\n",
       "      <td>HOSPITAL_FILANTRÓPICO</td>\n",
       "      <td>4.0</td>\n",
       "      <td>0.0</td>\n",
       "      <td>0.0</td>\n",
       "      <td>0.0</td>\n",
       "      <td>3.0</td>\n",
       "      <td>7</td>\n",
       "    </tr>\n",
       "    <tr>\n",
       "      <th>1</th>\n",
       "      <td>CENTRO-OESTE</td>\n",
       "      <td>DF</td>\n",
       "      <td>BRASILIA</td>\n",
       "      <td>HOSPITAL_PRIVADO</td>\n",
       "      <td>26.0</td>\n",
       "      <td>0.0</td>\n",
       "      <td>0.0</td>\n",
       "      <td>0.0</td>\n",
       "      <td>21.0</td>\n",
       "      <td>47</td>\n",
       "    </tr>\n",
       "    <tr>\n",
       "      <th>2</th>\n",
       "      <td>CENTRO-OESTE</td>\n",
       "      <td>DF</td>\n",
       "      <td>BRASILIA</td>\n",
       "      <td>HOSPITAL_PÚBLICO</td>\n",
       "      <td>16.0</td>\n",
       "      <td>0.0</td>\n",
       "      <td>0.0</td>\n",
       "      <td>0.0</td>\n",
       "      <td>3.0</td>\n",
       "      <td>19</td>\n",
       "    </tr>\n",
       "    <tr>\n",
       "      <th>3</th>\n",
       "      <td>CENTRO-OESTE</td>\n",
       "      <td>GO</td>\n",
       "      <td>ABADIANIA</td>\n",
       "      <td>HOSPITAL_PÚBLICO</td>\n",
       "      <td>0.0</td>\n",
       "      <td>0.0</td>\n",
       "      <td>1.0</td>\n",
       "      <td>0.0</td>\n",
       "      <td>0.0</td>\n",
       "      <td>1</td>\n",
       "    </tr>\n",
       "    <tr>\n",
       "      <th>4</th>\n",
       "      <td>CENTRO-OESTE</td>\n",
       "      <td>GO</td>\n",
       "      <td>ACREUNA</td>\n",
       "      <td>HOSPITAL_PRIVADO</td>\n",
       "      <td>2.0</td>\n",
       "      <td>0.0</td>\n",
       "      <td>0.0</td>\n",
       "      <td>0.0</td>\n",
       "      <td>0.0</td>\n",
       "      <td>2</td>\n",
       "    </tr>\n",
       "    <tr>\n",
       "      <th>...</th>\n",
       "      <td>...</td>\n",
       "      <td>...</td>\n",
       "      <td>...</td>\n",
       "      <td>...</td>\n",
       "      <td>...</td>\n",
       "      <td>...</td>\n",
       "      <td>...</td>\n",
       "      <td>...</td>\n",
       "      <td>...</td>\n",
       "      <td>...</td>\n",
       "    </tr>\n",
       "    <tr>\n",
       "      <th>4345</th>\n",
       "      <td>SUL</td>\n",
       "      <td>SC</td>\n",
       "      <td>VITOR MEIRELES</td>\n",
       "      <td>HOSPITAL_FILANTRÓPICO</td>\n",
       "      <td>1.0</td>\n",
       "      <td>0.0</td>\n",
       "      <td>0.0</td>\n",
       "      <td>0.0</td>\n",
       "      <td>0.0</td>\n",
       "      <td>1</td>\n",
       "    </tr>\n",
       "    <tr>\n",
       "      <th>4346</th>\n",
       "      <td>SUL</td>\n",
       "      <td>SC</td>\n",
       "      <td>WITMARSUM</td>\n",
       "      <td>HOSPITAL_FILANTRÓPICO</td>\n",
       "      <td>1.0</td>\n",
       "      <td>0.0</td>\n",
       "      <td>0.0</td>\n",
       "      <td>0.0</td>\n",
       "      <td>0.0</td>\n",
       "      <td>1</td>\n",
       "    </tr>\n",
       "    <tr>\n",
       "      <th>4347</th>\n",
       "      <td>SUL</td>\n",
       "      <td>SC</td>\n",
       "      <td>XANXERE</td>\n",
       "      <td>HOSPITAL_FILANTRÓPICO</td>\n",
       "      <td>1.0</td>\n",
       "      <td>0.0</td>\n",
       "      <td>0.0</td>\n",
       "      <td>0.0</td>\n",
       "      <td>0.0</td>\n",
       "      <td>1</td>\n",
       "    </tr>\n",
       "    <tr>\n",
       "      <th>4348</th>\n",
       "      <td>SUL</td>\n",
       "      <td>SC</td>\n",
       "      <td>XAVANTINA</td>\n",
       "      <td>HOSPITAL_FILANTRÓPICO</td>\n",
       "      <td>1.0</td>\n",
       "      <td>0.0</td>\n",
       "      <td>0.0</td>\n",
       "      <td>0.0</td>\n",
       "      <td>0.0</td>\n",
       "      <td>1</td>\n",
       "    </tr>\n",
       "    <tr>\n",
       "      <th>4349</th>\n",
       "      <td>SUL</td>\n",
       "      <td>SC</td>\n",
       "      <td>XAXIM</td>\n",
       "      <td>HOSPITAL_FILANTRÓPICO</td>\n",
       "      <td>1.0</td>\n",
       "      <td>0.0</td>\n",
       "      <td>0.0</td>\n",
       "      <td>0.0</td>\n",
       "      <td>0.0</td>\n",
       "      <td>1</td>\n",
       "    </tr>\n",
       "  </tbody>\n",
       "</table>\n",
       "<p>4350 rows × 10 columns</p>\n",
       "</div>"
      ],
      "text/plain": [
       "            REGIAO  UF       MUNICIPIO DESC_NATUREZA_JURIDICA  HOSPITAL_GERAL  \\\n",
       "0     CENTRO-OESTE  DF        BRASILIA  HOSPITAL_FILANTRÓPICO             4.0   \n",
       "1     CENTRO-OESTE  DF        BRASILIA       HOSPITAL_PRIVADO            26.0   \n",
       "2     CENTRO-OESTE  DF        BRASILIA       HOSPITAL_PÚBLICO            16.0   \n",
       "3     CENTRO-OESTE  GO       ABADIANIA       HOSPITAL_PÚBLICO             0.0   \n",
       "4     CENTRO-OESTE  GO         ACREUNA       HOSPITAL_PRIVADO             2.0   \n",
       "...            ...  ..             ...                    ...             ...   \n",
       "4345           SUL  SC  VITOR MEIRELES  HOSPITAL_FILANTRÓPICO             1.0   \n",
       "4346           SUL  SC       WITMARSUM  HOSPITAL_FILANTRÓPICO             1.0   \n",
       "4347           SUL  SC         XANXERE  HOSPITAL_FILANTRÓPICO             1.0   \n",
       "4348           SUL  SC       XAVANTINA  HOSPITAL_FILANTRÓPICO             1.0   \n",
       "4349           SUL  SC           XAXIM  HOSPITAL_FILANTRÓPICO             1.0   \n",
       "\n",
       "      PRONTO_SOCORRO_GERAL  UNIDADE_MISTA  PRONTO_SOCORRO_ESPECIALIZADO  \\\n",
       "0                      0.0            0.0                           0.0   \n",
       "1                      0.0            0.0                           0.0   \n",
       "2                      0.0            0.0                           0.0   \n",
       "3                      0.0            1.0                           0.0   \n",
       "4                      0.0            0.0                           0.0   \n",
       "...                    ...            ...                           ...   \n",
       "4345                   0.0            0.0                           0.0   \n",
       "4346                   0.0            0.0                           0.0   \n",
       "4347                   0.0            0.0                           0.0   \n",
       "4348                   0.0            0.0                           0.0   \n",
       "4349                   0.0            0.0                           0.0   \n",
       "\n",
       "      HOSPITAL_ESPECIALIZADO  QTD_HOSPITAIS  \n",
       "0                        3.0              7  \n",
       "1                       21.0             47  \n",
       "2                        3.0             19  \n",
       "3                        0.0              1  \n",
       "4                        0.0              2  \n",
       "...                      ...            ...  \n",
       "4345                     0.0              1  \n",
       "4346                     0.0              1  \n",
       "4347                     0.0              1  \n",
       "4348                     0.0              1  \n",
       "4349                     0.0              1  \n",
       "\n",
       "[4350 rows x 10 columns]"
      ]
     },
     "execution_count": 48,
     "metadata": {},
     "output_type": "execute_result"
    }
   ],
   "source": [
    "hospitals_stat"
   ]
  },
  {
   "cell_type": "markdown",
   "metadata": {},
   "source": [
    "# ALIMENTOS"
   ]
  },
  {
   "cell_type": "code",
   "execution_count": 8,
   "metadata": {},
   "outputs": [],
   "source": [
    "food_filter = [\n",
    "                'ARROZ LONGO FINO BENEFICIADO TIPO 1 (5 kg)'\n",
    "                , 'FEIJÃO COMUM CORES TIPO 1 (kg)'\n",
    "                , 'FEIJÃO COMUM PRETO TIPO 1 (kg)'\n",
    "                , 'CARNE BOVINA ACÉM (kg)'\n",
    "                , 'CARNE BOVINA COSTELA (kg)'\n",
    "                , 'CARNE BOVINA PONTA DE AGULHA (kg)'\n",
    "                , 'CARNE DE FRANGO CONGELADO (kg)'\n",
    "                , 'CARNE DE FRANGO RESFRIADO (kg)'\n",
    "                , 'CARNE SUÍNA CONGELADO PERNIL COM OSSO (kg)'\n",
    "                , 'CARNE SUÍNA RESFRIADO PERNIL COM OSSO (kg)'\n",
    "                , 'OLEO DE SOJA REFINADO (900 ml)'\n",
    "                , 'LEITE DE VACA LONGA VIDA INTEGRAL (l)'\n",
    "                , 'MACARRÃO ESPAGUETE SÊMOLA COM OVOS (500 g)'\n",
    "                , 'MACARRÃO ESPAGUETE SÊMOLA COM OVOS (kg)'\n",
    "                , 'SAL (kg)'\n",
    "                ]"
   ]
  },
  {
   "cell_type": "code",
   "execution_count": 9,
   "metadata": {},
   "outputs": [],
   "source": [
    "food = pl.read_csv(os.path.join(AUXILIAR_PATH, 'ALIMENTOS_CONAB.csv'), separator=';') \\\n",
    "         .melt(id_vars=['UF', 'PRODUTO'], value_vars=pl.selectors.numeric(), variable_name='MES_REF', value_name='PRECO') \\\n",
    "         .filter(pl.col('PRODUTO').is_in(food_filter)) \\\n",
    "         .pivot(values='PRECO', columns='PRODUTO', index='UF', aggregate_function='mean') \\\n",
    "         .fill_null(0.0)\n",
    "         "
   ]
  },
  {
   "cell_type": "code",
   "execution_count": 10,
   "metadata": {},
   "outputs": [
    {
     "data": {
      "text/html": [
       "<div><style>\n",
       ".dataframe > thead > tr,\n",
       ".dataframe > tbody > tr {\n",
       "  text-align: right;\n",
       "  white-space: pre-wrap;\n",
       "}\n",
       "</style>\n",
       "<small>shape: (5, 16)</small><table border=\"1\" class=\"dataframe\"><thead><tr><th>UF</th><th>ARROZ LONGO FINO BENEFICIADO TIPO 1 (5 kg)</th><th>CARNE BOVINA ACÉM (kg)</th><th>CARNE BOVINA COSTELA (kg)</th><th>CARNE BOVINA PONTA DE AGULHA (kg)</th><th>CARNE DE FRANGO CONGELADO (kg)</th><th>CARNE DE FRANGO RESFRIADO (kg)</th><th>CARNE SUÍNA CONGELADO PERNIL COM OSSO (kg)</th><th>CARNE SUÍNA RESFRIADO PERNIL COM OSSO (kg)</th><th>FEIJÃO COMUM CORES TIPO 1 (kg)</th><th>FEIJÃO COMUM PRETO TIPO 1 (kg)</th><th>LEITE DE VACA LONGA VIDA INTEGRAL (l)</th><th>MACARRÃO ESPAGUETE SÊMOLA COM OVOS (500 g)</th><th>MACARRÃO ESPAGUETE SÊMOLA COM OVOS (kg)</th><th>OLEO DE SOJA REFINADO (900 ml)</th><th>SAL (kg)</th></tr><tr><td>str</td><td>f64</td><td>f64</td><td>f64</td><td>f64</td><td>f64</td><td>f64</td><td>f64</td><td>f64</td><td>f64</td><td>f64</td><td>f64</td><td>f64</td><td>f64</td><td>f64</td><td>f64</td></tr></thead><tbody><tr><td>&quot;ES&quot;</td><td>20.27</td><td>0.0</td><td>22.499091</td><td>0.0</td><td>10.084545</td><td>13.049091</td><td>16.122727</td><td>0.0</td><td>8.373636</td><td>6.773636</td><td>4.796364</td><td>4.995455</td><td>0.0</td><td>6.657273</td><td>2.388182</td></tr><tr><td>&quot;GO&quot;</td><td>23.567273</td><td>0.0</td><td>0.0</td><td>17.223636</td><td>7.423636</td><td>7.917273</td><td>0.0</td><td>13.353636</td><td>8.934545</td><td>9.976364</td><td>5.564545</td><td>0.0</td><td>9.150909</td><td>6.314545</td><td>3.187273</td></tr><tr><td>&quot;MA&quot;</td><td>23.606364</td><td>0.0</td><td>0.0</td><td>0.0</td><td>0.0</td><td>0.0</td><td>0.0</td><td>14.990909</td><td>7.834545</td><td>7.345455</td><td>5.643636</td><td>4.421818</td><td>0.0</td><td>7.06</td><td>1.378182</td></tr><tr><td>&quot;MG&quot;</td><td>23.878182</td><td>0.0</td><td>0.0</td><td>22.383636</td><td>12.462727</td><td>12.236364</td><td>0.0</td><td>19.38</td><td>8.533636</td><td>8.107273</td><td>4.870909</td><td>4.923636</td><td>0.0</td><td>6.452727</td><td>0.0</td></tr><tr><td>&quot;MS&quot;</td><td>24.448182</td><td>0.0</td><td>0.0</td><td>16.530909</td><td>9.504545</td><td>11.877273</td><td>0.0</td><td>12.293636</td><td>9.032727</td><td>8.541818</td><td>5.535455</td><td>0.0</td><td>10.160909</td><td>6.482727</td><td>0.0</td></tr></tbody></table></div>"
      ],
      "text/plain": [
       "shape: (5, 16)\n",
       "┌─────┬────────────┬────────────┬────────────┬───┬────────────┬────────────┬────────────┬──────────┐\n",
       "│ UF  ┆ ARROZ      ┆ CARNE      ┆ CARNE      ┆ … ┆ MACARRÃO   ┆ MACARRÃO   ┆ OLEO DE    ┆ SAL (kg) │\n",
       "│ --- ┆ LONGO FINO ┆ BOVINA     ┆ BOVINA     ┆   ┆ ESPAGUETE  ┆ ESPAGUETE  ┆ SOJA       ┆ ---      │\n",
       "│ str ┆ BENEFICIAD ┆ ACÉM (kg)  ┆ COSTELA    ┆   ┆ SÊMOLA COM ┆ SÊMOLA COM ┆ REFINADO   ┆ f64      │\n",
       "│     ┆ O TIP…     ┆ ---        ┆ (kg)       ┆   ┆ OV…        ┆ OV…        ┆ (900 ml)   ┆          │\n",
       "│     ┆ ---        ┆ f64        ┆ ---        ┆   ┆ ---        ┆ ---        ┆ ---        ┆          │\n",
       "│     ┆ f64        ┆            ┆ f64        ┆   ┆ f64        ┆ f64        ┆ f64        ┆          │\n",
       "╞═════╪════════════╪════════════╪════════════╪═══╪════════════╪════════════╪════════════╪══════════╡\n",
       "│ ES  ┆ 20.27      ┆ 0.0        ┆ 22.499091  ┆ … ┆ 4.995455   ┆ 0.0        ┆ 6.657273   ┆ 2.388182 │\n",
       "│ GO  ┆ 23.567273  ┆ 0.0        ┆ 0.0        ┆ … ┆ 0.0        ┆ 9.150909   ┆ 6.314545   ┆ 3.187273 │\n",
       "│ MA  ┆ 23.606364  ┆ 0.0        ┆ 0.0        ┆ … ┆ 4.421818   ┆ 0.0        ┆ 7.06       ┆ 1.378182 │\n",
       "│ MG  ┆ 23.878182  ┆ 0.0        ┆ 0.0        ┆ … ┆ 4.923636   ┆ 0.0        ┆ 6.452727   ┆ 0.0      │\n",
       "│ MS  ┆ 24.448182  ┆ 0.0        ┆ 0.0        ┆ … ┆ 0.0        ┆ 10.160909  ┆ 6.482727   ┆ 0.0      │\n",
       "└─────┴────────────┴────────────┴────────────┴───┴────────────┴────────────┴────────────┴──────────┘"
      ]
     },
     "execution_count": 10,
     "metadata": {},
     "output_type": "execute_result"
    }
   ],
   "source": [
    "food.head()"
   ]
  },
  {
   "cell_type": "markdown",
   "metadata": {},
   "source": [
    "# SEGURANÇA"
   ]
  },
  {
   "cell_type": "markdown",
   "metadata": {},
   "source": [
    "## TRANSPORTE"
   ]
  },
  {
   "cell_type": "code",
   "execution_count": 11,
   "metadata": {},
   "outputs": [],
   "source": [
    "ob_transporte = pl.read_csv(os.path.join(AUXILIAR_PATH, 'bitos-em-acidentes-de-transporte.csv'), separator=';') \\\n",
    "                  .filter(pl.col('período') > 2018) \\\n",
    "                  .unique() \\\n",
    "                  .group_by(['cod', 'nome']).agg( \\\n",
    "                                pl.col('valor').min().alias('MIN_OBITOS_CARRO') \\\n",
    "                              , pl.col('valor').mean().alias('MEDIA_OBITOS_CARRO') \\\n",
    "                              , pl.col('valor').max().alias('MAX_OBITOS_CARRO') \\\n",
    "                              , pl.col('período').n_unique().alias('QTD_HISTORICO_CARRO') \\\n",
    "                              , pl.when(pl.col('valor') == pl.col('valor').max()) \\\n",
    "                                                .then(pl.col('período')) \\\n",
    "                                                .otherwise(pl.lit(0)).alias('ANO_MAIOR_CARRO')) \\\n",
    "                            .with_columns(pl.col('ANO_MAIOR_CARRO').cast(pl.Array(inner=pl.Int64, width=3)).arr.max().alias('ANO_MAIOR_CARRO'))"
   ]
  },
  {
   "cell_type": "code",
   "execution_count": 12,
   "metadata": {},
   "outputs": [
    {
     "data": {
      "text/html": [
       "<div><style>\n",
       ".dataframe > thead > tr,\n",
       ".dataframe > tbody > tr {\n",
       "  text-align: right;\n",
       "  white-space: pre-wrap;\n",
       "}\n",
       "</style>\n",
       "<small>shape: (5, 7)</small><table border=\"1\" class=\"dataframe\"><thead><tr><th>cod</th><th>nome</th><th>MIN_OBITOS_CARRO</th><th>MEDIA_OBITOS_CARRO</th><th>MAX_OBITOS_CARRO</th><th>QTD_HISTORICO_CARRO</th><th>ANO_MAIOR_CARRO</th></tr><tr><td>i64</td><td>str</td><td>i64</td><td>f64</td><td>i64</td><td>u32</td><td>i64</td></tr></thead><tbody><tr><td>4306973</td><td>&quot;Erebango&quot;</td><td>0</td><td>0.333333</td><td>1</td><td>3</td><td>2021</td></tr><tr><td>4305835</td><td>&quot;Coqueiro Baixo…</td><td>0</td><td>0.0</td><td>0</td><td>3</td><td>2021</td></tr><tr><td>4301800</td><td>&quot;Barracão&quot;</td><td>2</td><td>2.333333</td><td>3</td><td>3</td><td>2019</td></tr><tr><td>4301404</td><td>&quot;Arvorezinha&quot;</td><td>0</td><td>1.0</td><td>2</td><td>3</td><td>2019</td></tr><tr><td>4217709</td><td>&quot;Sombrio&quot;</td><td>3</td><td>5.0</td><td>8</td><td>3</td><td>2019</td></tr></tbody></table></div>"
      ],
      "text/plain": [
       "shape: (5, 7)\n",
       "┌─────────┬──────────────┬──────────────┬──────────────┬──────────────┬──────────────┬─────────────┐\n",
       "│ cod     ┆ nome         ┆ MIN_OBITOS_C ┆ MEDIA_OBITOS ┆ MAX_OBITOS_C ┆ QTD_HISTORIC ┆ ANO_MAIOR_C │\n",
       "│ ---     ┆ ---          ┆ ARRO         ┆ _CARRO       ┆ ARRO         ┆ O_CARRO      ┆ ARRO        │\n",
       "│ i64     ┆ str          ┆ ---          ┆ ---          ┆ ---          ┆ ---          ┆ ---         │\n",
       "│         ┆              ┆ i64          ┆ f64          ┆ i64          ┆ u32          ┆ i64         │\n",
       "╞═════════╪══════════════╪══════════════╪══════════════╪══════════════╪══════════════╪═════════════╡\n",
       "│ 4306973 ┆ Erebango     ┆ 0            ┆ 0.333333     ┆ 1            ┆ 3            ┆ 2021        │\n",
       "│ 4305835 ┆ Coqueiro     ┆ 0            ┆ 0.0          ┆ 0            ┆ 3            ┆ 2021        │\n",
       "│         ┆ Baixo        ┆              ┆              ┆              ┆              ┆             │\n",
       "│ 4301800 ┆ Barracão     ┆ 2            ┆ 2.333333     ┆ 3            ┆ 3            ┆ 2019        │\n",
       "│ 4301404 ┆ Arvorezinha  ┆ 0            ┆ 1.0          ┆ 2            ┆ 3            ┆ 2019        │\n",
       "│ 4217709 ┆ Sombrio      ┆ 3            ┆ 5.0          ┆ 8            ┆ 3            ┆ 2019        │\n",
       "└─────────┴──────────────┴──────────────┴──────────────┴──────────────┴──────────────┴─────────────┘"
      ]
     },
     "execution_count": 12,
     "metadata": {},
     "output_type": "execute_result"
    }
   ],
   "source": [
    "ob_transporte.head()"
   ]
  },
  {
   "cell_type": "markdown",
   "metadata": {},
   "source": [
    "## MORTES"
   ]
  },
  {
   "cell_type": "code",
   "execution_count": 13,
   "metadata": {},
   "outputs": [],
   "source": [
    "homicidios = pl.read_csv(os.path.join(AUXILIAR_PATH, 'homicidios.csv'), separator=';') \\\n",
    "                  .filter(pl.col('período') > 2018) \\\n",
    "                  .unique() \\\n",
    "                  .group_by(['cod', 'nome']).agg( \\\n",
    "                                pl.col('valor').min().alias('MIN_OBITOS_HOMICIDIOS') \\\n",
    "                              , pl.col('valor').mean().alias('MEDIA_OBITOS_HOMICIDIOS') \\\n",
    "                              , pl.col('valor').max().alias('MAX_OBITOS_HOMICIDIOS') \\\n",
    "                              , pl.col('período').n_unique().alias('QTD_HISTORICO_HOMICIDIOS') \\\n",
    "                              , pl.when(pl.col('valor') == pl.col('valor').max()) \\\n",
    "                                                .then(pl.col('período')) \\\n",
    "                                                .otherwise(pl.lit(0)).alias('ANO_MAIOR_HOMICIDIOS')) \\\n",
    "                             .with_columns(pl.col('ANO_MAIOR_HOMICIDIOS').cast(pl.Array(inner=pl.Int64, width=3)).arr.max().alias('ANO_MAIOR_HOMICIDIOS'))\n",
    "\n"
   ]
  },
  {
   "cell_type": "code",
   "execution_count": 14,
   "metadata": {},
   "outputs": [
    {
     "data": {
      "text/html": [
       "<div><style>\n",
       ".dataframe > thead > tr,\n",
       ".dataframe > tbody > tr {\n",
       "  text-align: right;\n",
       "  white-space: pre-wrap;\n",
       "}\n",
       "</style>\n",
       "<small>shape: (5, 7)</small><table border=\"1\" class=\"dataframe\"><thead><tr><th>cod</th><th>nome</th><th>MIN_OBITOS_HOMICIDIOS</th><th>MEDIA_OBITOS_HOMICIDIOS</th><th>MAX_OBITOS_HOMICIDIOS</th><th>QTD_HISTORICO_HOMICIDIOS</th><th>ANO_MAIOR_HOMICIDIOS</th></tr><tr><td>i64</td><td>str</td><td>i64</td><td>f64</td><td>i64</td><td>u32</td><td>i64</td></tr></thead><tbody><tr><td>1703891</td><td>&quot;Carrasco Bonit…</td><td>1</td><td>1.333333</td><td>2</td><td>3</td><td>2020</td></tr><tr><td>1717008</td><td>&quot;Pindorama do T…</td><td>0</td><td>0.666667</td><td>1</td><td>3</td><td>2020</td></tr><tr><td>1715754</td><td>&quot;Palmeirópolis&quot;</td><td>0</td><td>2.0</td><td>4</td><td>3</td><td>2019</td></tr><tr><td>2203701</td><td>&quot;Esperantina&quot;</td><td>9</td><td>10.0</td><td>11</td><td>3</td><td>2020</td></tr><tr><td>2301505</td><td>&quot;Arneiroz&quot;</td><td>0</td><td>0.666667</td><td>1</td><td>3</td><td>2020</td></tr></tbody></table></div>"
      ],
      "text/plain": [
       "shape: (5, 7)\n",
       "┌─────────┬──────────────┬──────────────┬──────────────┬──────────────┬──────────────┬─────────────┐\n",
       "│ cod     ┆ nome         ┆ MIN_OBITOS_H ┆ MEDIA_OBITOS ┆ MAX_OBITOS_H ┆ QTD_HISTORIC ┆ ANO_MAIOR_H │\n",
       "│ ---     ┆ ---          ┆ OMICIDIOS    ┆ _HOMICIDIOS  ┆ OMICIDIOS    ┆ O_HOMICIDIOS ┆ OMICIDIOS   │\n",
       "│ i64     ┆ str          ┆ ---          ┆ ---          ┆ ---          ┆ ---          ┆ ---         │\n",
       "│         ┆              ┆ i64          ┆ f64          ┆ i64          ┆ u32          ┆ i64         │\n",
       "╞═════════╪══════════════╪══════════════╪══════════════╪══════════════╪══════════════╪═════════════╡\n",
       "│ 1703891 ┆ Carrasco     ┆ 1            ┆ 1.333333     ┆ 2            ┆ 3            ┆ 2020        │\n",
       "│         ┆ Bonito       ┆              ┆              ┆              ┆              ┆             │\n",
       "│ 1717008 ┆ Pindorama do ┆ 0            ┆ 0.666667     ┆ 1            ┆ 3            ┆ 2020        │\n",
       "│         ┆ Tocantins    ┆              ┆              ┆              ┆              ┆             │\n",
       "│ 1715754 ┆ Palmeirópoli ┆ 0            ┆ 2.0          ┆ 4            ┆ 3            ┆ 2019        │\n",
       "│         ┆ s            ┆              ┆              ┆              ┆              ┆             │\n",
       "│ 2203701 ┆ Esperantina  ┆ 9            ┆ 10.0         ┆ 11           ┆ 3            ┆ 2020        │\n",
       "│ 2301505 ┆ Arneiroz     ┆ 0            ┆ 0.666667     ┆ 1            ┆ 3            ┆ 2020        │\n",
       "└─────────┴──────────────┴──────────────┴──────────────┴──────────────┴──────────────┴─────────────┘"
      ]
     },
     "execution_count": 14,
     "metadata": {},
     "output_type": "execute_result"
    }
   ],
   "source": [
    "homicidios.head()"
   ]
  },
  {
   "cell_type": "code",
   "execution_count": null,
   "metadata": {},
   "outputs": [],
   "source": []
  },
  {
   "cell_type": "markdown",
   "metadata": {},
   "source": [
    "## MORTES ARMA"
   ]
  },
  {
   "cell_type": "code",
   "execution_count": 15,
   "metadata": {},
   "outputs": [],
   "source": [
    "hom_arma = pl.read_csv(os.path.join(AUXILIAR_PATH, 'homicidios-por-armas-de-fogo.csv'), separator=';') \\\n",
    "                  .filter(pl.col('período') > 2018) \\\n",
    "                  .unique() \\\n",
    "                  .group_by(['cod', 'nome']).agg( \\\n",
    "                                pl.col('valor').min().alias('MIN_OBITOS_HOM_ARMA') \\\n",
    "                              , pl.col('valor').mean().alias('MEDIA_OBITOS_HOM_ARMA') \\\n",
    "                              , pl.col('valor').max().alias('MAX_OBITOS_HOM_ARMA') \\\n",
    "                              , pl.col('período').n_unique().alias('QTD_HISTORICO_HOM_ARMA') \\\n",
    "                              , pl.when(pl.col('valor') == pl.col('valor').max()) \\\n",
    "                                                .then(pl.col('período')) \\\n",
    "                                                .otherwise(pl.lit(0)).alias('ANO_MAIOR_HOM_ARMA')) \\\n",
    "                            .filter(pl.col('QTD_HISTORICO_HOM_ARMA') > 2) \\\n",
    "                            .with_columns(pl.col('ANO_MAIOR_HOM_ARMA').cast(pl.Array(inner=pl.Int64, width=3)).arr.max().alias('ANO_MAIOR_HOM_ARMA'))"
   ]
  },
  {
   "cell_type": "code",
   "execution_count": 16,
   "metadata": {},
   "outputs": [
    {
     "data": {
      "text/html": [
       "<div><style>\n",
       ".dataframe > thead > tr,\n",
       ".dataframe > tbody > tr {\n",
       "  text-align: right;\n",
       "  white-space: pre-wrap;\n",
       "}\n",
       "</style>\n",
       "<small>shape: (5, 7)</small><table border=\"1\" class=\"dataframe\"><thead><tr><th>cod</th><th>nome</th><th>MIN_OBITOS_HOM_ARMA</th><th>MEDIA_OBITOS_HOM_ARMA</th><th>MAX_OBITOS_HOM_ARMA</th><th>QTD_HISTORICO_HOM_ARMA</th><th>ANO_MAIOR_HOM_ARMA</th></tr><tr><td>i64</td><td>str</td><td>i64</td><td>f64</td><td>i64</td><td>u32</td><td>i64</td></tr></thead><tbody><tr><td>2609907</td><td>&quot;Ouricuri&quot;</td><td>7</td><td>10.0</td><td>15</td><td>3</td><td>2019</td></tr><tr><td>2402907</td><td>&quot;Coronel João P…</td><td>0</td><td>1.0</td><td>2</td><td>3</td><td>2020</td></tr><tr><td>2110401</td><td>&quot;São Benedito d…</td><td>1</td><td>1.333333</td><td>2</td><td>3</td><td>2021</td></tr><tr><td>2107506</td><td>&quot;Paço do Lumiar…</td><td>14</td><td>16.333333</td><td>18</td><td>3</td><td>2021</td></tr><tr><td>2104404</td><td>&quot;Gonçalves Dias…</td><td>0</td><td>3.333333</td><td>7</td><td>3</td><td>2021</td></tr></tbody></table></div>"
      ],
      "text/plain": [
       "shape: (5, 7)\n",
       "┌─────────┬──────────────┬──────────────┬──────────────┬──────────────┬──────────────┬─────────────┐\n",
       "│ cod     ┆ nome         ┆ MIN_OBITOS_H ┆ MEDIA_OBITOS ┆ MAX_OBITOS_H ┆ QTD_HISTORIC ┆ ANO_MAIOR_H │\n",
       "│ ---     ┆ ---          ┆ OM_ARMA      ┆ _HOM_ARMA    ┆ OM_ARMA      ┆ O_HOM_ARMA   ┆ OM_ARMA     │\n",
       "│ i64     ┆ str          ┆ ---          ┆ ---          ┆ ---          ┆ ---          ┆ ---         │\n",
       "│         ┆              ┆ i64          ┆ f64          ┆ i64          ┆ u32          ┆ i64         │\n",
       "╞═════════╪══════════════╪══════════════╪══════════════╪══════════════╪══════════════╪═════════════╡\n",
       "│ 2609907 ┆ Ouricuri     ┆ 7            ┆ 10.0         ┆ 15           ┆ 3            ┆ 2019        │\n",
       "│ 2402907 ┆ Coronel João ┆ 0            ┆ 1.0          ┆ 2            ┆ 3            ┆ 2020        │\n",
       "│         ┆ Pessoa       ┆              ┆              ┆              ┆              ┆             │\n",
       "│ 2110401 ┆ São Benedito ┆ 1            ┆ 1.333333     ┆ 2            ┆ 3            ┆ 2021        │\n",
       "│         ┆ do Rio Preto ┆              ┆              ┆              ┆              ┆             │\n",
       "│ 2107506 ┆ Paço do      ┆ 14           ┆ 16.333333    ┆ 18           ┆ 3            ┆ 2021        │\n",
       "│         ┆ Lumiar       ┆              ┆              ┆              ┆              ┆             │\n",
       "│ 2104404 ┆ Gonçalves    ┆ 0            ┆ 3.333333     ┆ 7            ┆ 3            ┆ 2021        │\n",
       "│         ┆ Dias         ┆              ┆              ┆              ┆              ┆             │\n",
       "└─────────┴──────────────┴──────────────┴──────────────┴──────────────┴──────────────┴─────────────┘"
      ]
     },
     "execution_count": 16,
     "metadata": {},
     "output_type": "execute_result"
    }
   ],
   "source": [
    "hom_arma.head()"
   ]
  },
  {
   "cell_type": "markdown",
   "metadata": {},
   "source": [
    "# UNIÃO CIDADES & HOSPITAIS"
   ]
  },
  {
   "cell_type": "code",
   "execution_count": 49,
   "metadata": {},
   "outputs": [],
   "source": [
    "city_hosp = duckdb.sql(\"\"\"\n",
    "           SELECT \n",
    "              CT.CD_MUN\n",
    "            , CT.NM_MUN\n",
    "            , CT.AREA_KM2\n",
    "            , CT.CD_UF\n",
    "            , CT.NM_UF\n",
    "            , HS.*\n",
    "            , FD.*\n",
    "\n",
    "            , HOM.MIN_OBITOS_HOMICIDIOS\n",
    "            , HOM.MEDIA_OBITOS_HOMICIDIOS\n",
    "            , HOM.MAX_OBITOS_HOMICIDIOS\n",
    "            , HOM.QTD_HISTORICO_HOMICIDIOS\n",
    "            , HOM.ANO_MAIOR_HOMICIDIOS\n",
    "\n",
    "           FROM hospitals_stat AS HS\n",
    "\n",
    "           JOIN cities AS CT\n",
    "           ON CT.SIGLA_UF = HS.UF\n",
    "           AND CT.MUNICIPIO = HS.MUNICIPIO\n",
    "           \n",
    "           JOIN food FD\n",
    "           ON FD.UF = HS.UF\n",
    "\n",
    "           JOIN homicidios HOM\n",
    "           ON HOM.cod = CT.CD_MUN\n",
    "    \n",
    "                      \n",
    "           \"\"\").to_df()"
   ]
  },
  {
   "cell_type": "code",
   "execution_count": 17,
   "metadata": {},
   "outputs": [],
   "source": [
    "# city_hosp = duckdb.sql(\"\"\"\n",
    "#            SELECT \n",
    "#               CT.CD_MUN\n",
    "#             , CT.NM_MUN\n",
    "#             , CT.AREA_KM2\n",
    "#             , CT.CD_UF\n",
    "#             , CT.NM_UF\n",
    "#             , HS.*\n",
    "#             , FD.*\n",
    "#             , HARMA.MIN_OBITOS_HOM_ARMA\n",
    "#             , HARMA.MEDIA_OBITOS_HOM_ARMA\n",
    "#             , HARMA.MAX_OBITOS_HOM_ARMA\n",
    "#             , HARMA.QTD_HISTORICO_HOM_ARMA\n",
    "#             , HARMA.ANO_MAIOR_HOM_ARMA\n",
    "                       \n",
    "#             , HOM.MIN_OBITOS_HOMICIDIOS\n",
    "#             , HOM.MEDIA_OBITOS_HOMICIDIOS\n",
    "#             , HOM.MAX_OBITOS_HOMICIDIOS\n",
    "#             , HOM.QTD_HISTORICO_HOMICIDIOS\n",
    "#             , HOM.ANO_MAIOR_HOMICIDIOS\n",
    "\n",
    "#             , OBTRANS.MIN_OBITOS_CARRO\n",
    "#             , OBTRANS.MEDIA_OBITOS_CARRO\n",
    "#             , OBTRANS.MAX_OBITOS_CARRO\n",
    "#             , OBTRANS.QTD_HISTORICO_CARRO\n",
    "#             , OBTRANS.ANO_MAIOR_CARRO\n",
    "\n",
    "#            FROM hospitals_stat AS HS\n",
    "\n",
    "#            JOIN cities AS CT\n",
    "#            ON CT.SIGLA_UF = HS.UF\n",
    "#            AND CT.MUNICIPIO = HS.MUNICIPIO\n",
    "           \n",
    "#            JOIN food FD\n",
    "#            ON FD.UF = HS.UF\n",
    "                       \n",
    "#            JOIN hom_arma HARMA\n",
    "#            ON HARMA.cod = CT.CD_MUN\n",
    "                       \n",
    "#            JOIN homicidios HOM\n",
    "#            ON HOM.cod = CT.CD_MUN\n",
    "\n",
    "#            JOIN ob_transporte OBTRANS\n",
    "#            ON OBTRANS.cod = CT.CD_MUN\n",
    "    \n",
    "                      \n",
    "#            \"\"\").to_df()"
   ]
  },
  {
   "cell_type": "code",
   "execution_count": 50,
   "metadata": {},
   "outputs": [
    {
     "data": {
      "text/html": [
       "<div>\n",
       "<style scoped>\n",
       "    .dataframe tbody tr th:only-of-type {\n",
       "        vertical-align: middle;\n",
       "    }\n",
       "\n",
       "    .dataframe tbody tr th {\n",
       "        vertical-align: top;\n",
       "    }\n",
       "\n",
       "    .dataframe thead th {\n",
       "        text-align: right;\n",
       "    }\n",
       "</style>\n",
       "<table border=\"1\" class=\"dataframe\">\n",
       "  <thead>\n",
       "    <tr style=\"text-align: right;\">\n",
       "      <th></th>\n",
       "      <th>CD_MUN</th>\n",
       "      <th>NM_MUN</th>\n",
       "      <th>AREA_KM2</th>\n",
       "      <th>CD_UF</th>\n",
       "      <th>NM_UF</th>\n",
       "      <th>REGIAO</th>\n",
       "      <th>UF</th>\n",
       "      <th>MUNICIPIO</th>\n",
       "      <th>DESC_NATUREZA_JURIDICA</th>\n",
       "      <th>HOSPITAL_GERAL</th>\n",
       "      <th>...</th>\n",
       "      <th>LEITE DE VACA LONGA VIDA INTEGRAL (l)</th>\n",
       "      <th>MACARRÃO ESPAGUETE SÊMOLA COM OVOS (500 g)</th>\n",
       "      <th>MACARRÃO ESPAGUETE SÊMOLA COM OVOS (kg)</th>\n",
       "      <th>OLEO DE SOJA REFINADO (900 ml)</th>\n",
       "      <th>SAL (kg)</th>\n",
       "      <th>MIN_OBITOS_HOMICIDIOS</th>\n",
       "      <th>MEDIA_OBITOS_HOMICIDIOS</th>\n",
       "      <th>MAX_OBITOS_HOMICIDIOS</th>\n",
       "      <th>QTD_HISTORICO_HOMICIDIOS</th>\n",
       "      <th>ANO_MAIOR_HOMICIDIOS</th>\n",
       "    </tr>\n",
       "  </thead>\n",
       "  <tbody>\n",
       "    <tr>\n",
       "      <th>0</th>\n",
       "      <td>2702306</td>\n",
       "      <td>Coruripe</td>\n",
       "      <td>897.800</td>\n",
       "      <td>27</td>\n",
       "      <td>Alagoas</td>\n",
       "      <td>NORDESTE</td>\n",
       "      <td>AL</td>\n",
       "      <td>CORURIPE</td>\n",
       "      <td>HOSPITAL_PRIVADO</td>\n",
       "      <td>1.0</td>\n",
       "      <td>...</td>\n",
       "      <td>0.000000</td>\n",
       "      <td>0.00</td>\n",
       "      <td>0.0</td>\n",
       "      <td>7.610000</td>\n",
       "      <td>1.864545</td>\n",
       "      <td>11</td>\n",
       "      <td>16.333333</td>\n",
       "      <td>20</td>\n",
       "      <td>3</td>\n",
       "      <td>2019</td>\n",
       "    </tr>\n",
       "    <tr>\n",
       "      <th>1</th>\n",
       "      <td>2704302</td>\n",
       "      <td>Maceió</td>\n",
       "      <td>509.320</td>\n",
       "      <td>27</td>\n",
       "      <td>Alagoas</td>\n",
       "      <td>NORDESTE</td>\n",
       "      <td>AL</td>\n",
       "      <td>MACEIO</td>\n",
       "      <td>HOSPITAL_FILANTRÓPICO</td>\n",
       "      <td>4.0</td>\n",
       "      <td>...</td>\n",
       "      <td>0.000000</td>\n",
       "      <td>0.00</td>\n",
       "      <td>0.0</td>\n",
       "      <td>7.610000</td>\n",
       "      <td>1.864545</td>\n",
       "      <td>329</td>\n",
       "      <td>363.666667</td>\n",
       "      <td>400</td>\n",
       "      <td>3</td>\n",
       "      <td>2020</td>\n",
       "    </tr>\n",
       "    <tr>\n",
       "      <th>2</th>\n",
       "      <td>2704302</td>\n",
       "      <td>Maceió</td>\n",
       "      <td>509.320</td>\n",
       "      <td>27</td>\n",
       "      <td>Alagoas</td>\n",
       "      <td>NORDESTE</td>\n",
       "      <td>AL</td>\n",
       "      <td>MACEIO</td>\n",
       "      <td>HOSPITAL_PRIVADO</td>\n",
       "      <td>12.0</td>\n",
       "      <td>...</td>\n",
       "      <td>0.000000</td>\n",
       "      <td>0.00</td>\n",
       "      <td>0.0</td>\n",
       "      <td>7.610000</td>\n",
       "      <td>1.864545</td>\n",
       "      <td>329</td>\n",
       "      <td>363.666667</td>\n",
       "      <td>400</td>\n",
       "      <td>3</td>\n",
       "      <td>2020</td>\n",
       "    </tr>\n",
       "    <tr>\n",
       "      <th>3</th>\n",
       "      <td>2704302</td>\n",
       "      <td>Maceió</td>\n",
       "      <td>509.320</td>\n",
       "      <td>27</td>\n",
       "      <td>Alagoas</td>\n",
       "      <td>NORDESTE</td>\n",
       "      <td>AL</td>\n",
       "      <td>MACEIO</td>\n",
       "      <td>HOSPITAL_PÚBLICO</td>\n",
       "      <td>4.0</td>\n",
       "      <td>...</td>\n",
       "      <td>0.000000</td>\n",
       "      <td>0.00</td>\n",
       "      <td>0.0</td>\n",
       "      <td>7.610000</td>\n",
       "      <td>1.864545</td>\n",
       "      <td>329</td>\n",
       "      <td>363.666667</td>\n",
       "      <td>400</td>\n",
       "      <td>3</td>\n",
       "      <td>2020</td>\n",
       "    </tr>\n",
       "    <tr>\n",
       "      <th>4</th>\n",
       "      <td>2900801</td>\n",
       "      <td>Alcobaça</td>\n",
       "      <td>1477.929</td>\n",
       "      <td>29</td>\n",
       "      <td>Bahia</td>\n",
       "      <td>NORDESTE</td>\n",
       "      <td>BA</td>\n",
       "      <td>ALCOBACA</td>\n",
       "      <td>HOSPITAL_PÚBLICO</td>\n",
       "      <td>1.0</td>\n",
       "      <td>...</td>\n",
       "      <td>4.827273</td>\n",
       "      <td>4.15</td>\n",
       "      <td>0.0</td>\n",
       "      <td>6.723636</td>\n",
       "      <td>0.000000</td>\n",
       "      <td>7</td>\n",
       "      <td>15.666667</td>\n",
       "      <td>29</td>\n",
       "      <td>3</td>\n",
       "      <td>2021</td>\n",
       "    </tr>\n",
       "  </tbody>\n",
       "</table>\n",
       "<p>5 rows × 36 columns</p>\n",
       "</div>"
      ],
      "text/plain": [
       "    CD_MUN    NM_MUN  AREA_KM2  CD_UF    NM_UF    REGIAO  UF MUNICIPIO  \\\n",
       "0  2702306  Coruripe   897.800     27  Alagoas  NORDESTE  AL  CORURIPE   \n",
       "1  2704302    Maceió   509.320     27  Alagoas  NORDESTE  AL    MACEIO   \n",
       "2  2704302    Maceió   509.320     27  Alagoas  NORDESTE  AL    MACEIO   \n",
       "3  2704302    Maceió   509.320     27  Alagoas  NORDESTE  AL    MACEIO   \n",
       "4  2900801  Alcobaça  1477.929     29    Bahia  NORDESTE  BA  ALCOBACA   \n",
       "\n",
       "  DESC_NATUREZA_JURIDICA  HOSPITAL_GERAL  ...  \\\n",
       "0       HOSPITAL_PRIVADO             1.0  ...   \n",
       "1  HOSPITAL_FILANTRÓPICO             4.0  ...   \n",
       "2       HOSPITAL_PRIVADO            12.0  ...   \n",
       "3       HOSPITAL_PÚBLICO             4.0  ...   \n",
       "4       HOSPITAL_PÚBLICO             1.0  ...   \n",
       "\n",
       "   LEITE DE VACA LONGA VIDA INTEGRAL (l)  \\\n",
       "0                               0.000000   \n",
       "1                               0.000000   \n",
       "2                               0.000000   \n",
       "3                               0.000000   \n",
       "4                               4.827273   \n",
       "\n",
       "   MACARRÃO ESPAGUETE SÊMOLA COM OVOS (500 g)  \\\n",
       "0                                        0.00   \n",
       "1                                        0.00   \n",
       "2                                        0.00   \n",
       "3                                        0.00   \n",
       "4                                        4.15   \n",
       "\n",
       "   MACARRÃO ESPAGUETE SÊMOLA COM OVOS (kg)  OLEO DE SOJA REFINADO (900 ml)  \\\n",
       "0                                      0.0                        7.610000   \n",
       "1                                      0.0                        7.610000   \n",
       "2                                      0.0                        7.610000   \n",
       "3                                      0.0                        7.610000   \n",
       "4                                      0.0                        6.723636   \n",
       "\n",
       "   SAL (kg) MIN_OBITOS_HOMICIDIOS  MEDIA_OBITOS_HOMICIDIOS  \\\n",
       "0  1.864545                    11                16.333333   \n",
       "1  1.864545                   329               363.666667   \n",
       "2  1.864545                   329               363.666667   \n",
       "3  1.864545                   329               363.666667   \n",
       "4  0.000000                     7                15.666667   \n",
       "\n",
       "   MAX_OBITOS_HOMICIDIOS  QTD_HISTORICO_HOMICIDIOS  ANO_MAIOR_HOMICIDIOS  \n",
       "0                     20                         3                  2019  \n",
       "1                    400                         3                  2020  \n",
       "2                    400                         3                  2020  \n",
       "3                    400                         3                  2020  \n",
       "4                     29                         3                  2021  \n",
       "\n",
       "[5 rows x 36 columns]"
      ]
     },
     "execution_count": 50,
     "metadata": {},
     "output_type": "execute_result"
    }
   ],
   "source": [
    "city_hosp.head()"
   ]
  },
  {
   "cell_type": "code",
   "execution_count": 19,
   "metadata": {},
   "outputs": [
    {
     "data": {
      "text/plain": [
       "┌─────────┬──────────┬──────────┬───┬────────────────────┬──────────────────┬─────────────────────┬─────────────────┐\n",
       "│ CD_MUN  │  NM_MUN  │ AREA_KM2 │ … │ MEDIA_OBITOS_CARRO │ MAX_OBITOS_CARRO │ QTD_HISTORICO_CARRO │ ANO_MAIOR_CARRO │\n",
       "│  int64  │ varchar  │  double  │   │       double       │      int64       │       uint32        │      int64      │\n",
       "├─────────┼──────────┼──────────┼───┼────────────────────┼──────────────────┼─────────────────────┼─────────────────┤\n",
       "│ 2702306 │ Coruripe │    897.8 │ … │ 14.333333333333334 │               19 │                   3 │            2020 │\n",
       "├─────────┴──────────┴──────────┴───┴────────────────────┴──────────────────┴─────────────────────┴─────────────────┤\n",
       "│ 1 rows                                                                                       43 columns (7 shown) │\n",
       "└───────────────────────────────────────────────────────────────────────────────────────────────────────────────────┘"
      ]
     },
     "execution_count": 19,
     "metadata": {},
     "output_type": "execute_result"
    }
   ],
   "source": [
    "duckdb.sql(\"SELECT * FROM city_hosp WHERE CD_MUN = 2702306\")"
   ]
  },
  {
   "cell_type": "code",
   "execution_count": 20,
   "metadata": {},
   "outputs": [
    {
     "data": {
      "text/plain": [
       "┌─────────┬──────────┬─────────────────────┬───┬─────────────────────┬──────────────────────┬────────────────────┐\n",
       "│   cod   │   nome   │ MIN_OBITOS_HOM_ARMA │ … │ MAX_OBITOS_HOM_ARMA │ QTD_HISTORICO_HOM_…  │ ANO_MAIOR_HOM_ARMA │\n",
       "│  int64  │ varchar  │        int64        │   │        int64        │        uint32        │       int64        │\n",
       "├─────────┼──────────┼─────────────────────┼───┼─────────────────────┼──────────────────────┼────────────────────┤\n",
       "│ 2702306 │ Coruripe │                   4 │ … │                  20 │                    3 │               2019 │\n",
       "├─────────┴──────────┴─────────────────────┴───┴─────────────────────┴──────────────────────┴────────────────────┤\n",
       "│ 1 rows                                                                                     7 columns (6 shown) │\n",
       "└────────────────────────────────────────────────────────────────────────────────────────────────────────────────┘"
      ]
     },
     "execution_count": 20,
     "metadata": {},
     "output_type": "execute_result"
    }
   ],
   "source": [
    "duckdb.sql(\"SELECT * FROM hom_arma WHERE cod = 2702306\")"
   ]
  },
  {
   "cell_type": "markdown",
   "metadata": {},
   "source": [
    "# LINKS AUXILIARES"
   ]
  },
  {
   "cell_type": "markdown",
   "metadata": {},
   "source": [
    "- [API IBGE CIDADES](https://servicodados.ibge.gov.br/api/v3/agregados/6579/periodos/2021/variaveis/9324?localidades=N6[1100015])\n",
    "- [API IBGE AGREGADA](https://servicodados.ibge.gov.br/api/docs/agregados?versao=3)\n",
    "- [ALIMENTOS CONAB](https://sisdep.conab.gov.br/precosiagroweb/)\n",
    "- [ATLAS DA VIOLENCIA](https://www.ipea.gov.br/atlasviolencia/filtros-series)\n"
   ]
  }
 ],
 "metadata": {
  "kernelspec": {
   "display_name": "finding-home-9tpckwVZ-py3.10",
   "language": "python",
   "name": "python3"
  },
  "language_info": {
   "codemirror_mode": {
    "name": "ipython",
    "version": 3
   },
   "file_extension": ".py",
   "mimetype": "text/x-python",
   "name": "python",
   "nbconvert_exporter": "python",
   "pygments_lexer": "ipython3",
   "version": "3.10.12"
  }
 },
 "nbformat": 4,
 "nbformat_minor": 2
}
