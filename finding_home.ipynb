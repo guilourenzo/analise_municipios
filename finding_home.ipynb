{
 "cells": [
  {
   "cell_type": "code",
   "execution_count": 1,
   "metadata": {},
   "outputs": [],
   "source": [
    "import polars as pl\n",
    "import os\n",
    "import duckdb"
   ]
  },
  {
   "cell_type": "code",
   "execution_count": 2,
   "metadata": {},
   "outputs": [],
   "source": [
    "AUXILIAR_PATH = r'finding-home/finding_home/auxiliar/'"
   ]
  },
  {
   "cell_type": "markdown",
   "metadata": {},
   "source": [
    "# IMPORTAÇÃO DE DADOS"
   ]
  },
  {
   "cell_type": "markdown",
   "metadata": {},
   "source": [
    "## CIDADES"
   ]
  },
  {
   "cell_type": "code",
   "execution_count": 23,
   "metadata": {},
   "outputs": [],
   "source": [
    "from unicodedata import normalize \n",
    "def custnorm(In_series):\n",
    "    for i, x in enumerate(In_series):\n",
    "        newvalue = normalize('NFKD',x).encode('ascii', errors='ignore').decode('utf-8')\n",
    "        if newvalue != x:\n",
    "            In_series[i]=newvalue\n",
    "    return In_series"
   ]
  },
  {
   "cell_type": "code",
   "execution_count": 24,
   "metadata": {},
   "outputs": [
    {
     "name": "stderr",
     "output_type": "stream",
     "text": [
      "/tmp/ipykernel_134355/3017128636.py:4: DeprecationWarning: `map` is deprecated. It has been renamed to `map_batches`.\n",
      "  .with_columns(pl.col('MUNICIPIO').map(custnorm).alias('MUNICIPIO'))\n"
     ]
    }
   ],
   "source": [
    "cities = pl.read_csv(os.path.join(AUXILIAR_PATH, 'CIDADES_LITORANEAS_IBGE.csv'), separator=';') \\\n",
    "           .filter(pl.col('NM_REGIAO').is_in(['Sul', 'Sudeste', 'Nordeste'])) \\\n",
    "           .with_columns(pl.col('NM_MUN').str.to_uppercase().alias('MUNICIPIO')) \\\n",
    "           .with_columns(pl.col('MUNICIPIO').map(custnorm).alias('MUNICIPIO'))"
   ]
  },
  {
   "cell_type": "code",
   "execution_count": 25,
   "metadata": {},
   "outputs": [
    {
     "data": {
      "text/html": [
       "<div><style>\n",
       ".dataframe > thead > tr,\n",
       ".dataframe > tbody > tr {\n",
       "  text-align: right;\n",
       "  white-space: pre-wrap;\n",
       "}\n",
       "</style>\n",
       "<small>shape: (5, 8)</small><table border=\"1\" class=\"dataframe\"><thead><tr><th>CD_MUN</th><th>NM_MUN</th><th>SIGLA_UF</th><th>AREA_KM2</th><th>NM_REGIAO</th><th>CD_UF</th><th>NM_UF</th><th>MUNICIPIO</th></tr><tr><td>i64</td><td>str</td><td>str</td><td>f64</td><td>str</td><td>i64</td><td>str</td><td>str</td></tr></thead><tbody><tr><td>2100204</td><td>&quot;Alcântara&quot;</td><td>&quot;MA&quot;</td><td>1167.964</td><td>&quot;Nordeste&quot;</td><td>21</td><td>&quot;Maranhão&quot;</td><td>&quot;ALCANTARA&quot;</td></tr><tr><td>2100832</td><td>&quot;Apicum-Açu&quot;</td><td>&quot;MA&quot;</td><td>341.12</td><td>&quot;Nordeste&quot;</td><td>21</td><td>&quot;Maranhão&quot;</td><td>&quot;APICUM-ACU&quot;</td></tr><tr><td>2100907</td><td>&quot;Araioses&quot;</td><td>&quot;MA&quot;</td><td>1789.73</td><td>&quot;Nordeste&quot;</td><td>21</td><td>&quot;Maranhão&quot;</td><td>&quot;ARAIOSES&quot;</td></tr><tr><td>2101103</td><td>&quot;Axixá&quot;</td><td>&quot;MA&quot;</td><td>160.462</td><td>&quot;Nordeste&quot;</td><td>21</td><td>&quot;Maranhão&quot;</td><td>&quot;AXIXA&quot;</td></tr><tr><td>2101251</td><td>&quot;Bacabeira&quot;</td><td>&quot;MA&quot;</td><td>542.962</td><td>&quot;Nordeste&quot;</td><td>21</td><td>&quot;Maranhão&quot;</td><td>&quot;BACABEIRA&quot;</td></tr></tbody></table></div>"
      ],
      "text/plain": [
       "shape: (5, 8)\n",
       "┌─────────┬────────────┬──────────┬──────────┬───────────┬───────┬──────────┬────────────┐\n",
       "│ CD_MUN  ┆ NM_MUN     ┆ SIGLA_UF ┆ AREA_KM2 ┆ NM_REGIAO ┆ CD_UF ┆ NM_UF    ┆ MUNICIPIO  │\n",
       "│ ---     ┆ ---        ┆ ---      ┆ ---      ┆ ---       ┆ ---   ┆ ---      ┆ ---        │\n",
       "│ i64     ┆ str        ┆ str      ┆ f64      ┆ str       ┆ i64   ┆ str      ┆ str        │\n",
       "╞═════════╪════════════╪══════════╪══════════╪═══════════╪═══════╪══════════╪════════════╡\n",
       "│ 2100204 ┆ Alcântara  ┆ MA       ┆ 1167.964 ┆ Nordeste  ┆ 21    ┆ Maranhão ┆ ALCANTARA  │\n",
       "│ 2100832 ┆ Apicum-Açu ┆ MA       ┆ 341.12   ┆ Nordeste  ┆ 21    ┆ Maranhão ┆ APICUM-ACU │\n",
       "│ 2100907 ┆ Araioses   ┆ MA       ┆ 1789.73  ┆ Nordeste  ┆ 21    ┆ Maranhão ┆ ARAIOSES   │\n",
       "│ 2101103 ┆ Axixá      ┆ MA       ┆ 160.462  ┆ Nordeste  ┆ 21    ┆ Maranhão ┆ AXIXA      │\n",
       "│ 2101251 ┆ Bacabeira  ┆ MA       ┆ 542.962  ┆ Nordeste  ┆ 21    ┆ Maranhão ┆ BACABEIRA  │\n",
       "└─────────┴────────────┴──────────┴──────────┴───────────┴───────┴──────────┴────────────┘"
      ]
     },
     "execution_count": 25,
     "metadata": {},
     "output_type": "execute_result"
    }
   ],
   "source": [
    "cities.head()"
   ]
  },
  {
   "cell_type": "markdown",
   "metadata": {},
   "source": [
    "## HOSPITAIS"
   ]
  },
  {
   "cell_type": "code",
   "execution_count": 7,
   "metadata": {},
   "outputs": [],
   "source": [
    "hospitals = pl.read_csv(os.path.join(AUXILIAR_PATH, 'hospitais.csv'), separator='|', encoding='cp1252', truncate_ragged_lines=True)"
   ]
  },
  {
   "cell_type": "code",
   "execution_count": 26,
   "metadata": {},
   "outputs": [
    {
     "data": {
      "text/plain": [
       "['',\n",
       " 'COMP',\n",
       " 'REGIAO',\n",
       " 'UF',\n",
       " 'MUNICIPIO',\n",
       " 'MOTIVO_DESABILITACAO',\n",
       " 'CNES',\n",
       " 'NOME_ESTABELECIMENTO',\n",
       " 'RAZAO_SOCIAL',\n",
       " 'TP_GESTAO',\n",
       " 'CO_TIPO_UNIDADE',\n",
       " 'DS_TIPO_UNIDADE',\n",
       " 'NATUREZA_JURIDICA',\n",
       " 'DESC_NATUREZA_JURIDICA',\n",
       " 'NO_LOGRADOURO',\n",
       " 'NU_ENDERECO',\n",
       " 'NO_COMPLEMENTO',\n",
       " 'NO_BAIRRO',\n",
       " 'CO_CEP',\n",
       " 'NU_TELEFONE',\n",
       " 'NO_EMAIL',\n",
       " 'LEITOS_EXISTENTES',\n",
       " 'LEITOS_SUS',\n",
       " 'UTI_TOTAL_EXIST',\n",
       " 'UTI_TOTAL_SUS',\n",
       " 'UTI_ADULTO_EXIST',\n",
       " 'UTI_ADULTO_SUS',\n",
       " 'UTI_PEDIATRICO_EXIST',\n",
       " 'UTI_PEDIATRICO_SUS',\n",
       " 'UTI_NEONATAL_EXIST',\n",
       " 'UTI_NEONATAL_SUS',\n",
       " 'UTI_QUEIMADO_EXIST',\n",
       " 'UTI_QUEIMADO_SUS',\n",
       " 'UTI_CORONARIANA_EXIST',\n",
       " 'UTI_CORONARIANA_SUS']"
      ]
     },
     "execution_count": 26,
     "metadata": {},
     "output_type": "execute_result"
    }
   ],
   "source": [
    "hospitals.columns"
   ]
  },
  {
   "cell_type": "code",
   "execution_count": 27,
   "metadata": {},
   "outputs": [],
   "source": [
    "hospitals_stat = duckdb.sql(\"\"\"\n",
    "                            SELECT \n",
    "                                    REGIAO\n",
    "                                ,   UF\n",
    "                                ,   MUNICIPIO\n",
    "                                ,   DESC_NATUREZA_JURIDICA\n",
    "                                ,   SUM(CASE WHEN DS_TIPO_UNIDADE == 'HOSPITAL GERAL' THEN 1 ELSE 0 END) AS HOSPITAL_GERAL\n",
    "                                ,   SUM(CASE WHEN DS_TIPO_UNIDADE == 'PRONTO SOCORRO GERAL' THEN 1 ELSE 0 END) AS PRONTO_SOCORRO_GERAL \n",
    "                                ,   SUM(CASE WHEN DS_TIPO_UNIDADE == 'UNIDADE MISTA' THEN 1 ELSE 0 END) AS UNIDADE_MISTA\n",
    "                            \n",
    "                            FROM hospitals\n",
    "                            GROUP BY REGIAO\n",
    "                                ,   UF\n",
    "                                ,   MUNICIPIO\n",
    "                                ,   DESC_NATUREZA_JURIDICA\n",
    "\n",
    "                            ORDER BY REGIAO\n",
    "                                ,   UF\n",
    "                                ,   MUNICIPIO\n",
    "                                ,   DESC_NATUREZA_JURIDICA\n",
    "                            \n",
    "                            \"\"\").to_df()"
   ]
  },
  {
   "cell_type": "code",
   "execution_count": 28,
   "metadata": {},
   "outputs": [
    {
     "data": {
      "text/html": [
       "<div>\n",
       "<style scoped>\n",
       "    .dataframe tbody tr th:only-of-type {\n",
       "        vertical-align: middle;\n",
       "    }\n",
       "\n",
       "    .dataframe tbody tr th {\n",
       "        vertical-align: top;\n",
       "    }\n",
       "\n",
       "    .dataframe thead th {\n",
       "        text-align: right;\n",
       "    }\n",
       "</style>\n",
       "<table border=\"1\" class=\"dataframe\">\n",
       "  <thead>\n",
       "    <tr style=\"text-align: right;\">\n",
       "      <th></th>\n",
       "      <th>REGIAO</th>\n",
       "      <th>UF</th>\n",
       "      <th>MUNICIPIO</th>\n",
       "      <th>DESC_NATUREZA_JURIDICA</th>\n",
       "      <th>HOSPITAL_GERAL</th>\n",
       "      <th>PRONTO_SOCORRO_GERAL</th>\n",
       "      <th>UNIDADE_MISTA</th>\n",
       "    </tr>\n",
       "  </thead>\n",
       "  <tbody>\n",
       "    <tr>\n",
       "      <th>0</th>\n",
       "      <td>CENTRO-OESTE</td>\n",
       "      <td>DF</td>\n",
       "      <td>BRASILIA</td>\n",
       "      <td>HOSPITAL_FILANTRÓPICO</td>\n",
       "      <td>4.0</td>\n",
       "      <td>0.0</td>\n",
       "      <td>0.0</td>\n",
       "    </tr>\n",
       "    <tr>\n",
       "      <th>1</th>\n",
       "      <td>CENTRO-OESTE</td>\n",
       "      <td>DF</td>\n",
       "      <td>BRASILIA</td>\n",
       "      <td>HOSPITAL_PRIVADO</td>\n",
       "      <td>26.0</td>\n",
       "      <td>0.0</td>\n",
       "      <td>0.0</td>\n",
       "    </tr>\n",
       "    <tr>\n",
       "      <th>2</th>\n",
       "      <td>CENTRO-OESTE</td>\n",
       "      <td>DF</td>\n",
       "      <td>BRASILIA</td>\n",
       "      <td>HOSPITAL_PÚBLICO</td>\n",
       "      <td>16.0</td>\n",
       "      <td>0.0</td>\n",
       "      <td>0.0</td>\n",
       "    </tr>\n",
       "    <tr>\n",
       "      <th>3</th>\n",
       "      <td>CENTRO-OESTE</td>\n",
       "      <td>GO</td>\n",
       "      <td>ABADIANIA</td>\n",
       "      <td>HOSPITAL_PÚBLICO</td>\n",
       "      <td>0.0</td>\n",
       "      <td>0.0</td>\n",
       "      <td>1.0</td>\n",
       "    </tr>\n",
       "    <tr>\n",
       "      <th>4</th>\n",
       "      <td>CENTRO-OESTE</td>\n",
       "      <td>GO</td>\n",
       "      <td>ACREUNA</td>\n",
       "      <td>HOSPITAL_PRIVADO</td>\n",
       "      <td>2.0</td>\n",
       "      <td>0.0</td>\n",
       "      <td>0.0</td>\n",
       "    </tr>\n",
       "  </tbody>\n",
       "</table>\n",
       "</div>"
      ],
      "text/plain": [
       "         REGIAO  UF  MUNICIPIO DESC_NATUREZA_JURIDICA  HOSPITAL_GERAL  \\\n",
       "0  CENTRO-OESTE  DF   BRASILIA  HOSPITAL_FILANTRÓPICO             4.0   \n",
       "1  CENTRO-OESTE  DF   BRASILIA       HOSPITAL_PRIVADO            26.0   \n",
       "2  CENTRO-OESTE  DF   BRASILIA       HOSPITAL_PÚBLICO            16.0   \n",
       "3  CENTRO-OESTE  GO  ABADIANIA       HOSPITAL_PÚBLICO             0.0   \n",
       "4  CENTRO-OESTE  GO    ACREUNA       HOSPITAL_PRIVADO             2.0   \n",
       "\n",
       "   PRONTO_SOCORRO_GERAL  UNIDADE_MISTA  \n",
       "0                   0.0            0.0  \n",
       "1                   0.0            0.0  \n",
       "2                   0.0            0.0  \n",
       "3                   0.0            1.0  \n",
       "4                   0.0            0.0  "
      ]
     },
     "execution_count": 28,
     "metadata": {},
     "output_type": "execute_result"
    }
   ],
   "source": [
    "hospitals_stat.head()"
   ]
  },
  {
   "cell_type": "code",
   "execution_count": 22,
   "metadata": {},
   "outputs": [
    {
     "data": {
      "text/plain": [
       "┌──────────┬────────────┬────────────────────────┬────────────────┬──────────────────────┬───────────────┐\n",
       "│  REGIAO  │ MUNICIPIO  │ DESC_NATUREZA_JURIDICA │ HOSPITAL_GERAL │ PRONTO_SOCORRO_GERAL │ UNIDADE_MISTA │\n",
       "│ varchar  │  varchar   │        varchar         │     double     │        double        │    double     │\n",
       "├──────────┼────────────┼────────────────────────┼────────────────┼──────────────────────┼───────────────┤\n",
       "│ NORDESTE │ APICUM-ACU │ HOSPITAL_PÚBLICO       │            1.0 │                  0.0 │           0.0 │\n",
       "└──────────┴────────────┴────────────────────────┴────────────────┴──────────────────────┴───────────────┘"
      ]
     },
     "execution_count": 22,
     "metadata": {},
     "output_type": "execute_result"
    }
   ],
   "source": [
    "duckdb.sql(\"SELECT * FROM hospitals_stat WHERE MUNICIPIO LIKE '%APICUM-ACU%'\")"
   ]
  },
  {
   "cell_type": "code",
   "execution_count": 19,
   "metadata": {},
   "outputs": [],
   "source": []
  },
  {
   "cell_type": "code",
   "execution_count": 20,
   "metadata": {},
   "outputs": [
    {
     "name": "stderr",
     "output_type": "stream",
     "text": [
      "/tmp/ipykernel_134355/948987951.py:1: DeprecationWarning: `map` is deprecated. It has been renamed to `map_batches`.\n",
      "  cities = cities.with_columns(pl.col('MUNICIPIO').map(custnorm).alias('MUNICIPIOS'))\n"
     ]
    }
   ],
   "source": [
    "cities = cities.with_columns(pl.col('MUNICIPIO').map(custnorm).alias('MUNICIPIOS'))"
   ]
  },
  {
   "cell_type": "code",
   "execution_count": 21,
   "metadata": {},
   "outputs": [
    {
     "data": {
      "text/html": [
       "<div><style>\n",
       ".dataframe > thead > tr,\n",
       ".dataframe > tbody > tr {\n",
       "  text-align: right;\n",
       "  white-space: pre-wrap;\n",
       "}\n",
       "</style>\n",
       "<small>shape: (5, 9)</small><table border=\"1\" class=\"dataframe\"><thead><tr><th>CD_MUN</th><th>NM_MUN</th><th>SIGLA_UF</th><th>AREA_KM2</th><th>NM_REGIAO</th><th>CD_UF</th><th>NM_UF</th><th>MUNICIPIO</th><th>MUNICIPIOS</th></tr><tr><td>i64</td><td>str</td><td>str</td><td>f64</td><td>str</td><td>i64</td><td>str</td><td>str</td><td>str</td></tr></thead><tbody><tr><td>2100204</td><td>&quot;Alcântara&quot;</td><td>&quot;MA&quot;</td><td>1167.964</td><td>&quot;Nordeste&quot;</td><td>21</td><td>&quot;Maranhão&quot;</td><td>&quot;ALCÂNTARA&quot;</td><td>&quot;ALCANTARA&quot;</td></tr><tr><td>2100832</td><td>&quot;Apicum-Açu&quot;</td><td>&quot;MA&quot;</td><td>341.12</td><td>&quot;Nordeste&quot;</td><td>21</td><td>&quot;Maranhão&quot;</td><td>&quot;APICUM-AÇU&quot;</td><td>&quot;APICUM-ACU&quot;</td></tr><tr><td>2100907</td><td>&quot;Araioses&quot;</td><td>&quot;MA&quot;</td><td>1789.73</td><td>&quot;Nordeste&quot;</td><td>21</td><td>&quot;Maranhão&quot;</td><td>&quot;ARAIOSES&quot;</td><td>&quot;ARAIOSES&quot;</td></tr><tr><td>2101103</td><td>&quot;Axixá&quot;</td><td>&quot;MA&quot;</td><td>160.462</td><td>&quot;Nordeste&quot;</td><td>21</td><td>&quot;Maranhão&quot;</td><td>&quot;AXIXÁ&quot;</td><td>&quot;AXIXA&quot;</td></tr><tr><td>2101251</td><td>&quot;Bacabeira&quot;</td><td>&quot;MA&quot;</td><td>542.962</td><td>&quot;Nordeste&quot;</td><td>21</td><td>&quot;Maranhão&quot;</td><td>&quot;BACABEIRA&quot;</td><td>&quot;BACABEIRA&quot;</td></tr></tbody></table></div>"
      ],
      "text/plain": [
       "shape: (5, 9)\n",
       "┌─────────┬────────────┬──────────┬──────────┬───┬───────┬──────────┬────────────┬────────────┐\n",
       "│ CD_MUN  ┆ NM_MUN     ┆ SIGLA_UF ┆ AREA_KM2 ┆ … ┆ CD_UF ┆ NM_UF    ┆ MUNICIPIO  ┆ MUNICIPIOS │\n",
       "│ ---     ┆ ---        ┆ ---      ┆ ---      ┆   ┆ ---   ┆ ---      ┆ ---        ┆ ---        │\n",
       "│ i64     ┆ str        ┆ str      ┆ f64      ┆   ┆ i64   ┆ str      ┆ str        ┆ str        │\n",
       "╞═════════╪════════════╪══════════╪══════════╪═══╪═══════╪══════════╪════════════╪════════════╡\n",
       "│ 2100204 ┆ Alcântara  ┆ MA       ┆ 1167.964 ┆ … ┆ 21    ┆ Maranhão ┆ ALCÂNTARA  ┆ ALCANTARA  │\n",
       "│ 2100832 ┆ Apicum-Açu ┆ MA       ┆ 341.12   ┆ … ┆ 21    ┆ Maranhão ┆ APICUM-AÇU ┆ APICUM-ACU │\n",
       "│ 2100907 ┆ Araioses   ┆ MA       ┆ 1789.73  ┆ … ┆ 21    ┆ Maranhão ┆ ARAIOSES   ┆ ARAIOSES   │\n",
       "│ 2101103 ┆ Axixá      ┆ MA       ┆ 160.462  ┆ … ┆ 21    ┆ Maranhão ┆ AXIXÁ      ┆ AXIXA      │\n",
       "│ 2101251 ┆ Bacabeira  ┆ MA       ┆ 542.962  ┆ … ┆ 21    ┆ Maranhão ┆ BACABEIRA  ┆ BACABEIRA  │\n",
       "└─────────┴────────────┴──────────┴──────────┴───┴───────┴──────────┴────────────┴────────────┘"
      ]
     },
     "execution_count": 21,
     "metadata": {},
     "output_type": "execute_result"
    }
   ],
   "source": [
    "cities.head()"
   ]
  },
  {
   "cell_type": "code",
   "execution_count": null,
   "metadata": {},
   "outputs": [],
   "source": []
  }
 ],
 "metadata": {
  "kernelspec": {
   "display_name": "finding-home-9tpckwVZ-py3.10",
   "language": "python",
   "name": "python3"
  },
  "language_info": {
   "codemirror_mode": {
    "name": "ipython",
    "version": 3
   },
   "file_extension": ".py",
   "mimetype": "text/x-python",
   "name": "python",
   "nbconvert_exporter": "python",
   "pygments_lexer": "ipython3",
   "version": "3.10.12"
  }
 },
 "nbformat": 4,
 "nbformat_minor": 2
}
