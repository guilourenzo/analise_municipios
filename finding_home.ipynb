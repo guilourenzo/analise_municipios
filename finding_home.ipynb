{
 "cells": [
  {
   "cell_type": "markdown",
   "metadata": {},
   "source": [
    "# TODO\n",
    "\n",
    "- [x] IDENTIFICAÇÃO DAS CIDADES LITORÂNEAS  \n",
    "- [x] LEVANTAMENTO DA QUANTIDADE DE HOSPITAIS  \n",
    "- [ ] LEVANTAMENTO DA SEGURANÇA  \n",
    "- [ ] LEVANTAMENTO DA MÉDIA DE ALUGUÉIS  \n",
    "- [ ] LEVANTAMENTO DOS PREÇOS DE ALIMENTO"
   ]
  },
  {
   "cell_type": "markdown",
   "metadata": {},
   "source": [
    "# IMPORTAÇÃO DE BIBLIOTECAS"
   ]
  },
  {
   "cell_type": "code",
   "execution_count": 2,
   "metadata": {},
   "outputs": [],
   "source": [
    "import polars as pl\n",
    "import os\n",
    "import duckdb"
   ]
  },
  {
   "cell_type": "code",
   "execution_count": 3,
   "metadata": {},
   "outputs": [],
   "source": [
    "AUXILIAR_PATH = r'finding-home/finding_home/auxiliar/'"
   ]
  },
  {
   "cell_type": "markdown",
   "metadata": {},
   "source": [
    "# IMPORTAÇÃO DE DADOS"
   ]
  },
  {
   "cell_type": "markdown",
   "metadata": {},
   "source": [
    "## CIDADES"
   ]
  },
  {
   "cell_type": "code",
   "execution_count": 4,
   "metadata": {},
   "outputs": [],
   "source": [
    "from unicodedata import normalize \n",
    "def custnorm(In_series):\n",
    "    for i, x in enumerate(In_series):\n",
    "        newvalue = normalize('NFKD',x).encode('ascii', errors='ignore').decode('utf-8')\n",
    "        if newvalue != x:\n",
    "            In_series[i]=newvalue\n",
    "    return In_series"
   ]
  },
  {
   "cell_type": "code",
   "execution_count": 5,
   "metadata": {},
   "outputs": [
    {
     "name": "stderr",
     "output_type": "stream",
     "text": [
      "/tmp/ipykernel_12575/3017128636.py:4: DeprecationWarning: `map` is deprecated. It has been renamed to `map_batches`.\n",
      "  .with_columns(pl.col('MUNICIPIO').map(custnorm).alias('MUNICIPIO'))\n"
     ]
    }
   ],
   "source": [
    "cities = pl.read_csv(os.path.join(AUXILIAR_PATH, 'CIDADES_LITORANEAS_IBGE.csv'), separator=';') \\\n",
    "           .filter(pl.col('NM_REGIAO').is_in(['Sul', 'Sudeste', 'Nordeste'])) \\\n",
    "           .with_columns(pl.col('NM_MUN').str.to_uppercase().alias('MUNICIPIO')) \\\n",
    "           .with_columns(pl.col('MUNICIPIO').map(custnorm).alias('MUNICIPIO'))"
   ]
  },
  {
   "cell_type": "markdown",
   "metadata": {},
   "source": [
    "## HOSPITAIS"
   ]
  },
  {
   "cell_type": "code",
   "execution_count": 6,
   "metadata": {},
   "outputs": [],
   "source": [
    "hospitals = pl.read_csv(os.path.join(AUXILIAR_PATH, 'hospitais.csv'), separator='|', encoding='cp1252', truncate_ragged_lines=True)"
   ]
  },
  {
   "cell_type": "code",
   "execution_count": 7,
   "metadata": {},
   "outputs": [],
   "source": [
    "hospitals_stat = duckdb.sql(\"\"\"\n",
    "                            SELECT \n",
    "                                    REGIAO\n",
    "                                ,   UF\n",
    "                                ,   MUNICIPIO\n",
    "                                ,   DESC_NATUREZA_JURIDICA\n",
    "                                ,   SUM(CASE WHEN DS_TIPO_UNIDADE == 'HOSPITAL GERAL' THEN 1 ELSE 0 END) AS HOSPITAL_GERAL\n",
    "                                ,   SUM(CASE WHEN DS_TIPO_UNIDADE == 'PRONTO SOCORRO GERAL' THEN 1 ELSE 0 END) AS PRONTO_SOCORRO_GERAL \n",
    "                                ,   SUM(CASE WHEN DS_TIPO_UNIDADE == 'UNIDADE MISTA' THEN 1 ELSE 0 END) AS UNIDADE_MISTA\n",
    "                            \n",
    "                            FROM hospitals\n",
    "                            GROUP BY REGIAO\n",
    "                                ,   UF\n",
    "                                ,   MUNICIPIO\n",
    "                                ,   DESC_NATUREZA_JURIDICA\n",
    "\n",
    "                            ORDER BY REGIAO\n",
    "                                ,   UF\n",
    "                                ,   MUNICIPIO\n",
    "                                ,   DESC_NATUREZA_JURIDICA\n",
    "                            \n",
    "                            \"\"\").to_df()"
   ]
  },
  {
   "cell_type": "code",
   "execution_count": 8,
   "metadata": {},
   "outputs": [
    {
     "data": {
      "text/html": [
       "<div>\n",
       "<style scoped>\n",
       "    .dataframe tbody tr th:only-of-type {\n",
       "        vertical-align: middle;\n",
       "    }\n",
       "\n",
       "    .dataframe tbody tr th {\n",
       "        vertical-align: top;\n",
       "    }\n",
       "\n",
       "    .dataframe thead th {\n",
       "        text-align: right;\n",
       "    }\n",
       "</style>\n",
       "<table border=\"1\" class=\"dataframe\">\n",
       "  <thead>\n",
       "    <tr style=\"text-align: right;\">\n",
       "      <th></th>\n",
       "      <th>REGIAO</th>\n",
       "      <th>UF</th>\n",
       "      <th>MUNICIPIO</th>\n",
       "      <th>DESC_NATUREZA_JURIDICA</th>\n",
       "      <th>HOSPITAL_GERAL</th>\n",
       "      <th>PRONTO_SOCORRO_GERAL</th>\n",
       "      <th>UNIDADE_MISTA</th>\n",
       "    </tr>\n",
       "  </thead>\n",
       "  <tbody>\n",
       "    <tr>\n",
       "      <th>0</th>\n",
       "      <td>CENTRO-OESTE</td>\n",
       "      <td>DF</td>\n",
       "      <td>BRASILIA</td>\n",
       "      <td>HOSPITAL_FILANTRÓPICO</td>\n",
       "      <td>4.0</td>\n",
       "      <td>0.0</td>\n",
       "      <td>0.0</td>\n",
       "    </tr>\n",
       "    <tr>\n",
       "      <th>1</th>\n",
       "      <td>CENTRO-OESTE</td>\n",
       "      <td>DF</td>\n",
       "      <td>BRASILIA</td>\n",
       "      <td>HOSPITAL_PRIVADO</td>\n",
       "      <td>26.0</td>\n",
       "      <td>0.0</td>\n",
       "      <td>0.0</td>\n",
       "    </tr>\n",
       "    <tr>\n",
       "      <th>2</th>\n",
       "      <td>CENTRO-OESTE</td>\n",
       "      <td>DF</td>\n",
       "      <td>BRASILIA</td>\n",
       "      <td>HOSPITAL_PÚBLICO</td>\n",
       "      <td>16.0</td>\n",
       "      <td>0.0</td>\n",
       "      <td>0.0</td>\n",
       "    </tr>\n",
       "    <tr>\n",
       "      <th>3</th>\n",
       "      <td>CENTRO-OESTE</td>\n",
       "      <td>GO</td>\n",
       "      <td>ABADIANIA</td>\n",
       "      <td>HOSPITAL_PÚBLICO</td>\n",
       "      <td>0.0</td>\n",
       "      <td>0.0</td>\n",
       "      <td>1.0</td>\n",
       "    </tr>\n",
       "    <tr>\n",
       "      <th>4</th>\n",
       "      <td>CENTRO-OESTE</td>\n",
       "      <td>GO</td>\n",
       "      <td>ACREUNA</td>\n",
       "      <td>HOSPITAL_PRIVADO</td>\n",
       "      <td>2.0</td>\n",
       "      <td>0.0</td>\n",
       "      <td>0.0</td>\n",
       "    </tr>\n",
       "  </tbody>\n",
       "</table>\n",
       "</div>"
      ],
      "text/plain": [
       "         REGIAO  UF  MUNICIPIO DESC_NATUREZA_JURIDICA  HOSPITAL_GERAL  \\\n",
       "0  CENTRO-OESTE  DF   BRASILIA  HOSPITAL_FILANTRÓPICO             4.0   \n",
       "1  CENTRO-OESTE  DF   BRASILIA       HOSPITAL_PRIVADO            26.0   \n",
       "2  CENTRO-OESTE  DF   BRASILIA       HOSPITAL_PÚBLICO            16.0   \n",
       "3  CENTRO-OESTE  GO  ABADIANIA       HOSPITAL_PÚBLICO             0.0   \n",
       "4  CENTRO-OESTE  GO    ACREUNA       HOSPITAL_PRIVADO             2.0   \n",
       "\n",
       "   PRONTO_SOCORRO_GERAL  UNIDADE_MISTA  \n",
       "0                   0.0            0.0  \n",
       "1                   0.0            0.0  \n",
       "2                   0.0            0.0  \n",
       "3                   0.0            1.0  \n",
       "4                   0.0            0.0  "
      ]
     },
     "execution_count": 8,
     "metadata": {},
     "output_type": "execute_result"
    }
   ],
   "source": [
    "hospitals_stat.head()"
   ]
  },
  {
   "cell_type": "markdown",
   "metadata": {},
   "source": [
    "# ALIMENTOS"
   ]
  },
  {
   "cell_type": "code",
   "execution_count": 62,
   "metadata": {},
   "outputs": [],
   "source": [
    "food = pl.read_csv(os.path.join(AUXILIAR_PATH, 'ALIMENTOS_CONAB.csv'), separator=';').melt(id_vars=['UF', 'PRODUTO'], value_vars=pl.selectors.numeric(), variable_name='MES_REF', value_name='PRECO')"
   ]
  },
  {
   "cell_type": "code",
   "execution_count": 63,
   "metadata": {},
   "outputs": [
    {
     "data": {
      "text/plain": [
       "['UF', 'PRODUTO', 'MES_REF', 'PRECO']"
      ]
     },
     "execution_count": 63,
     "metadata": {},
     "output_type": "execute_result"
    }
   ],
   "source": [
    "food.columns"
   ]
  },
  {
   "cell_type": "code",
   "execution_count": 67,
   "metadata": {},
   "outputs": [
    {
     "data": {
      "text/html": [
       "<div><style>\n",
       ".dataframe > thead > tr,\n",
       ".dataframe > tbody > tr {\n",
       "  text-align: right;\n",
       "  white-space: pre-wrap;\n",
       "}\n",
       "</style>\n",
       "<small>shape: (6_589, 4)</small><table border=\"1\" class=\"dataframe\"><thead><tr><th>UF</th><th>PRODUTO</th><th>MES_REF</th><th>PRECO</th></tr><tr><td>str</td><td>str</td><td>str</td><td>f64</td></tr></thead><tbody><tr><td>&quot;ES&quot;</td><td>&quot;AÇÚCAR CRISTAL…</td><td>&quot;01/01/2023&quot;</td><td>7.96</td></tr><tr><td>&quot;GO&quot;</td><td>&quot;AÇÚCAR CRISTAL…</td><td>&quot;01/01/2023&quot;</td><td>7.81</td></tr><tr><td>&quot;PR&quot;</td><td>&quot;AÇÚCAR CRISTAL…</td><td>&quot;01/01/2023&quot;</td><td>7.61</td></tr><tr><td>&quot;RO&quot;</td><td>&quot;AÇÚCAR CRISTAL…</td><td>&quot;01/01/2023&quot;</td><td>7.2</td></tr><tr><td>&quot;TO&quot;</td><td>&quot;AÇÚCAR CRISTAL…</td><td>&quot;01/01/2023&quot;</td><td>7.99</td></tr><tr><td>&quot;DF&quot;</td><td>&quot;AÇÚCAR CRISTAL…</td><td>&quot;01/01/2023&quot;</td><td>16.91</td></tr><tr><td>&quot;ES&quot;</td><td>&quot;AÇÚCAR CRISTAL…</td><td>&quot;01/01/2023&quot;</td><td>18.32</td></tr><tr><td>&quot;GO&quot;</td><td>&quot;AÇÚCAR CRISTAL…</td><td>&quot;01/01/2023&quot;</td><td>17.39</td></tr><tr><td>&quot;MA&quot;</td><td>&quot;AÇÚCAR CRISTAL…</td><td>&quot;01/01/2023&quot;</td><td>19.1</td></tr><tr><td>&quot;MG&quot;</td><td>&quot;AÇÚCAR CRISTAL…</td><td>&quot;01/01/2023&quot;</td><td>16.15</td></tr><tr><td>&quot;PR&quot;</td><td>&quot;AÇÚCAR CRISTAL…</td><td>&quot;01/01/2023&quot;</td><td>19.76</td></tr><tr><td>&quot;AC&quot;</td><td>&quot;AÇÚCAR CRISTAL…</td><td>&quot;01/01/2023&quot;</td><td>3.99</td></tr><tr><td>&hellip;</td><td>&hellip;</td><td>&hellip;</td><td>&hellip;</td></tr><tr><td>&quot;MG&quot;</td><td>&quot;TOMATE (kg)&quot;</td><td>&quot;01/11/2023&quot;</td><td>6.19</td></tr><tr><td>&quot;MS&quot;</td><td>&quot;TOMATE (kg)&quot;</td><td>&quot;01/11/2023&quot;</td><td>0.0</td></tr><tr><td>&quot;PA&quot;</td><td>&quot;TOMATE (kg)&quot;</td><td>&quot;01/11/2023&quot;</td><td>0.0</td></tr><tr><td>&quot;PB&quot;</td><td>&quot;TOMATE (kg)&quot;</td><td>&quot;01/11/2023&quot;</td><td>0.0</td></tr><tr><td>&quot;PI&quot;</td><td>&quot;TOMATE (kg)&quot;</td><td>&quot;01/11/2023&quot;</td><td>7.56</td></tr><tr><td>&quot;RO&quot;</td><td>&quot;TOMATE (kg)&quot;</td><td>&quot;01/11/2023&quot;</td><td>0.0</td></tr><tr><td>&quot;SE&quot;</td><td>&quot;TOMATE (kg)&quot;</td><td>&quot;01/11/2023&quot;</td><td>0.0</td></tr><tr><td>&quot;TO&quot;</td><td>&quot;TOMATE (kg)&quot;</td><td>&quot;01/11/2023&quot;</td><td>0.0</td></tr><tr><td>&quot;PR&quot;</td><td>&quot;TOMATE LONGA V…</td><td>&quot;01/11/2023&quot;</td><td>0.0</td></tr><tr><td>&quot;RS&quot;</td><td>&quot;TOMATE LONGA V…</td><td>&quot;01/11/2023&quot;</td><td>0.0</td></tr><tr><td>&quot;SC&quot;</td><td>&quot;TOMATE LONGA V…</td><td>&quot;01/11/2023&quot;</td><td>0.0</td></tr><tr><td>&quot;SP&quot;</td><td>&quot;TOMATE SALADA …</td><td>&quot;01/11/2023&quot;</td><td>0.0</td></tr></tbody></table></div>"
      ],
      "text/plain": [
       "shape: (6_589, 4)\n",
       "┌─────┬────────────────────────┬────────────┬───────┐\n",
       "│ UF  ┆ PRODUTO                ┆ MES_REF    ┆ PRECO │\n",
       "│ --- ┆ ---                    ┆ ---        ┆ ---   │\n",
       "│ str ┆ str                    ┆ str        ┆ f64   │\n",
       "╞═════╪════════════════════════╪════════════╪═══════╡\n",
       "│ ES  ┆ AÇÚCAR CRISTAL (2 kg)  ┆ 01/01/2023 ┆ 7.96  │\n",
       "│ GO  ┆ AÇÚCAR CRISTAL (2 kg)  ┆ 01/01/2023 ┆ 7.81  │\n",
       "│ PR  ┆ AÇÚCAR CRISTAL (2 kg)  ┆ 01/01/2023 ┆ 7.61  │\n",
       "│ RO  ┆ AÇÚCAR CRISTAL (2 kg)  ┆ 01/01/2023 ┆ 7.2   │\n",
       "│ …   ┆ …                      ┆ …          ┆ …     │\n",
       "│ PR  ┆ TOMATE LONGA VIDA (kg) ┆ 01/11/2023 ┆ 0.0   │\n",
       "│ RS  ┆ TOMATE LONGA VIDA (kg) ┆ 01/11/2023 ┆ 0.0   │\n",
       "│ SC  ┆ TOMATE LONGA VIDA (kg) ┆ 01/11/2023 ┆ 0.0   │\n",
       "│ SP  ┆ TOMATE SALADA (kg)     ┆ 01/11/2023 ┆ 0.0   │\n",
       "└─────┴────────────────────────┴────────────┴───────┘"
      ]
     },
     "execution_count": 67,
     "metadata": {},
     "output_type": "execute_result"
    }
   ],
   "source": [
    "food"
   ]
  },
  {
   "cell_type": "code",
   "execution_count": 84,
   "metadata": {},
   "outputs": [],
   "source": [
    "foods = duckdb.sql(\"\"\"\n",
    "   PIVOT food ON PRODUTO USING AVG(PRECO) AS PRECO GROUP BY UF\n",
    "\"\"\").to_df()"
   ]
  },
  {
   "cell_type": "code",
   "execution_count": 87,
   "metadata": {},
   "outputs": [],
   "source": [
    "foods.fillna(0, inplace=True)"
   ]
  },
  {
   "cell_type": "code",
   "execution_count": 89,
   "metadata": {},
   "outputs": [
    {
     "data": {
      "text/plain": [
       "Index(['UF', 'ARROZ BENEFICIADO VERMELHO (kg)_PRECO',\n",
       "       'ARROZ LONGO FINO BENEFICIADO TIPO 1 (2 kg)_PRECO',\n",
       "       'ARROZ LONGO FINO BENEFICIADO TIPO 1 (5 kg)_PRECO',\n",
       "       'ARROZ LONGO FINO BENEFICIADO TIPO 1 (5.00 kg)_PRECO',\n",
       "       'ARROZ LONGO FINO BENEFICIADO TIPO 1 (kg)_PRECO',\n",
       "       'ARROZ LONGO FINO BENEFICIADO TIPO 2 (kg)_PRECO',\n",
       "       'ARROZ LONGO FINO PARBOILIZADO TIPO 1 (kg)_PRECO',\n",
       "       'AÇÚCAR CRISTAL (2 kg)_PRECO', 'AÇÚCAR CRISTAL (5 kg)_PRECO',\n",
       "       'AÇÚCAR CRISTAL (5.00 kg)_PRECO', 'AÇÚCAR CRISTAL (kg)_PRECO',\n",
       "       'AÇÚCAR REFINADO (kg)_PRECO', 'BATATA INGLESA (kg)_PRECO',\n",
       "       'BATATA INGLESA LISA (kg)_PRECO', 'CAFÉ MOÍDO E TORRADO (250 g)_PRECO',\n",
       "       'CAFÉ MOÍDO E TORRADO (500 g)_PRECO', 'CARNE BOVINA ACÉM (kg)_PRECO',\n",
       "       'CARNE BOVINA CHARQUE PA CRAY-O-VAC (500 g)_PRECO',\n",
       "       'CARNE BOVINA CHARQUE PA MANTA (kg)_PRECO',\n",
       "       'CARNE BOVINA COSTELA (kg)_PRECO',\n",
       "       'CARNE BOVINA COSTELA MINDINHA (kg)_PRECO',\n",
       "       'CARNE BOVINA DIANTEIRO COM OSSO (kg)_PRECO',\n",
       "       'CARNE BOVINA PONTA DE AGULHA (kg)_PRECO',\n",
       "       'CARNE BOVINA TRASEIRO SEM OSSO (kg)_PRECO',\n",
       "       'CARNE DE FRANGO CONGELADA SEM MIÚDOS (kg)_PRECO',\n",
       "       'CARNE DE FRANGO CONGELADO (kg)_PRECO',\n",
       "       'CARNE DE FRANGO RESFRIADO (kg)_PRECO',\n",
       "       'CARNE SUÍNA CONGELADO PERNIL COM OSSO (kg)_PRECO',\n",
       "       'CARNE SUÍNA RESFRIADO PERNIL COM OSSO (kg)_PRECO', 'CEBOLA (kg)_PRECO',\n",
       "       'CEBOLA AMARELA (kg)_PRECO',\n",
       "       'CEBOLA CLASSE 3, EXTRA AMARELA (kg)_PRECO',\n",
       "       'EXTRATO DE TOMATE (310.00 g)_PRECO', 'EXTRATO DE TOMATE (340 g)_PRECO',\n",
       "       'FARINHA DE MANDIOCA CRUA FINA TIPO 1 (kg)_PRECO',\n",
       "       'FARINHA DE MANDIOCA FINA TIPO 1 D ÁGUA E MISTA (kg)_PRECO',\n",
       "       'FARINHA DE MANDIOCA FINA TIPO 1 SECA (kg)_PRECO',\n",
       "       'FARINHA DE MANDIOCA FINA TIPO 1, TORRADA (kg)_PRECO',\n",
       "       'FARINHA DE MANDIOCA FINA TIPO 3 D ÁGUA E MISTA (kg)_PRECO',\n",
       "       'FARINHA DE MANDIOCA GROSSA(O) TIPO 1 D ÁGUA (kg)_PRECO',\n",
       "       'FARINHA DE MANDIOCA MÉDIA TIPO 1 SECA (kg)_PRECO',\n",
       "       'FARINHA DE MANDIOCA MÉDIA TIPO 2 D ÁGUA (kg)_PRECO',\n",
       "       'FARINHA DE MANDIOCA TIPO 1 BRANCA (kg)_PRECO',\n",
       "       'FARINHA DE MANDIOCA TIPO 1, TORRADA (kg)_PRECO',\n",
       "       'FARINHA DE TRIGO COMUM (kg)_PRECO',\n",
       "       'FARINHA DE TRIGO COMUM TIPO 1 (kg)_PRECO',\n",
       "       'FARINHA DE TRIGO ENRIQUECIDA TIPO 1 (kg)_PRECO',\n",
       "       'FARINHA DE TRIGO ESPECIAL (kg)_PRECO',\n",
       "       'FEIJÃO CAUPI TIPO 1 (kg)_PRECO',\n",
       "       'FEIJÃO COMUM CORES TIPO 1 (kg)_PRECO',\n",
       "       'FEIJÃO COMUM CORES TIPO 2 (kg)_PRECO',\n",
       "       'FEIJÃO COMUM PRETO TIPO 1 (kg)_PRECO',\n",
       "       'FLOCOS DE MILHO ENRIQUECIDO (500 g)_PRECO',\n",
       "       'FLOCOS DE MILHO ENRIQUECIDO (kg)_PRECO',\n",
       "       'FLOCOS DE MILHO FLOCÃO (500 g)_PRECO',\n",
       "       'FLOCOS DE MILHO PRE-COZIDO (500 g)_PRECO',\n",
       "       'FUBÁ DE MILHO COMUM AMARELO (500 g)_PRECO',\n",
       "       'FUBÁ DE MILHO COMUM AMARELO (kg)_PRECO',\n",
       "       'FUBÁ DE MILHO COMUM MIMOSO (500 g)_PRECO',\n",
       "       'FUBÁ DE MILHO COMUM MIMOSO (kg)_PRECO',\n",
       "       'FÉCULA DE MANDIOCA (25 kg)_PRECO', 'LEITE DE CABRA INTEGRAL (l)_PRECO',\n",
       "       'LEITE DE CABRA TIPO C (l)_PRECO',\n",
       "       'LEITE DE VACA EM PÓ INTEGRAL (200 g)_PRECO',\n",
       "       'LEITE DE VACA EM PÓ INTEGRAL (400 g)_PRECO',\n",
       "       'LEITE DE VACA EM PÓ INTEGRAL (kg)_PRECO',\n",
       "       'LEITE DE VACA LONGA VIDA INTEGRAL (l)_PRECO',\n",
       "       'LEITE DE VACA TIPO C (l)_PRECO',\n",
       "       'LEITE DE VACA UHT INTEGRAL (l)_PRECO',\n",
       "       'MACARRÃO ESPAGUETE SÊMOLA COM OVOS (500 g)_PRECO',\n",
       "       'MACARRÃO ESPAGUETE SÊMOLA COM OVOS (kg)_PRECO',\n",
       "       'MACARRÃO ESPAGUETE SÊMOLA SEM OVOS (500 g)_PRECO',\n",
       "       'MACARRÃO ESPAGUETE SÊMOLA SEM OVOS (kg)_PRECO',\n",
       "       'MILHO EM GRÃOS (kg)_PRECO', 'OLEO DE SOJA REFINADO (900 ml)_PRECO',\n",
       "       'POLPA DE AÇAÍ GROSSA(O) (100 g)_PRECO',\n",
       "       'POLPA DE AÇAÍ GROSSA(O) (500 g)_PRECO', 'PÃO FRANCÊS (kg)_PRECO',\n",
       "       'RAIZ DE MANDIOCA DE MESA (kg)_PRECO', 'SAL (kg)_PRECO',\n",
       "       'SAL IODADO (kg)_PRECO', 'TOMATE (20 kg)_PRECO', 'TOMATE (kg)_PRECO',\n",
       "       'TOMATE LONGA VIDA (kg)_PRECO', 'TOMATE SALADA (kg)_PRECO'],\n",
       "      dtype='object')"
      ]
     },
     "execution_count": 89,
     "metadata": {},
     "output_type": "execute_result"
    }
   ],
   "source": [
    "foods.columns"
   ]
  },
  {
   "cell_type": "markdown",
   "metadata": {},
   "source": [
    "# UNIÃO CIDADES & HOSPITAIS"
   ]
  },
  {
   "cell_type": "code",
   "execution_count": 9,
   "metadata": {},
   "outputs": [],
   "source": [
    "city_hosp = duckdb.sql(\"\"\"\n",
    "           SELECT \n",
    "              CT.CD_MUN\n",
    "            , CT.NM_MUN\n",
    "            , CT.AREA_KM2\n",
    "            , CT.CD_UF\n",
    "            , CT.NM_UF\n",
    "            , HS.*\n",
    "\n",
    "           FROM hospitals_stat AS HS\n",
    "\n",
    "           JOIN cities AS CT\n",
    "           ON CT.SIGLA_UF = HS.UF\n",
    "           AND CT.MUNICIPIO = HS.MUNICIPIO\n",
    "           \"\"\").to_df()"
   ]
  },
  {
   "cell_type": "code",
   "execution_count": 11,
   "metadata": {},
   "outputs": [
    {
     "data": {
      "text/html": [
       "<div>\n",
       "<style scoped>\n",
       "    .dataframe tbody tr th:only-of-type {\n",
       "        vertical-align: middle;\n",
       "    }\n",
       "\n",
       "    .dataframe tbody tr th {\n",
       "        vertical-align: top;\n",
       "    }\n",
       "\n",
       "    .dataframe thead th {\n",
       "        text-align: right;\n",
       "    }\n",
       "</style>\n",
       "<table border=\"1\" class=\"dataframe\">\n",
       "  <thead>\n",
       "    <tr style=\"text-align: right;\">\n",
       "      <th></th>\n",
       "      <th>CD_MUN</th>\n",
       "      <th>NM_MUN</th>\n",
       "      <th>AREA_KM2</th>\n",
       "      <th>CD_UF</th>\n",
       "      <th>NM_UF</th>\n",
       "      <th>REGIAO</th>\n",
       "      <th>UF</th>\n",
       "      <th>MUNICIPIO</th>\n",
       "      <th>DESC_NATUREZA_JURIDICA</th>\n",
       "      <th>HOSPITAL_GERAL</th>\n",
       "      <th>PRONTO_SOCORRO_GERAL</th>\n",
       "      <th>UNIDADE_MISTA</th>\n",
       "    </tr>\n",
       "  </thead>\n",
       "  <tbody>\n",
       "    <tr>\n",
       "      <th>0</th>\n",
       "      <td>2702306</td>\n",
       "      <td>Coruripe</td>\n",
       "      <td>897.800</td>\n",
       "      <td>27</td>\n",
       "      <td>Alagoas</td>\n",
       "      <td>NORDESTE</td>\n",
       "      <td>AL</td>\n",
       "      <td>CORURIPE</td>\n",
       "      <td>HOSPITAL_PRIVADO</td>\n",
       "      <td>1.0</td>\n",
       "      <td>0.0</td>\n",
       "      <td>0.0</td>\n",
       "    </tr>\n",
       "    <tr>\n",
       "      <th>1</th>\n",
       "      <td>2704302</td>\n",
       "      <td>Maceió</td>\n",
       "      <td>509.320</td>\n",
       "      <td>27</td>\n",
       "      <td>Alagoas</td>\n",
       "      <td>NORDESTE</td>\n",
       "      <td>AL</td>\n",
       "      <td>MACEIO</td>\n",
       "      <td>HOSPITAL_FILANTRÓPICO</td>\n",
       "      <td>4.0</td>\n",
       "      <td>0.0</td>\n",
       "      <td>0.0</td>\n",
       "    </tr>\n",
       "    <tr>\n",
       "      <th>2</th>\n",
       "      <td>2704302</td>\n",
       "      <td>Maceió</td>\n",
       "      <td>509.320</td>\n",
       "      <td>27</td>\n",
       "      <td>Alagoas</td>\n",
       "      <td>NORDESTE</td>\n",
       "      <td>AL</td>\n",
       "      <td>MACEIO</td>\n",
       "      <td>HOSPITAL_PRIVADO</td>\n",
       "      <td>12.0</td>\n",
       "      <td>0.0</td>\n",
       "      <td>0.0</td>\n",
       "    </tr>\n",
       "    <tr>\n",
       "      <th>3</th>\n",
       "      <td>2704302</td>\n",
       "      <td>Maceió</td>\n",
       "      <td>509.320</td>\n",
       "      <td>27</td>\n",
       "      <td>Alagoas</td>\n",
       "      <td>NORDESTE</td>\n",
       "      <td>AL</td>\n",
       "      <td>MACEIO</td>\n",
       "      <td>HOSPITAL_PÚBLICO</td>\n",
       "      <td>4.0</td>\n",
       "      <td>0.0</td>\n",
       "      <td>0.0</td>\n",
       "    </tr>\n",
       "    <tr>\n",
       "      <th>4</th>\n",
       "      <td>2900801</td>\n",
       "      <td>Alcobaça</td>\n",
       "      <td>1477.929</td>\n",
       "      <td>29</td>\n",
       "      <td>Bahia</td>\n",
       "      <td>NORDESTE</td>\n",
       "      <td>BA</td>\n",
       "      <td>ALCOBACA</td>\n",
       "      <td>HOSPITAL_PÚBLICO</td>\n",
       "      <td>1.0</td>\n",
       "      <td>0.0</td>\n",
       "      <td>0.0</td>\n",
       "    </tr>\n",
       "  </tbody>\n",
       "</table>\n",
       "</div>"
      ],
      "text/plain": [
       "    CD_MUN    NM_MUN  AREA_KM2  CD_UF    NM_UF    REGIAO  UF MUNICIPIO  \\\n",
       "0  2702306  Coruripe   897.800     27  Alagoas  NORDESTE  AL  CORURIPE   \n",
       "1  2704302    Maceió   509.320     27  Alagoas  NORDESTE  AL    MACEIO   \n",
       "2  2704302    Maceió   509.320     27  Alagoas  NORDESTE  AL    MACEIO   \n",
       "3  2704302    Maceió   509.320     27  Alagoas  NORDESTE  AL    MACEIO   \n",
       "4  2900801  Alcobaça  1477.929     29    Bahia  NORDESTE  BA  ALCOBACA   \n",
       "\n",
       "  DESC_NATUREZA_JURIDICA  HOSPITAL_GERAL  PRONTO_SOCORRO_GERAL  UNIDADE_MISTA  \n",
       "0       HOSPITAL_PRIVADO             1.0                   0.0            0.0  \n",
       "1  HOSPITAL_FILANTRÓPICO             4.0                   0.0            0.0  \n",
       "2       HOSPITAL_PRIVADO            12.0                   0.0            0.0  \n",
       "3       HOSPITAL_PÚBLICO             4.0                   0.0            0.0  \n",
       "4       HOSPITAL_PÚBLICO             1.0                   0.0            0.0  "
      ]
     },
     "execution_count": 11,
     "metadata": {},
     "output_type": "execute_result"
    }
   ],
   "source": [
    "city_hosp.head()"
   ]
  },
  {
   "cell_type": "code",
   "execution_count": 13,
   "metadata": {},
   "outputs": [
    {
     "data": {
      "text/plain": [
       "┌───────────────┐\n",
       "│   MUNICIPIO   │\n",
       "│    varchar    │\n",
       "├───────────────┤\n",
       "│ BERTIOGA      │\n",
       "│ IGUAPE        │\n",
       "│ SAO VICENTE   │\n",
       "│ GUARUJA       │\n",
       "│ SANTOS        │\n",
       "│ CARAGUATATUBA │\n",
       "│ PRAIA GRANDE  │\n",
       "│ ILHABELA      │\n",
       "│ PERUIBE       │\n",
       "│ SAO SEBASTIAO │\n",
       "├───────────────┤\n",
       "│    10 rows    │\n",
       "└───────────────┘"
      ]
     },
     "execution_count": 13,
     "metadata": {},
     "output_type": "execute_result"
    }
   ],
   "source": [
    "duckdb.sql(\"\"\" SELECT DISTINCT(MUNICIPIO) FROM city_hosp where UF == 'SP' LIMIT 10\"\"\")"
   ]
  },
  {
   "cell_type": "markdown",
   "metadata": {},
   "source": [
    "# LINKS AUXILIARES"
   ]
  },
  {
   "cell_type": "markdown",
   "metadata": {},
   "source": [
    "- [API IBGE CIDADES](https://servicodados.ibge.gov.br/api/v3/agregados/6579/periodos/2021/variaveis/9324?localidades=N6[1100015])\n",
    "- [API IBGE AGREGADA](https://servicodados.ibge.gov.br/api/docs/agregados?versao=3)\n",
    "- [ALIMENTOS CONAB](https://sisdep.conab.gov.br/precosiagroweb/)\n"
   ]
  }
 ],
 "metadata": {
  "kernelspec": {
   "display_name": "finding-home-9tpckwVZ-py3.10",
   "language": "python",
   "name": "python3"
  },
  "language_info": {
   "codemirror_mode": {
    "name": "ipython",
    "version": 3
   },
   "file_extension": ".py",
   "mimetype": "text/x-python",
   "name": "python",
   "nbconvert_exporter": "python",
   "pygments_lexer": "ipython3",
   "version": "3.10.12"
  }
 },
 "nbformat": 4,
 "nbformat_minor": 2
}
