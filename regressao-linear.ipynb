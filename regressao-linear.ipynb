{
 "cells": [
  {
   "cell_type": "markdown",
   "id": "ba0a02b4",
   "metadata": {},
   "source": [
    "# Regressão linear"
   ]
  },
  {
   "cell_type": "markdown",
   "id": "2734d97c",
   "metadata": {},
   "source": [
    "## Importando as bibliotecas\n",
    "<hr style='border: 2px solid red;'>"
   ]
  },
  {
   "cell_type": "code",
   "execution_count": 1,
   "id": "b9adf60a",
   "metadata": {},
   "outputs": [
    {
     "name": "stdout",
     "output_type": "stream",
     "text": [
      "Name: pandas\n",
      "Version: 1.3.4\n",
      "Summary: Powerful data structures for data analysis, time series, and statistics\n",
      "Home-page: https://pandas.pydata.org\n",
      "Author: The Pandas Development Team\n",
      "Author-email: pandas-dev@python.org\n",
      "License: BSD-3-Clause\n",
      "Location: /home/king/anaconda3/lib/python3.9/site-packages\n",
      "Requires: python-dateutil, pytz, numpy\n",
      "Required-by: statsmodels, seaborn\n",
      "Name: numpy\n",
      "Version: 1.20.3\n",
      "Summary: NumPy is the fundamental package for array computing with Python.\n",
      "Home-page: https://www.numpy.org\n",
      "Author: Travis E. Oliphant et al.\n",
      "Author-email: \n",
      "License: BSD\n",
      "Location: /home/king/anaconda3/lib/python3.9/site-packages\n",
      "Requires: \n",
      "Required-by: tifffile, tables, statsmodels, seaborn, scipy, scikit-learn, scikit-image, PyWavelets, pyerfa, patsy, pandas, numexpr, numba, mkl-random, mkl-fft, matplotlib, imageio, imagecodecs, h5py, daal4py, Bottleneck, bokeh, bkcharts, astropy\n",
      "Name: matplotlib\n",
      "Version: 3.4.3\n",
      "Summary: Python plotting package\n",
      "Home-page: https://matplotlib.org\n",
      "Author: John D. Hunter, Michael Droettboom\n",
      "Author-email: matplotlib-users@python.org\n",
      "License: PSF\n",
      "Location: /home/king/anaconda3/lib/python3.9/site-packages\n",
      "Requires: numpy, cycler, python-dateutil, kiwisolver, pyparsing, pillow\n",
      "Required-by: seaborn, scikit-image, jupyterthemes\n",
      "Name: scikit-learn\n",
      "Version: 0.24.2\n",
      "Summary: A set of python modules for machine learning and data mining\n",
      "Home-page: http://scikit-learn.org\n",
      "Author: \n",
      "Author-email: \n",
      "License: new BSD\n",
      "Location: /home/king/anaconda3/lib/python3.9/site-packages\n",
      "Requires: joblib, numpy, threadpoolctl, scipy\n",
      "Required-by: scikit-learn-intelex\n"
     ]
    }
   ],
   "source": [
    "from sklearn.model_selection import train_test_split\n",
    "from sklearn import metrics\n",
    "import matplotlib.pyplot as plt\n",
    "import pandas as pd\n",
    "import numpy as np\n",
    "!pip show pandas\n",
    "!pip show numpy\n",
    "!pip show matplotlib\n",
    "!pip show scikit-learn"
   ]
  },
  {
   "cell_type": "code",
   "execution_count": 2,
   "id": "b8f4b4be",
   "metadata": {},
   "outputs": [
    {
     "data": {
      "text/html": [
       "<div>\n",
       "<style scoped>\n",
       "    .dataframe tbody tr th:only-of-type {\n",
       "        vertical-align: middle;\n",
       "    }\n",
       "\n",
       "    .dataframe tbody tr th {\n",
       "        vertical-align: top;\n",
       "    }\n",
       "\n",
       "    .dataframe thead th {\n",
       "        text-align: right;\n",
       "    }\n",
       "</style>\n",
       "<table border=\"1\" class=\"dataframe\">\n",
       "  <thead>\n",
       "    <tr style=\"text-align: right;\">\n",
       "      <th></th>\n",
       "      <th>valor</th>\n",
       "      <th>descricao</th>\n",
       "      <th>local</th>\n",
       "      <th>bairro/cidade</th>\n",
       "      <th>quarto-min</th>\n",
       "      <th>quarto-max</th>\n",
       "      <th>garagem-min</th>\n",
       "      <th>garagem-max</th>\n",
       "      <th>banheiro-min</th>\n",
       "      <th>banheiro-max</th>\n",
       "      <th>area(m2)-min</th>\n",
       "      <th>area(m2)-max</th>\n",
       "      <th>iptu</th>\n",
       "      <th>condominio</th>\n",
       "      <th>novidade</th>\n",
       "    </tr>\n",
       "  </thead>\n",
       "  <tbody>\n",
       "    <tr>\n",
       "      <th>0</th>\n",
       "      <td>6850000</td>\n",
       "      <td>Casa única no Alto Jardim Botânico!  Uma casa ...</td>\n",
       "      <td>Rua Peri</td>\n",
       "      <td>Jardim Botânico</td>\n",
       "      <td>4</td>\n",
       "      <td>4</td>\n",
       "      <td>2</td>\n",
       "      <td>2</td>\n",
       "      <td>8</td>\n",
       "      <td>8</td>\n",
       "      <td>508</td>\n",
       "      <td>610</td>\n",
       "      <td>0</td>\n",
       "      <td>0</td>\n",
       "      <td>Nenhuma</td>\n",
       "    </tr>\n",
       "    <tr>\n",
       "      <th>1</th>\n",
       "      <td>1999000</td>\n",
       "      <td>O Condomínio Residencial Camboata está a pouco...</td>\n",
       "      <td>Rua Geógrafo Amora</td>\n",
       "      <td>Piratininga</td>\n",
       "      <td>3</td>\n",
       "      <td>5</td>\n",
       "      <td>3</td>\n",
       "      <td>4</td>\n",
       "      <td>4</td>\n",
       "      <td>6</td>\n",
       "      <td>400</td>\n",
       "      <td>700</td>\n",
       "      <td>0</td>\n",
       "      <td>0</td>\n",
       "      <td>Nenhuma</td>\n",
       "    </tr>\n",
       "    <tr>\n",
       "      <th>2</th>\n",
       "      <td>2990000</td>\n",
       "      <td>Mansões Rio Mar. Excelentes projetos de casas ...</td>\n",
       "      <td>Avenida das Américas</td>\n",
       "      <td>Barra da Tijuca</td>\n",
       "      <td>5</td>\n",
       "      <td>5</td>\n",
       "      <td>3</td>\n",
       "      <td>3</td>\n",
       "      <td>6</td>\n",
       "      <td>6</td>\n",
       "      <td>460</td>\n",
       "      <td>540</td>\n",
       "      <td>0</td>\n",
       "      <td>0</td>\n",
       "      <td>Nenhuma</td>\n",
       "    </tr>\n",
       "    <tr>\n",
       "      <th>3</th>\n",
       "      <td>4999998</td>\n",
       "      <td>Porto dos Cabritos – Barra da Tijuca – Lindíss...</td>\n",
       "      <td>Barra da Tijuca</td>\n",
       "      <td>Rio de Janeiro</td>\n",
       "      <td>5</td>\n",
       "      <td>5</td>\n",
       "      <td>4</td>\n",
       "      <td>4</td>\n",
       "      <td>5</td>\n",
       "      <td>5</td>\n",
       "      <td>950</td>\n",
       "      <td>950</td>\n",
       "      <td>0</td>\n",
       "      <td>0</td>\n",
       "      <td>Nenhuma</td>\n",
       "    </tr>\n",
       "    <tr>\n",
       "      <th>4</th>\n",
       "      <td>5990000</td>\n",
       "      <td>Terraço com piscina   Sala em 4 ambientes   Sa...</td>\n",
       "      <td>Rua Caio Mário</td>\n",
       "      <td>Gávea</td>\n",
       "      <td>6</td>\n",
       "      <td>6</td>\n",
       "      <td>7</td>\n",
       "      <td>7</td>\n",
       "      <td>10</td>\n",
       "      <td>10</td>\n",
       "      <td>733</td>\n",
       "      <td>733</td>\n",
       "      <td>1</td>\n",
       "      <td>1</td>\n",
       "      <td>Nenhuma</td>\n",
       "    </tr>\n",
       "  </tbody>\n",
       "</table>\n",
       "</div>"
      ],
      "text/plain": [
       "     valor                                          descricao  \\\n",
       "0  6850000  Casa única no Alto Jardim Botânico!  Uma casa ...   \n",
       "1  1999000  O Condomínio Residencial Camboata está a pouco...   \n",
       "2  2990000  Mansões Rio Mar. Excelentes projetos de casas ...   \n",
       "3  4999998  Porto dos Cabritos – Barra da Tijuca – Lindíss...   \n",
       "4  5990000  Terraço com piscina   Sala em 4 ambientes   Sa...   \n",
       "\n",
       "                  local     bairro/cidade  quarto-min  quarto-max  \\\n",
       "0              Rua Peri   Jardim Botânico           4           4   \n",
       "1    Rua Geógrafo Amora       Piratininga           3           5   \n",
       "2  Avenida das Américas   Barra da Tijuca           5           5   \n",
       "3       Barra da Tijuca    Rio de Janeiro           5           5   \n",
       "4        Rua Caio Mário             Gávea           6           6   \n",
       "\n",
       "   garagem-min  garagem-max  banheiro-min  banheiro-max  area(m2)-min  \\\n",
       "0            2            2             8             8           508   \n",
       "1            3            4             4             6           400   \n",
       "2            3            3             6             6           460   \n",
       "3            4            4             5             5           950   \n",
       "4            7            7            10            10           733   \n",
       "\n",
       "   area(m2)-max  iptu  condominio novidade  \n",
       "0           610     0           0  Nenhuma  \n",
       "1           700     0           0  Nenhuma  \n",
       "2           540     0           0  Nenhuma  \n",
       "3           950     0           0  Nenhuma  \n",
       "4           733     1           1  Nenhuma  "
      ]
     },
     "execution_count": 2,
     "metadata": {},
     "output_type": "execute_result"
    }
   ],
   "source": [
    "dados = pd.read_csv('dados/dataset-casas-rj.csv', sep=';')\n",
    "dados.head()"
   ]
  },
  {
   "cell_type": "code",
   "execution_count": 3,
   "id": "f0409e25",
   "metadata": {},
   "outputs": [],
   "source": [
    "from sklearn.linear_model import LinearRegression\n",
    "\n",
    "modelo = LinearRegression()"
   ]
  },
  {
   "cell_type": "code",
   "execution_count": 4,
   "id": "e6fb3dd7",
   "metadata": {},
   "outputs": [],
   "source": [
    "x = dados[['garagem-min','garagem-max','banheiro-min','banheiro-max','quarto-min','quarto-max','area(m2)-max','area(m2)-min','iptu','condominio']]\n",
    "y = dados['valor']"
   ]
  },
  {
   "cell_type": "code",
   "execution_count": 5,
   "id": "f0cddc52",
   "metadata": {},
   "outputs": [],
   "source": [
    "x_train, x_test, y_train, y_test = train_test_split(x, y,test_size=0.30, random_state=101)"
   ]
  },
  {
   "cell_type": "code",
   "execution_count": 6,
   "id": "dde73f59",
   "metadata": {},
   "outputs": [
    {
     "data": {
      "text/plain": [
       "LinearRegression()"
      ]
     },
     "execution_count": 6,
     "metadata": {},
     "output_type": "execute_result"
    }
   ],
   "source": [
    "modelo.fit(x_train,y_train)"
   ]
  },
  {
   "cell_type": "code",
   "execution_count": 7,
   "id": "8ad76a56",
   "metadata": {},
   "outputs": [
    {
     "name": "stdout",
     "output_type": "stream",
     "text": [
      "R² = 0.43\n"
     ]
    }
   ],
   "source": [
    "print('R² = {}'.format(modelo.score(x_train,y_train).round(2)))"
   ]
  },
  {
   "cell_type": "markdown",
   "id": "0c0bb87a",
   "metadata": {},
   "source": [
    "<strong>O modelo apresenta uma acerto de previsão de 43% em relação aos preços de imóveis considerando todas as variáveis presentes nesse dataset.</strong>"
   ]
  },
  {
   "cell_type": "code",
   "execution_count": 8,
   "id": "5dff5602",
   "metadata": {},
   "outputs": [],
   "source": [
    "previsto = modelo.predict(x_test)"
   ]
  },
  {
   "cell_type": "code",
   "execution_count": 9,
   "id": "6d2ea98b",
   "metadata": {},
   "outputs": [
    {
     "name": "stdout",
     "output_type": "stream",
     "text": [
      "R² = 0.35\n"
     ]
    }
   ],
   "source": [
    "print('R² = %s' % metrics.r2_score(y_test,previsto).round(2))"
   ]
  },
  {
   "cell_type": "code",
   "execution_count": 10,
   "id": "da1d17d5",
   "metadata": {},
   "outputs": [
    {
     "data": {
      "text/html": [
       "<div>\n",
       "<style scoped>\n",
       "    .dataframe tbody tr th:only-of-type {\n",
       "        vertical-align: middle;\n",
       "    }\n",
       "\n",
       "    .dataframe tbody tr th {\n",
       "        vertical-align: top;\n",
       "    }\n",
       "\n",
       "    .dataframe thead th {\n",
       "        text-align: right;\n",
       "    }\n",
       "</style>\n",
       "<table border=\"1\" class=\"dataframe\">\n",
       "  <thead>\n",
       "    <tr style=\"text-align: right;\">\n",
       "      <th></th>\n",
       "      <th>valor</th>\n",
       "      <th>descricao</th>\n",
       "      <th>local</th>\n",
       "      <th>bairro/cidade</th>\n",
       "      <th>quarto-min</th>\n",
       "      <th>quarto-max</th>\n",
       "      <th>garagem-min</th>\n",
       "      <th>garagem-max</th>\n",
       "      <th>banheiro-min</th>\n",
       "      <th>banheiro-max</th>\n",
       "      <th>area(m2)-min</th>\n",
       "      <th>area(m2)-max</th>\n",
       "      <th>iptu</th>\n",
       "      <th>condominio</th>\n",
       "      <th>novidade</th>\n",
       "    </tr>\n",
       "  </thead>\n",
       "  <tbody>\n",
       "    <tr>\n",
       "      <th>0</th>\n",
       "      <td>6850000</td>\n",
       "      <td>Casa única no Alto Jardim Botânico!  Uma casa ...</td>\n",
       "      <td>Rua Peri</td>\n",
       "      <td>Jardim Botânico</td>\n",
       "      <td>4</td>\n",
       "      <td>4</td>\n",
       "      <td>2</td>\n",
       "      <td>2</td>\n",
       "      <td>8</td>\n",
       "      <td>8</td>\n",
       "      <td>508</td>\n",
       "      <td>610</td>\n",
       "      <td>0</td>\n",
       "      <td>0</td>\n",
       "      <td>Nenhuma</td>\n",
       "    </tr>\n",
       "  </tbody>\n",
       "</table>\n",
       "</div>"
      ],
      "text/plain": [
       "     valor                                          descricao     local  \\\n",
       "0  6850000  Casa única no Alto Jardim Botânico!  Uma casa ...  Rua Peri   \n",
       "\n",
       "      bairro/cidade  quarto-min  quarto-max  garagem-min  garagem-max  \\\n",
       "0   Jardim Botânico           4           4            2            2   \n",
       "\n",
       "   banheiro-min  banheiro-max  area(m2)-min  area(m2)-max  iptu  condominio  \\\n",
       "0             8             8           508           610     0           0   \n",
       "\n",
       "  novidade  \n",
       "0  Nenhuma  "
      ]
     },
     "execution_count": 10,
     "metadata": {},
     "output_type": "execute_result"
    }
   ],
   "source": [
    "dados[:1]"
   ]
  },
  {
   "cell_type": "code",
   "execution_count": 11,
   "id": "f0d663c3",
   "metadata": {},
   "outputs": [
    {
     "name": "stdout",
     "output_type": "stream",
     "text": [
      "O valor do imóvel é 3557331.86\n"
     ]
    }
   ],
   "source": [
    "quarto_min = 4  \n",
    "quarto_max = 4\n",
    "garagem_min = 2\n",
    "garagem_max = 2\n",
    "banheiro_min = 8\n",
    "banheiro_max = 8 \n",
    "area_min = 508\n",
    "area_max = 610\n",
    "iptu = 0\n",
    "condominio = 0\n",
    "entrada = [[garagem_min, garagem_max, banheiro_min, banheiro_max, quarto_min, quarto_max, area_max, area_min,iptu,condominio]]\n",
    "print('O valor do imóvel é {0:.02f}'.format(modelo.predict(entrada)[0]))"
   ]
  }
 ],
 "metadata": {
  "_draft": {
   "nbviewer_url": "https://gist.github.com/50d7562e917a60278c8569b698ff2b2b"
  },
  "gist": {
   "data": {
    "description": "adicionando regressao",
    "public": true
   },
   "id": "50d7562e917a60278c8569b698ff2b2b"
  },
  "kernelspec": {
   "display_name": "Python 3 (ipykernel)",
   "language": "python",
   "name": "python3"
  },
  "language_info": {
   "codemirror_mode": {
    "name": "ipython",
    "version": 3
   },
   "file_extension": ".py",
   "mimetype": "text/x-python",
   "name": "python",
   "nbconvert_exporter": "python",
   "pygments_lexer": "ipython3",
   "version": "3.9.7"
  },
  "varInspector": {
   "cols": {
    "lenName": 16,
    "lenType": 16,
    "lenVar": 40
   },
   "kernels_config": {
    "python": {
     "delete_cmd_postfix": "",
     "delete_cmd_prefix": "del ",
     "library": "var_list.py",
     "varRefreshCmd": "print(var_dic_list())"
    },
    "r": {
     "delete_cmd_postfix": ") ",
     "delete_cmd_prefix": "rm(",
     "library": "var_list.r",
     "varRefreshCmd": "cat(var_dic_list()) "
    }
   },
   "types_to_exclude": [
    "module",
    "function",
    "builtin_function_or_method",
    "instance",
    "_Feature"
   ],
   "window_display": false
  }
 },
 "nbformat": 4,
 "nbformat_minor": 5
}
