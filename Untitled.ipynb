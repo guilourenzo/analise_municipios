{
 "cells": [
  {
   "cell_type": "code",
   "execution_count": 1,
   "id": "7e743844",
   "metadata": {},
   "outputs": [],
   "source": [
    "import pandas as pd\n",
    "import numpy as np\n",
    "import seaborn as sns"
   ]
  },
  {
   "cell_type": "code",
   "execution_count": 2,
   "id": "a21ef482",
   "metadata": {},
   "outputs": [
    {
     "data": {
      "text/html": [
       "<div>\n",
       "<style scoped>\n",
       "    .dataframe tbody tr th:only-of-type {\n",
       "        vertical-align: middle;\n",
       "    }\n",
       "\n",
       "    .dataframe tbody tr th {\n",
       "        vertical-align: top;\n",
       "    }\n",
       "\n",
       "    .dataframe thead th {\n",
       "        text-align: right;\n",
       "    }\n",
       "</style>\n",
       "<table border=\"1\" class=\"dataframe\">\n",
       "  <thead>\n",
       "    <tr style=\"text-align: right;\">\n",
       "      <th></th>\n",
       "      <th>valor</th>\n",
       "      <th>descricao</th>\n",
       "      <th>local</th>\n",
       "      <th>bairro/cidade</th>\n",
       "      <th>quartos</th>\n",
       "      <th>garagem</th>\n",
       "      <th>banheiro</th>\n",
       "      <th>area(m2)</th>\n",
       "      <th>iptu</th>\n",
       "      <th>condominio</th>\n",
       "      <th>novidade</th>\n",
       "    </tr>\n",
       "  </thead>\n",
       "  <tbody>\n",
       "    <tr>\n",
       "      <th>0</th>\n",
       "      <td>1350000</td>\n",
       "      <td>Água de mina (dentro da propriedade)  Mata nat...</td>\n",
       "      <td>Centro</td>\n",
       "      <td>São Bento do Sapucaí</td>\n",
       "      <td>2</td>\n",
       "      <td>4</td>\n",
       "      <td>3</td>\n",
       "      <td>200</td>\n",
       "      <td>0</td>\n",
       "      <td>0</td>\n",
       "      <td>Super destaque</td>\n",
       "    </tr>\n",
       "    <tr>\n",
       "      <th>1</th>\n",
       "      <td>229900</td>\n",
       "      <td>A casa no bairro Conjunto Residencial Galo Bra...</td>\n",
       "      <td>Rua Hamilton de Freitas</td>\n",
       "      <td>Conjunto Residencial Galo Branco</td>\n",
       "      <td>2</td>\n",
       "      <td>2</td>\n",
       "      <td>1</td>\n",
       "      <td>60</td>\n",
       "      <td>55</td>\n",
       "      <td>0</td>\n",
       "      <td>Super destaque</td>\n",
       "    </tr>\n",
       "    <tr>\n",
       "      <th>2</th>\n",
       "      <td>1000000</td>\n",
       "      <td>Casa Sitio 05 quartos, 02 suíte 300 m² de área...</td>\n",
       "      <td>Estrada Cachoeira Tapuio</td>\n",
       "      <td>Centro</td>\n",
       "      <td>5</td>\n",
       "      <td>5</td>\n",
       "      <td>3</td>\n",
       "      <td>300</td>\n",
       "      <td>0</td>\n",
       "      <td>0</td>\n",
       "      <td>Super destaque</td>\n",
       "    </tr>\n",
       "    <tr>\n",
       "      <th>3</th>\n",
       "      <td>350000</td>\n",
       "      <td>Casa à Venda, 100m² por R$ 350,000. Turístico ...</td>\n",
       "      <td>Parque Turistico</td>\n",
       "      <td>Peruíbe</td>\n",
       "      <td>3</td>\n",
       "      <td>3</td>\n",
       "      <td>2</td>\n",
       "      <td>100</td>\n",
       "      <td>0</td>\n",
       "      <td>0</td>\n",
       "      <td>Nenhuma</td>\n",
       "    </tr>\n",
       "    <tr>\n",
       "      <th>4</th>\n",
       "      <td>270000</td>\n",
       "      <td>Casa à Venda, 125m² por R$ 270,000. Parque Ban...</td>\n",
       "      <td>Rua João Bento de Almeida</td>\n",
       "      <td>Parque Bandeirantes I</td>\n",
       "      <td>3</td>\n",
       "      <td>4</td>\n",
       "      <td>1</td>\n",
       "      <td>125</td>\n",
       "      <td>0</td>\n",
       "      <td>0</td>\n",
       "      <td>Nenhuma</td>\n",
       "    </tr>\n",
       "  </tbody>\n",
       "</table>\n",
       "</div>"
      ],
      "text/plain": [
       "     valor                                          descricao  \\\n",
       "0  1350000  Água de mina (dentro da propriedade)  Mata nat...   \n",
       "1   229900  A casa no bairro Conjunto Residencial Galo Bra...   \n",
       "2  1000000  Casa Sitio 05 quartos, 02 suíte 300 m² de área...   \n",
       "3   350000  Casa à Venda, 100m² por R$ 350,000. Turístico ...   \n",
       "4   270000  Casa à Venda, 125m² por R$ 270,000. Parque Ban...   \n",
       "\n",
       "                       local                      bairro/cidade  quartos  \\\n",
       "0                     Centro               São Bento do Sapucaí        2   \n",
       "1    Rua Hamilton de Freitas   Conjunto Residencial Galo Branco        2   \n",
       "2   Estrada Cachoeira Tapuio                             Centro        5   \n",
       "3           Parque Turistico                            Peruíbe        3   \n",
       "4  Rua João Bento de Almeida              Parque Bandeirantes I        3   \n",
       "\n",
       "   garagem  banheiro  area(m2)  iptu  condominio        novidade  \n",
       "0        4         3       200     0           0  Super destaque  \n",
       "1        2         1        60    55           0  Super destaque  \n",
       "2        5         3       300     0           0  Super destaque  \n",
       "3        3         2       100     0           0         Nenhuma  \n",
       "4        4         1       125     0           0         Nenhuma  "
      ]
     },
     "execution_count": 2,
     "metadata": {},
     "output_type": "execute_result"
    }
   ],
   "source": [
    "dados = pd.read_csv('dados/dataset-casas-geral.csv', sep=';')\n",
    "dados.head()"
   ]
  },
  {
   "cell_type": "code",
   "execution_count": 3,
   "id": "ca304706",
   "metadata": {},
   "outputs": [
    {
     "name": "stdout",
     "output_type": "stream",
     "text": [
      "<class 'pandas.core.frame.DataFrame'>\n",
      "RangeIndex: 9600 entries, 0 to 9599\n",
      "Data columns (total 11 columns):\n",
      " #   Column         Non-Null Count  Dtype \n",
      "---  ------         --------------  ----- \n",
      " 0   valor          9600 non-null   int64 \n",
      " 1   descricao      9600 non-null   object\n",
      " 2   local          9547 non-null   object\n",
      " 3   bairro/cidade  9600 non-null   object\n",
      " 4   quartos        9600 non-null   int64 \n",
      " 5   garagem        9600 non-null   int64 \n",
      " 6   banheiro       9600 non-null   int64 \n",
      " 7   area(m2)       9600 non-null   int64 \n",
      " 8   iptu           9600 non-null   int64 \n",
      " 9   condominio     9600 non-null   int64 \n",
      " 10  novidade       9600 non-null   object\n",
      "dtypes: int64(7), object(4)\n",
      "memory usage: 825.1+ KB\n"
     ]
    }
   ],
   "source": [
    "dados.info()"
   ]
  },
  {
   "cell_type": "code",
   "execution_count": 4,
   "id": "41a4648d",
   "metadata": {},
   "outputs": [
    {
     "data": {
      "text/html": [
       "<div>\n",
       "<style scoped>\n",
       "    .dataframe tbody tr th:only-of-type {\n",
       "        vertical-align: middle;\n",
       "    }\n",
       "\n",
       "    .dataframe tbody tr th {\n",
       "        vertical-align: top;\n",
       "    }\n",
       "\n",
       "    .dataframe thead th {\n",
       "        text-align: right;\n",
       "    }\n",
       "</style>\n",
       "<table border=\"1\" class=\"dataframe\">\n",
       "  <thead>\n",
       "    <tr style=\"text-align: right;\">\n",
       "      <th></th>\n",
       "      <th>valor</th>\n",
       "      <th>quartos</th>\n",
       "      <th>garagem</th>\n",
       "      <th>banheiro</th>\n",
       "      <th>area(m2)</th>\n",
       "      <th>iptu</th>\n",
       "      <th>condominio</th>\n",
       "    </tr>\n",
       "  </thead>\n",
       "  <tbody>\n",
       "    <tr>\n",
       "      <th>count</th>\n",
       "      <td>9600.00</td>\n",
       "      <td>9600.00</td>\n",
       "      <td>9600.00</td>\n",
       "      <td>9600.00</td>\n",
       "      <td>9600.00</td>\n",
       "      <td>9600.00</td>\n",
       "      <td>9600.00</td>\n",
       "    </tr>\n",
       "    <tr>\n",
       "      <th>mean</th>\n",
       "      <td>812701.49</td>\n",
       "      <td>2.93</td>\n",
       "      <td>2.67</td>\n",
       "      <td>2.57</td>\n",
       "      <td>236.85</td>\n",
       "      <td>955.89</td>\n",
       "      <td>80.01</td>\n",
       "    </tr>\n",
       "    <tr>\n",
       "      <th>std</th>\n",
       "      <td>1619339.88</td>\n",
       "      <td>0.88</td>\n",
       "      <td>1.83</td>\n",
       "      <td>1.46</td>\n",
       "      <td>2685.72</td>\n",
       "      <td>36677.52</td>\n",
       "      <td>3165.04</td>\n",
       "    </tr>\n",
       "    <tr>\n",
       "      <th>min</th>\n",
       "      <td>0.00</td>\n",
       "      <td>1.00</td>\n",
       "      <td>0.00</td>\n",
       "      <td>1.00</td>\n",
       "      <td>10.00</td>\n",
       "      <td>0.00</td>\n",
       "      <td>0.00</td>\n",
       "    </tr>\n",
       "    <tr>\n",
       "      <th>25%</th>\n",
       "      <td>352000.00</td>\n",
       "      <td>2.00</td>\n",
       "      <td>2.00</td>\n",
       "      <td>2.00</td>\n",
       "      <td>105.00</td>\n",
       "      <td>0.00</td>\n",
       "      <td>0.00</td>\n",
       "    </tr>\n",
       "    <tr>\n",
       "      <th>50%</th>\n",
       "      <td>540000.00</td>\n",
       "      <td>3.00</td>\n",
       "      <td>2.00</td>\n",
       "      <td>2.00</td>\n",
       "      <td>153.00</td>\n",
       "      <td>0.00</td>\n",
       "      <td>0.00</td>\n",
       "    </tr>\n",
       "    <tr>\n",
       "      <th>75%</th>\n",
       "      <td>790000.00</td>\n",
       "      <td>3.00</td>\n",
       "      <td>4.00</td>\n",
       "      <td>3.00</td>\n",
       "      <td>232.00</td>\n",
       "      <td>254.00</td>\n",
       "      <td>0.00</td>\n",
       "    </tr>\n",
       "    <tr>\n",
       "      <th>max</th>\n",
       "      <td>66000000.00</td>\n",
       "      <td>16.00</td>\n",
       "      <td>27.00</td>\n",
       "      <td>15.00</td>\n",
       "      <td>200000.00</td>\n",
       "      <td>3404300.00</td>\n",
       "      <td>219000.00</td>\n",
       "    </tr>\n",
       "  </tbody>\n",
       "</table>\n",
       "</div>"
      ],
      "text/plain": [
       "             valor  quartos  garagem  banheiro   area(m2)        iptu  \\\n",
       "count      9600.00  9600.00  9600.00   9600.00    9600.00     9600.00   \n",
       "mean     812701.49     2.93     2.67      2.57     236.85      955.89   \n",
       "std     1619339.88     0.88     1.83      1.46    2685.72    36677.52   \n",
       "min           0.00     1.00     0.00      1.00      10.00        0.00   \n",
       "25%      352000.00     2.00     2.00      2.00     105.00        0.00   \n",
       "50%      540000.00     3.00     2.00      2.00     153.00        0.00   \n",
       "75%      790000.00     3.00     4.00      3.00     232.00      254.00   \n",
       "max    66000000.00    16.00    27.00     15.00  200000.00  3404300.00   \n",
       "\n",
       "       condominio  \n",
       "count     9600.00  \n",
       "mean        80.01  \n",
       "std       3165.04  \n",
       "min          0.00  \n",
       "25%          0.00  \n",
       "50%          0.00  \n",
       "75%          0.00  \n",
       "max     219000.00  "
      ]
     },
     "execution_count": 4,
     "metadata": {},
     "output_type": "execute_result"
    }
   ],
   "source": [
    "dados.describe().round(2)"
   ]
  },
  {
   "cell_type": "code",
   "execution_count": 5,
   "id": "b394004a",
   "metadata": {},
   "outputs": [
    {
     "data": {
      "text/plain": [
       "<AxesSubplot:xlabel='quartos'>"
      ]
     },
     "execution_count": 5,
     "metadata": {},
     "output_type": "execute_result"
    },
    {
     "data": {
      "image/png": "[encoded data removed]",
      "text/plain": [
       "<Figure size 432x288 with 1 Axes>"
      ]
     },
     "metadata": {
      "needs_background": "light"
     },
     "output_type": "display_data"
    }
   ],
   "source": [
    "sns.boxplot(x=dados.quartos)"
   ]
  },
  {
   "cell_type": "code",
   "execution_count": 6,
   "id": "309798ce",
   "metadata": {},
   "outputs": [
    {
     "data": {
      "text/plain": [
       "<AxesSubplot:title={'left':'Distribuição de valor por quartos'}, xlabel='quartos', ylabel='valor'>"
      ]
     },
     "execution_count": 6,
     "metadata": {},
     "output_type": "execute_result"
    },
    {
     "data": {
      "image/png": "[encoded data removed]",
      "text/plain": [
       "<Figure size 432x288 with 1 Axes>"
      ]
     },
     "metadata": {
      "needs_background": "light"
     },
     "output_type": "display_data"
    }
   ],
   "source": [
    "ax = sns.barplot(x=dados['quartos'],y=dados.valor)\n",
    "ax.set_title('Distribuição de valor por quartos', fontsize=18,loc='left')\n",
    "ax"
   ]
  },
  {
   "cell_type": "code",
   "execution_count": 7,
   "id": "a5a74586",
   "metadata": {},
   "outputs": [
    {
     "data": {
      "text/plain": [
       "<AxesSubplot:title={'left':'Distribuição de valor por quartos'}, xlabel='quartos', ylabel='valor'>"
      ]
     },
     "execution_count": 7,
     "metadata": {},
     "output_type": "execute_result"
    },
    {
     "data": {
      "image/png": "[encoded data removed]",
      "text/plain": [
       "<Figure size 432x288 with 1 Axes>"
      ]
     },
     "metadata": {
      "needs_background": "light"
     },
     "output_type": "display_data"
    }
   ],
   "source": [
    "ax = sns.lineplot(x=dados['quartos'],y=dados.valor)\n",
    "ax.set_title('Distribuição de valor por quartos', fontsize=18,loc='left')\n",
    "ax"
   ]
  },
  {
   "cell_type": "code",
   "execution_count": 8,
   "id": "5fc90ed3",
   "metadata": {},
   "outputs": [
    {
     "data": {
      "text/plain": [
       "quartos\n",
       "1     4.642954e+05\n",
       "2     3.810251e+05\n",
       "3     7.177708e+05\n",
       "4     1.601108e+06\n",
       "5     2.326365e+06\n",
       "6     2.521765e+06\n",
       "7     2.832778e+06\n",
       "8     1.942727e+06\n",
       "9     2.495000e+06\n",
       "10    2.388333e+07\n",
       "11    7.500000e+05\n",
       "16    4.200000e+06\n",
       "Name: valor, dtype: float64"
      ]
     },
     "execution_count": 8,
     "metadata": {},
     "output_type": "execute_result"
    }
   ],
   "source": [
    "dados.groupby('quartos')['valor'].mean()"
   ]
  },
  {
   "cell_type": "code",
   "execution_count": 9,
   "id": "effabaf7",
   "metadata": {},
   "outputs": [
    {
     "data": {
      "text/plain": [
       "garagem\n",
       "0     7.975660e+05\n",
       "1     3.828457e+05\n",
       "2     5.842281e+05\n",
       "3     7.909904e+05\n",
       "4     1.221342e+06\n",
       "5     9.425384e+05\n",
       "6     2.127427e+06\n",
       "7     1.929939e+06\n",
       "8     2.749168e+06\n",
       "9     2.002769e+06\n",
       "10    2.624789e+06\n",
       "11    8.580000e+05\n",
       "12    2.680000e+06\n",
       "13    1.581250e+06\n",
       "14    4.350000e+05\n",
       "15    8.299600e+05\n",
       "16    7.000000e+05\n",
       "18    1.700000e+07\n",
       "20    2.361667e+07\n",
       "22    1.790000e+06\n",
       "25    1.400000e+05\n",
       "27    8.000000e+05\n",
       "Name: valor, dtype: float64"
      ]
     },
     "execution_count": 9,
     "metadata": {},
     "output_type": "execute_result"
    }
   ],
   "source": [
    "dados.groupby('garagem')['valor'].mean()"
   ]
  },
  {
   "cell_type": "code",
   "execution_count": 10,
   "id": "363aa1ea",
   "metadata": {},
   "outputs": [
    {
     "data": {
      "text/plain": [
       "<AxesSubplot:xlabel='quartos'>"
      ]
     },
     "execution_count": 10,
     "metadata": {},
     "output_type": "execute_result"
    },
    {
     "data": {
      "image/png": "[encoded data removed]",
      "text/plain": [
       "<Figure size 432x288 with 1 Axes>"
      ]
     },
     "metadata": {
      "needs_background": "light"
     },
     "output_type": "display_data"
    }
   ],
   "source": [
    "sns.boxplot(x='quartos',data=dados)"
   ]
  },
  {
   "cell_type": "code",
   "execution_count": 11,
   "id": "f2657e7e",
   "metadata": {},
   "outputs": [
    {
     "data": {
      "text/plain": [
       "<AxesSubplot:xlabel='banheiro'>"
      ]
     },
     "execution_count": 11,
     "metadata": {},
     "output_type": "execute_result"
    },
    {
     "data": {
      "image/png": "[encoded data removed]",
      "text/plain": [
       "<Figure size 432x288 with 1 Axes>"
      ]
     },
     "metadata": {
      "needs_background": "light"
     },
     "output_type": "display_data"
    }
   ],
   "source": [
    "sns.boxplot(x='banheiro',data=dados)"
   ]
  },
  {
   "cell_type": "code",
   "execution_count": 12,
   "id": "4ed9bced",
   "metadata": {},
   "outputs": [
    {
     "data": {
      "text/plain": [
       "<AxesSubplot:xlabel='garagem'>"
      ]
     },
     "execution_count": 12,
     "metadata": {},
     "output_type": "execute_result"
    },
    {
     "data": {
      "image/png": "[encoded data removed]",
      "text/plain": [
       "<Figure size 432x288 with 1 Axes>"
      ]
     },
     "metadata": {
      "needs_background": "light"
     },
     "output_type": "display_data"
    }
   ],
   "source": [
    "sns.boxplot(x='garagem',data=dados)"
   ]
  },
  {
   "cell_type": "code",
   "execution_count": 13,
   "id": "e21bc975",
   "metadata": {},
   "outputs": [
    {
     "data": {
      "text/plain": [
       "5.0"
      ]
     },
     "execution_count": 13,
     "metadata": {},
     "output_type": "execute_result"
    }
   ],
   "source": [
    "dados['garagem'].quantile(q=0.90)"
   ]
  },
  {
   "cell_type": "code",
   "execution_count": 14,
   "id": "cc22674f",
   "metadata": {},
   "outputs": [
    {
     "data": {
      "text/html": [
       "<div>\n",
       "<style scoped>\n",
       "    .dataframe tbody tr th:only-of-type {\n",
       "        vertical-align: middle;\n",
       "    }\n",
       "\n",
       "    .dataframe tbody tr th {\n",
       "        vertical-align: top;\n",
       "    }\n",
       "\n",
       "    .dataframe thead th {\n",
       "        text-align: right;\n",
       "    }\n",
       "</style>\n",
       "<table border=\"1\" class=\"dataframe\">\n",
       "  <thead>\n",
       "    <tr style=\"text-align: right;\">\n",
       "      <th></th>\n",
       "      <th>valor</th>\n",
       "      <th>quartos</th>\n",
       "      <th>garagem</th>\n",
       "      <th>banheiro</th>\n",
       "      <th>area(m2)</th>\n",
       "      <th>iptu</th>\n",
       "      <th>condominio</th>\n",
       "    </tr>\n",
       "  </thead>\n",
       "  <tbody>\n",
       "    <tr>\n",
       "      <th>valor</th>\n",
       "      <td>1.000000</td>\n",
       "      <td>0.317024</td>\n",
       "      <td>0.275522</td>\n",
       "      <td>0.401945</td>\n",
       "      <td>0.026417</td>\n",
       "      <td>0.015005</td>\n",
       "      <td>0.004995</td>\n",
       "    </tr>\n",
       "    <tr>\n",
       "      <th>quartos</th>\n",
       "      <td>0.317024</td>\n",
       "      <td>1.000000</td>\n",
       "      <td>0.297998</td>\n",
       "      <td>0.541418</td>\n",
       "      <td>0.003878</td>\n",
       "      <td>0.020941</td>\n",
       "      <td>-0.008801</td>\n",
       "    </tr>\n",
       "    <tr>\n",
       "      <th>garagem</th>\n",
       "      <td>0.275522</td>\n",
       "      <td>0.297998</td>\n",
       "      <td>1.000000</td>\n",
       "      <td>0.349685</td>\n",
       "      <td>0.011411</td>\n",
       "      <td>0.025134</td>\n",
       "      <td>-0.009919</td>\n",
       "    </tr>\n",
       "    <tr>\n",
       "      <th>banheiro</th>\n",
       "      <td>0.401945</td>\n",
       "      <td>0.541418</td>\n",
       "      <td>0.349685</td>\n",
       "      <td>1.000000</td>\n",
       "      <td>0.011267</td>\n",
       "      <td>0.034356</td>\n",
       "      <td>-0.005614</td>\n",
       "    </tr>\n",
       "    <tr>\n",
       "      <th>area(m2)</th>\n",
       "      <td>0.026417</td>\n",
       "      <td>0.003878</td>\n",
       "      <td>0.011411</td>\n",
       "      <td>0.011267</td>\n",
       "      <td>1.000000</td>\n",
       "      <td>0.001488</td>\n",
       "      <td>-0.000609</td>\n",
       "    </tr>\n",
       "    <tr>\n",
       "      <th>iptu</th>\n",
       "      <td>0.015005</td>\n",
       "      <td>0.020941</td>\n",
       "      <td>0.025134</td>\n",
       "      <td>0.034356</td>\n",
       "      <td>0.001488</td>\n",
       "      <td>1.000000</td>\n",
       "      <td>-0.000286</td>\n",
       "    </tr>\n",
       "    <tr>\n",
       "      <th>condominio</th>\n",
       "      <td>0.004995</td>\n",
       "      <td>-0.008801</td>\n",
       "      <td>-0.009919</td>\n",
       "      <td>-0.005614</td>\n",
       "      <td>-0.000609</td>\n",
       "      <td>-0.000286</td>\n",
       "      <td>1.000000</td>\n",
       "    </tr>\n",
       "  </tbody>\n",
       "</table>\n",
       "</div>"
      ],
      "text/plain": [
       "               valor   quartos   garagem  banheiro  area(m2)      iptu  \\\n",
       "valor       1.000000  0.317024  0.275522  0.401945  0.026417  0.015005   \n",
       "quartos     0.317024  1.000000  0.297998  0.541418  0.003878  0.020941   \n",
       "garagem     0.275522  0.297998  1.000000  0.349685  0.011411  0.025134   \n",
       "banheiro    0.401945  0.541418  0.349685  1.000000  0.011267  0.034356   \n",
       "area(m2)    0.026417  0.003878  0.011411  0.011267  1.000000  0.001488   \n",
       "iptu        0.015005  0.020941  0.025134  0.034356  0.001488  1.000000   \n",
       "condominio  0.004995 -0.008801 -0.009919 -0.005614 -0.000609 -0.000286   \n",
       "\n",
       "            condominio  \n",
       "valor         0.004995  \n",
       "quartos      -0.008801  \n",
       "garagem      -0.009919  \n",
       "banheiro     -0.005614  \n",
       "area(m2)     -0.000609  \n",
       "iptu         -0.000286  \n",
       "condominio    1.000000  "
      ]
     },
     "execution_count": 14,
     "metadata": {},
     "output_type": "execute_result"
    }
   ],
   "source": [
    "dados.corr()"
   ]
  },
  {
   "cell_type": "code",
   "execution_count": 15,
   "id": "b78d1508",
   "metadata": {},
   "outputs": [],
   "source": [
    "from sklearn.linear_model import LinearRegression\n",
    "from sklearn.model_selection import train_test_split\n",
    "from sklearn.preprocessing import StandardScaler"
   ]
  },
  {
   "cell_type": "code",
   "execution_count": 16,
   "id": "409041aa",
   "metadata": {},
   "outputs": [
    {
     "data": {
      "text/plain": [
       "LinearRegression()"
      ]
     },
     "execution_count": 16,
     "metadata": {},
     "output_type": "execute_result"
    }
   ],
   "source": [
    "modelo = LinearRegression()\n",
    "scaler = StandardScaler()\n",
    "x = dados[['quartos','garagem','garagem','banheiro','area(m2)','iptu','condominio']]\n",
    "y=dados['valor']\n",
    "scaler.fit(x)\n",
    "x_treino,x_test,y_treino,y_test = train_test_split(x,y)\n",
    "modelo.fit(x_treino,y_treino)"
   ]
  },
  {
   "cell_type": "code",
   "execution_count": 17,
   "id": "66d8e94c",
   "metadata": {},
   "outputs": [
    {
     "data": {
      "text/plain": [
       "0.10440311670333957"
      ]
     },
     "execution_count": 17,
     "metadata": {},
     "output_type": "execute_result"
    }
   ],
   "source": [
    "modelo.score(x_test,y_test)"
   ]
  },
  {
   "cell_type": "code",
   "execution_count": 18,
   "id": "708ad0cb",
   "metadata": {},
   "outputs": [
    {
     "data": {
      "text/html": [
       "<div>\n",
       "<style scoped>\n",
       "    .dataframe tbody tr th:only-of-type {\n",
       "        vertical-align: middle;\n",
       "    }\n",
       "\n",
       "    .dataframe tbody tr th {\n",
       "        vertical-align: top;\n",
       "    }\n",
       "\n",
       "    .dataframe thead th {\n",
       "        text-align: right;\n",
       "    }\n",
       "</style>\n",
       "<table border=\"1\" class=\"dataframe\">\n",
       "  <thead>\n",
       "    <tr style=\"text-align: right;\">\n",
       "      <th></th>\n",
       "      <th>quartos</th>\n",
       "      <th>garagem</th>\n",
       "      <th>garagem</th>\n",
       "      <th>banheiro</th>\n",
       "      <th>area(m2)</th>\n",
       "      <th>iptu</th>\n",
       "      <th>condominio</th>\n",
       "    </tr>\n",
       "  </thead>\n",
       "  <tbody>\n",
       "    <tr>\n",
       "      <th>0</th>\n",
       "      <td>2</td>\n",
       "      <td>4</td>\n",
       "      <td>4</td>\n",
       "      <td>3</td>\n",
       "      <td>200</td>\n",
       "      <td>0</td>\n",
       "      <td>0</td>\n",
       "    </tr>\n",
       "    <tr>\n",
       "      <th>1</th>\n",
       "      <td>2</td>\n",
       "      <td>2</td>\n",
       "      <td>2</td>\n",
       "      <td>1</td>\n",
       "      <td>60</td>\n",
       "      <td>55</td>\n",
       "      <td>0</td>\n",
       "    </tr>\n",
       "    <tr>\n",
       "      <th>2</th>\n",
       "      <td>5</td>\n",
       "      <td>5</td>\n",
       "      <td>5</td>\n",
       "      <td>3</td>\n",
       "      <td>300</td>\n",
       "      <td>0</td>\n",
       "      <td>0</td>\n",
       "    </tr>\n",
       "    <tr>\n",
       "      <th>3</th>\n",
       "      <td>3</td>\n",
       "      <td>3</td>\n",
       "      <td>3</td>\n",
       "      <td>2</td>\n",
       "      <td>100</td>\n",
       "      <td>0</td>\n",
       "      <td>0</td>\n",
       "    </tr>\n",
       "    <tr>\n",
       "      <th>4</th>\n",
       "      <td>3</td>\n",
       "      <td>4</td>\n",
       "      <td>4</td>\n",
       "      <td>1</td>\n",
       "      <td>125</td>\n",
       "      <td>0</td>\n",
       "      <td>0</td>\n",
       "    </tr>\n",
       "    <tr>\n",
       "      <th>...</th>\n",
       "      <td>...</td>\n",
       "      <td>...</td>\n",
       "      <td>...</td>\n",
       "      <td>...</td>\n",
       "      <td>...</td>\n",
       "      <td>...</td>\n",
       "      <td>...</td>\n",
       "    </tr>\n",
       "    <tr>\n",
       "      <th>9595</th>\n",
       "      <td>3</td>\n",
       "      <td>2</td>\n",
       "      <td>2</td>\n",
       "      <td>3</td>\n",
       "      <td>140</td>\n",
       "      <td>250</td>\n",
       "      <td>0</td>\n",
       "    </tr>\n",
       "    <tr>\n",
       "      <th>9596</th>\n",
       "      <td>4</td>\n",
       "      <td>2</td>\n",
       "      <td>2</td>\n",
       "      <td>3</td>\n",
       "      <td>220</td>\n",
       "      <td>198</td>\n",
       "      <td>150</td>\n",
       "    </tr>\n",
       "    <tr>\n",
       "      <th>9597</th>\n",
       "      <td>4</td>\n",
       "      <td>4</td>\n",
       "      <td>4</td>\n",
       "      <td>4</td>\n",
       "      <td>350</td>\n",
       "      <td>345</td>\n",
       "      <td>0</td>\n",
       "    </tr>\n",
       "    <tr>\n",
       "      <th>9598</th>\n",
       "      <td>2</td>\n",
       "      <td>2</td>\n",
       "      <td>2</td>\n",
       "      <td>2</td>\n",
       "      <td>165</td>\n",
       "      <td>68</td>\n",
       "      <td>0</td>\n",
       "    </tr>\n",
       "    <tr>\n",
       "      <th>9599</th>\n",
       "      <td>4</td>\n",
       "      <td>4</td>\n",
       "      <td>4</td>\n",
       "      <td>5</td>\n",
       "      <td>320</td>\n",
       "      <td>525</td>\n",
       "      <td>0</td>\n",
       "    </tr>\n",
       "  </tbody>\n",
       "</table>\n",
       "<p>9600 rows × 7 columns</p>\n",
       "</div>"
      ],
      "text/plain": [
       "      quartos  garagem  garagem  banheiro  area(m2)  iptu  condominio\n",
       "0           2        4        4         3       200     0           0\n",
       "1           2        2        2         1        60    55           0\n",
       "2           5        5        5         3       300     0           0\n",
       "3           3        3        3         2       100     0           0\n",
       "4           3        4        4         1       125     0           0\n",
       "...       ...      ...      ...       ...       ...   ...         ...\n",
       "9595        3        2        2         3       140   250           0\n",
       "9596        4        2        2         3       220   198         150\n",
       "9597        4        4        4         4       350   345           0\n",
       "9598        2        2        2         2       165    68           0\n",
       "9599        4        4        4         5       320   525           0\n",
       "\n",
       "[9600 rows x 7 columns]"
      ]
     },
     "execution_count": 18,
     "metadata": {},
     "output_type": "execute_result"
    }
   ],
   "source": [
    "x"
   ]
  },
  {
   "cell_type": "code",
   "execution_count": 19,
   "id": "d9d80011",
   "metadata": {},
   "outputs": [
    {
     "data": {
      "text/plain": [
       "0       1350000\n",
       "1        229900\n",
       "2       1000000\n",
       "3        350000\n",
       "4        270000\n",
       "         ...   \n",
       "9595    1200000\n",
       "9596     848000\n",
       "9597    1000000\n",
       "9598     590000\n",
       "9599    1190000\n",
       "Name: valor, Length: 9600, dtype: int64"
      ]
     },
     "execution_count": 19,
     "metadata": {},
     "output_type": "execute_result"
    }
   ],
   "source": [
    "y"
   ]
  },
  {
   "cell_type": "code",
   "execution_count": 20,
   "id": "a5ab80c1",
   "metadata": {},
   "outputs": [
    {
     "name": "stderr",
     "output_type": "stream",
     "text": [
      "/home/king/anaconda3/lib/python3.9/site-packages/sklearn/utils/validation.py:70: FutureWarning: Pass copy=0       1350000\n",
      "1        229900\n",
      "2       1000000\n",
      "3        350000\n",
      "4        270000\n",
      "         ...   \n",
      "9595    1200000\n",
      "9596     848000\n",
      "9597    1000000\n",
      "9598     590000\n",
      "9599    1190000\n",
      "Name: valor, Length: 9600, dtype: int64 as keyword args. From version 1.0 (renaming of 0.25) passing these as positional arguments will result in an error\n",
      "  warnings.warn(f\"Pass {args_msg} as keyword args. From version \"\n"
     ]
    },
    {
     "data": {
      "text/plain": [
       "StandardScaler(copy=0       1350000\n",
       "1        229900\n",
       "2       1000000\n",
       "3        350000\n",
       "4        270000\n",
       "         ...   \n",
       "9595    1200000\n",
       "9596     848000\n",
       "9597    1000000\n",
       "9598     590000\n",
       "9599    1190000\n",
       "Name: valor, Length: 9600, dtype: int64)"
      ]
     },
     "execution_count": 20,
     "metadata": {},
     "output_type": "execute_result"
    }
   ],
   "source": [
    "StandardScaler(y)"
   ]
  },
  {
   "cell_type": "code",
   "execution_count": null,
   "id": "1e00954f",
   "metadata": {},
   "outputs": [],
   "source": []
  }
 ],
 "metadata": {
  "kernelspec": {
   "display_name": "Python 3 (ipykernel)",
   "language": "python",
   "name": "python3"
  },
  "language_info": {
   "codemirror_mode": {
    "name": "ipython",
    "version": 3
   },
   "file_extension": ".py",
   "mimetype": "text/x-python",
   "name": "python",
   "nbconvert_exporter": "python",
   "pygments_lexer": "ipython3",
   "version": "3.9.7"
  },
  "varInspector": {
   "cols": {
    "lenName": 16,
    "lenType": 16,
    "lenVar": 40
   },
   "kernels_config": {
    "python": {
     "delete_cmd_postfix": "",
     "delete_cmd_prefix": "del ",
     "library": "var_list.py",
     "varRefreshCmd": "print(var_dic_list())"
    },
    "r": {
     "delete_cmd_postfix": ") ",
     "delete_cmd_prefix": "rm(",
     "library": "var_list.r",
     "varRefreshCmd": "cat(var_dic_list()) "
    }
   },
   "types_to_exclude": [
    "module",
    "function",
    "builtin_function_or_method",
    "instance",
    "_Feature"
   ],
   "window_display": false
  }
 },
 "nbformat": 4,
 "nbformat_minor": 5
}
